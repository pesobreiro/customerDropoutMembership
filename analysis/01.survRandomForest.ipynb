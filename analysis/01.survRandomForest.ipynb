{
 "cells": [
  {
   "cell_type": "markdown",
   "source": [
    "# Random Survival Forest\n",
    "\n",
    "Customer churn/attrition, a.k.a the percentage of customers that stop using paying \n",
    "services,\n",
    "is one of the most important metrics for a business, as it usually costs more to acquire new customers than it does to retain existing ones. Indeed, according to a study by Bain & Company, existing customers tend to buy more from a company over time, thus reducing the operating costs of the business and may refer the products they use to others. For example, in financial services, a 5% increase in customer retention produces more than a 25% increase in profit. By using Survival Analysis, not only companies can predict if customers are likely to stop doing business but also when that event might happen.\n",
    "\n",
    "## Methods\n",
    "\n",
    "In this study, we adopt random survival forests which have never been used in understanding \n",
    "factors affecting membership in a sport club using existing data in a Sport Club. \n",
    "The analysis is based on the use of random survival forests in the presence of covariates \n",
    "that do not necessarily satisfy the PH assumption. \n",
    "Random Survival Forests does not make the proportional hazards assumption (Ehrlinger, 2016) \n",
    "and has the flexibility to model survivor curves that are of dissimilar shapes for \n",
    "contrastinggroups of subjects. Random Survival Forest is an extension of Random Forest \n",
    "allowing efficient non-parametric analysis of time to event data (Breiman, 2001). \n",
    "This characteristcs allow us to surpass the Cox Regression limitation of the proportional hazard\n",
    "assumption, requiring to exclude variables which not fullfill the model assumption. \n",
    "It was shown by (Breiman, 2001) that ensemble learning can be further improved by injecting \n",
    "randomization into the base learning process - a method called Random Forests.  \n",
    "The random survival forest was developed using the package PySurvival (Fotso & Others, 2019)\n",
    "The most relevant variables predicting the dropout are analysed using the log-rank test. \n",
    "The metric variables are transformed to categorical using the quartiles to provide a statistical\n",
    "comparison of groups. \n",
    "The survival analysis was conducted using the package Lifelines (Davidson-Pilon et al., 2017).\n",
    "\n",
    "## Results\n",
    "The initial model has a c-index of 0.92. After removing estadoCivil_outro and ano c-index improved to 0.94. Without idade improved to 0.95. \n",
    "The most relevant variables predicting the dropout are:\n",
    "- mesesUP\n",
    "- valorTotal\n",
    "- anoUltimoPagamento\n",
    "- quotaMensal\n",
    "- escaloesTotalJogos_ate 1\n",
    "- jogosEpoca\n",
    "- escaloesTotalJogos_56 a 105\n",
    "- estadoCivil_solteiro\n",
    "- escaloesTotalJogos_21 a 56\n",
    "- escaloesTotalJogos_mais 105\n",
    "- sexo_M\n",
    "- estadoCivil_nao definido\n",
    "\n",
    "\n",
    "\n",
    "TODO: COLOCAR ESTA DESCRIÇÃO PARA TODAS AS VARIÁVEIS:\n",
    "There were identified significative differences between the gender groups (χ2=194.63, p < .005), wrenew two or more contracts, the survival probability for 12 months is 85.49%\n",
    "\n",
    "## Methods bibliography\n",
    "- Ehrlinger, J. (2016). ggRandomForests: Exploring Random Forest Survival. ArXiv:1612.08974 [Stat]. http://arxiv.org/abs/1612.08974\n",
    "- Breiman, L. (2001). Random Forests. Machine Learning, 45(1), 5–32. https://doi.org/10/d8zjwq\n",
    "- Fotso, S., & others. (2019). PySurvival: Open source package for Survival Analysis modeling. https://www.pysurvival.io/"
   ],
   "metadata": {}
  },
  {
   "cell_type": "markdown",
   "source": [
    "# Dataset\n",
    "Considering the sport club policies all the customers with payments less than 24 months where considered active:  \n",
    "- dt['abandonou'] = 0\n",
    "- dt.loc[dt['mesesUP']>=24,'abandonou']=1\n",
    "\n",
    "The variables extracted from the software correspond to the time interval of becoming a customer until the end of observation (censoring on 31 Maio 2019) or the end of the customer relationship (dropout). The survival time in the dataset is represented by the number of years the customer begin affilated.\n",
    "\n",
    "We extracted records of 25316 customers (male n=17246, female n=8070) from a sport club; data corresponded to the time period between October 1, 1944 and May 31, 2019. "
   ],
   "metadata": {}
  },
  {
   "cell_type": "code",
   "execution_count": 10,
   "source": [
    "from IPython.display import HTML\n",
    "from matplotlib import pyplot as plt\n",
    "import numpy as np\n",
    "import pandas as pd\n",
    "import datetime\n",
    "import seaborn as sns\n",
    "\n",
    "df = pd.read_excel('../data/membershipData.xlsx',index_col=0)"
   ],
   "outputs": [],
   "metadata": {}
  },
  {
   "cell_type": "markdown",
   "source": [
    "# Check file"
   ],
   "metadata": {}
  },
  {
   "cell_type": "code",
   "execution_count": 11,
   "source": [
    "df.columns"
   ],
   "outputs": [
    {
     "output_type": "execute_result",
     "data": {
      "text/plain": [
       "Index(['dataAdesao', 'ano', 'dataNascimento', 'idade', 'sexo', 'estadoCivil',\n",
       "       'categoria', 'quotaMensal', 'profissao', 'codPostal', 'ultimaQuota',\n",
       "       'ultimoPagamento', 'valorTotal', 'totalJogos', 'jogosEpoca',\n",
       "       'diasUltimoPagamento', 'mesesUP', 'abandonou', 'anosSocio',\n",
       "       'idaEstadio', 'escaloesTotalJogos', 'mes'],\n",
       "      dtype='object')"
      ]
     },
     "metadata": {},
     "execution_count": 11
    }
   ],
   "metadata": {}
  },
  {
   "cell_type": "code",
   "execution_count": 22,
   "source": [
    "df.columns = ['dtInscription','year','birthDate','age','sex','maritalStatus',\n",
    "             'category','monthlyFee','occupation','zipCode','dtLastInvoice','dtLastPayment','totalAmount',\n",
    "             'totalMatches','seasonMatches','daysSinceLastPayment','monthsSinceLastPayment','dropout',\n",
    "             'yearsMembership','stadiumAccess','quartStadiumEntries','inscriptionMonth']"
   ],
   "outputs": [],
   "metadata": {}
  },
  {
   "cell_type": "markdown",
   "source": [
    "## Description"
   ],
   "metadata": {}
  },
  {
   "cell_type": "markdown",
   "source": [
    "Variables:\n",
    "\n",
    "- 'dtInscription': Inscription Date\n",
    "- 'inscriptionYear': Inscription year\n",
    "- 'birthDate': Birth date of the member\n",
    "- 'age': age in years\n",
    "- 'sex': male or female \n",
    "- 'maritalStatus': single, undefined, married, other\n",
    "- 'category': student, male, female, under_14, athlete, retired, other\n",
    "- 'monthlyFee': value of the monthly fee in euros (1€, 2.5€, 5€, 6€, 10€)\n",
    "- 'occupation': student, retired, businessman, teacher, ... \n",
    "- 'zipCode': Zip Code\n",
    "- 'dtLastInvoice': Last invoice date\n",
    "- 'dtLastPayment': Last payment date\n",
    "- 'totalAmount': sum of invoice values\n",
    "- 'totalMatches': number of matches attended in the stadium\n",
    "- 'seasonMatches': number of matches attended in the current season\n",
    "- 'daysSinceLastPayment': number of days since the last payment\n",
    "- 'monthsSinceLastPayment': number of months since the last payment\n",
    "- 'dropout': dropout yes (1) no (0) - censured data\n",
    "- 'yearsMembership': number of years membership\n",
    "- 'stadiumAccess': the member go to the stadium: yes (1) and no (0)\n",
    "- 'quartStadiumEntries': quartiles number of access to the stadium\n",
    "- 'inscriptionMonth': inscription month\n",
    "\n",
    "\n",
    "Ei is the event indicator such that Ei=1, if an event happens and Ei=0 in case of censoring\n",
    "\n",
    "As variáveis categóricas foram transformadas em dummies:\n",
    "- sexo\n",
    "- estadoCivil\n",
    "- escaloesTotalJogos\n"
   ],
   "metadata": {}
  },
  {
   "cell_type": "code",
   "execution_count": 23,
   "source": [
    "df.sex.value_counts()"
   ],
   "outputs": [
    {
     "output_type": "execute_result",
     "data": {
      "text/plain": [
       "M    17246\n",
       "F     8070\n",
       "Name: sex, dtype: int64"
      ]
     },
     "metadata": {},
     "execution_count": 23
    }
   ],
   "metadata": {}
  },
  {
   "cell_type": "code",
   "execution_count": 24,
   "source": [
    "df.describe().T"
   ],
   "outputs": [
    {
     "output_type": "execute_result",
     "data": {
      "text/plain": [
       "                        count         mean         std     min          25%  \\\n",
       "year                  25316.0  2007.048033   10.937818  1944.0  2004.000000   \n",
       "age                   25316.0    27.262996   20.087078   -70.0    13.000000   \n",
       "monthlyFee            25316.0     4.356099    3.550837     0.0     1.000000   \n",
       "totalAmount           25316.0   316.037984  493.971528     0.0     5.000000   \n",
       "totalMatches          25316.0    26.535946   45.812996     0.0     0.000000   \n",
       "seasonMatches         25316.0     2.171631    4.076356     0.0     0.000000   \n",
       "daysSinceLastPayment  25316.0   586.277033  990.398069     0.0    83.994934   \n",
       "dropout               25316.0     0.221638    0.415357     0.0     0.000000   \n",
       "yearsMembership       25316.0    11.264339   10.908777     0.0     5.000000   \n",
       "stadiumAccess         25316.0     0.401367    0.490185     0.0     0.000000   \n",
       "inscriptionMonth      25316.0     6.875454    3.391117     1.0     4.000000   \n",
       "\n",
       "                              50%         75%          max  \n",
       "year                  2010.000000  2014.00000  2019.000000  \n",
       "age                     19.000000    41.00000   118.000000  \n",
       "monthlyFee               2.500000     6.00000    10.000000  \n",
       "totalAmount             53.000000   448.25000  2602.000000  \n",
       "totalMatches             0.000000    36.00000   197.000000  \n",
       "seasonMatches            0.000000     2.00000    16.000000  \n",
       "daysSinceLastPayment   122.113031   534.98242  4778.034828  \n",
       "dropout                  0.000000     0.00000     1.000000  \n",
       "yearsMembership          8.000000    14.00000    74.000000  \n",
       "stadiumAccess            0.000000     1.00000     1.000000  \n",
       "inscriptionMonth         8.000000     9.00000    12.000000  "
      ],
      "text/html": [
       "<div>\n",
       "<style scoped>\n",
       "    .dataframe tbody tr th:only-of-type {\n",
       "        vertical-align: middle;\n",
       "    }\n",
       "\n",
       "    .dataframe tbody tr th {\n",
       "        vertical-align: top;\n",
       "    }\n",
       "\n",
       "    .dataframe thead th {\n",
       "        text-align: right;\n",
       "    }\n",
       "</style>\n",
       "<table border=\"1\" class=\"dataframe\">\n",
       "  <thead>\n",
       "    <tr style=\"text-align: right;\">\n",
       "      <th></th>\n",
       "      <th>count</th>\n",
       "      <th>mean</th>\n",
       "      <th>std</th>\n",
       "      <th>min</th>\n",
       "      <th>25%</th>\n",
       "      <th>50%</th>\n",
       "      <th>75%</th>\n",
       "      <th>max</th>\n",
       "    </tr>\n",
       "  </thead>\n",
       "  <tbody>\n",
       "    <tr>\n",
       "      <th>year</th>\n",
       "      <td>25316.0</td>\n",
       "      <td>2007.048033</td>\n",
       "      <td>10.937818</td>\n",
       "      <td>1944.0</td>\n",
       "      <td>2004.000000</td>\n",
       "      <td>2010.000000</td>\n",
       "      <td>2014.00000</td>\n",
       "      <td>2019.000000</td>\n",
       "    </tr>\n",
       "    <tr>\n",
       "      <th>age</th>\n",
       "      <td>25316.0</td>\n",
       "      <td>27.262996</td>\n",
       "      <td>20.087078</td>\n",
       "      <td>-70.0</td>\n",
       "      <td>13.000000</td>\n",
       "      <td>19.000000</td>\n",
       "      <td>41.00000</td>\n",
       "      <td>118.000000</td>\n",
       "    </tr>\n",
       "    <tr>\n",
       "      <th>monthlyFee</th>\n",
       "      <td>25316.0</td>\n",
       "      <td>4.356099</td>\n",
       "      <td>3.550837</td>\n",
       "      <td>0.0</td>\n",
       "      <td>1.000000</td>\n",
       "      <td>2.500000</td>\n",
       "      <td>6.00000</td>\n",
       "      <td>10.000000</td>\n",
       "    </tr>\n",
       "    <tr>\n",
       "      <th>totalAmount</th>\n",
       "      <td>25316.0</td>\n",
       "      <td>316.037984</td>\n",
       "      <td>493.971528</td>\n",
       "      <td>0.0</td>\n",
       "      <td>5.000000</td>\n",
       "      <td>53.000000</td>\n",
       "      <td>448.25000</td>\n",
       "      <td>2602.000000</td>\n",
       "    </tr>\n",
       "    <tr>\n",
       "      <th>totalMatches</th>\n",
       "      <td>25316.0</td>\n",
       "      <td>26.535946</td>\n",
       "      <td>45.812996</td>\n",
       "      <td>0.0</td>\n",
       "      <td>0.000000</td>\n",
       "      <td>0.000000</td>\n",
       "      <td>36.00000</td>\n",
       "      <td>197.000000</td>\n",
       "    </tr>\n",
       "    <tr>\n",
       "      <th>seasonMatches</th>\n",
       "      <td>25316.0</td>\n",
       "      <td>2.171631</td>\n",
       "      <td>4.076356</td>\n",
       "      <td>0.0</td>\n",
       "      <td>0.000000</td>\n",
       "      <td>0.000000</td>\n",
       "      <td>2.00000</td>\n",
       "      <td>16.000000</td>\n",
       "    </tr>\n",
       "    <tr>\n",
       "      <th>daysSinceLastPayment</th>\n",
       "      <td>25316.0</td>\n",
       "      <td>586.277033</td>\n",
       "      <td>990.398069</td>\n",
       "      <td>0.0</td>\n",
       "      <td>83.994934</td>\n",
       "      <td>122.113031</td>\n",
       "      <td>534.98242</td>\n",
       "      <td>4778.034828</td>\n",
       "    </tr>\n",
       "    <tr>\n",
       "      <th>dropout</th>\n",
       "      <td>25316.0</td>\n",
       "      <td>0.221638</td>\n",
       "      <td>0.415357</td>\n",
       "      <td>0.0</td>\n",
       "      <td>0.000000</td>\n",
       "      <td>0.000000</td>\n",
       "      <td>0.00000</td>\n",
       "      <td>1.000000</td>\n",
       "    </tr>\n",
       "    <tr>\n",
       "      <th>yearsMembership</th>\n",
       "      <td>25316.0</td>\n",
       "      <td>11.264339</td>\n",
       "      <td>10.908777</td>\n",
       "      <td>0.0</td>\n",
       "      <td>5.000000</td>\n",
       "      <td>8.000000</td>\n",
       "      <td>14.00000</td>\n",
       "      <td>74.000000</td>\n",
       "    </tr>\n",
       "    <tr>\n",
       "      <th>stadiumAccess</th>\n",
       "      <td>25316.0</td>\n",
       "      <td>0.401367</td>\n",
       "      <td>0.490185</td>\n",
       "      <td>0.0</td>\n",
       "      <td>0.000000</td>\n",
       "      <td>0.000000</td>\n",
       "      <td>1.00000</td>\n",
       "      <td>1.000000</td>\n",
       "    </tr>\n",
       "    <tr>\n",
       "      <th>inscriptionMonth</th>\n",
       "      <td>25316.0</td>\n",
       "      <td>6.875454</td>\n",
       "      <td>3.391117</td>\n",
       "      <td>1.0</td>\n",
       "      <td>4.000000</td>\n",
       "      <td>8.000000</td>\n",
       "      <td>9.00000</td>\n",
       "      <td>12.000000</td>\n",
       "    </tr>\n",
       "  </tbody>\n",
       "</table>\n",
       "</div>"
      ]
     },
     "metadata": {},
     "execution_count": 24
    }
   ],
   "metadata": {}
  },
  {
   "cell_type": "code",
   "execution_count": 25,
   "source": [
    "df.info()"
   ],
   "outputs": [
    {
     "output_type": "stream",
     "name": "stdout",
     "text": [
      "<class 'pandas.core.frame.DataFrame'>\n",
      "Int64Index: 25316 entries, 1 to 25316\n",
      "Data columns (total 22 columns):\n",
      " #   Column                  Non-Null Count  Dtype         \n",
      "---  ------                  --------------  -----         \n",
      " 0   dtInscription           25316 non-null  datetime64[ns]\n",
      " 1   year                    25316 non-null  int64         \n",
      " 2   birthDate               25316 non-null  object        \n",
      " 3   age                     25316 non-null  int64         \n",
      " 4   sex                     25316 non-null  object        \n",
      " 5   maritalStatus           25316 non-null  object        \n",
      " 6   category                25316 non-null  object        \n",
      " 7   monthlyFee              25316 non-null  float64       \n",
      " 8   occupation              25316 non-null  object        \n",
      " 9   zipCode                 25316 non-null  object        \n",
      " 10  dtLastInvoice           25316 non-null  object        \n",
      " 11  dtLastPayment           25316 non-null  object        \n",
      " 12  totalAmount             25316 non-null  float64       \n",
      " 13  totalMatches            25316 non-null  int64         \n",
      " 14  seasonMatches           25316 non-null  int64         \n",
      " 15  daysSinceLastPayment    25316 non-null  float64       \n",
      " 16  monthsSinceLastPayment  25316 non-null  datetime64[ns]\n",
      " 17  dropout                 25316 non-null  int64         \n",
      " 18  yearsMembership         25316 non-null  int64         \n",
      " 19  stadiumAccess           25316 non-null  int64         \n",
      " 20  quartStadiumEntries     25316 non-null  object        \n",
      " 21  inscriptionMonth        25316 non-null  int64         \n",
      "dtypes: datetime64[ns](2), float64(3), int64(8), object(9)\n",
      "memory usage: 4.4+ MB\n"
     ]
    }
   ],
   "metadata": {}
  },
  {
   "cell_type": "code",
   "execution_count": 26,
   "source": [
    "df.head().T"
   ],
   "outputs": [
    {
     "output_type": "execute_result",
     "data": {
      "text/plain": [
       "Sócio                                               1  \\\n",
       "dtInscription                     1944-10-01 00:00:00   \n",
       "year                                             1944   \n",
       "birthDate                         1935-05-11 00:00:00   \n",
       "age                                                83   \n",
       "sex                                                 M   \n",
       "maritalStatus                                  casado   \n",
       "category                                        homem   \n",
       "monthlyFee                                       10.0   \n",
       "occupation                                     MEDICO   \n",
       "zipCode                                      4715-196   \n",
       "dtLastInvoice                                 2019-12   \n",
       "dtLastPayment              2019-01-21 10:45:33.540000   \n",
       "totalAmount                                    1906.0   \n",
       "totalMatches                                        0   \n",
       "seasonMatches                                       0   \n",
       "daysSinceLastPayment                       103.308984   \n",
       "monthsSinceLastPayment  1970-01-01 00:00:00.000000003   \n",
       "dropout                                             0   \n",
       "yearsMembership                                    74   \n",
       "stadiumAccess                                       0   \n",
       "quartStadiumEntries                             ate 1   \n",
       "inscriptionMonth                                   10   \n",
       "\n",
       "Sócio                                               2  \\\n",
       "dtInscription                     1944-10-01 00:00:00   \n",
       "year                                             1944   \n",
       "birthDate                         1930-09-29 00:00:00   \n",
       "age                                                88   \n",
       "sex                                                 M   \n",
       "maritalStatus                                solteiro   \n",
       "category                                        homem   \n",
       "monthlyFee                                       10.0   \n",
       "occupation                                     MEDICO   \n",
       "zipCode                                      4715-196   \n",
       "dtLastInvoice                                 2019-12   \n",
       "dtLastPayment              2019-01-11 16:49:24.640000   \n",
       "totalAmount                                    1906.0   \n",
       "totalMatches                                        0   \n",
       "seasonMatches                                       0   \n",
       "daysSinceLastPayment                       113.056309   \n",
       "monthsSinceLastPayment  1970-01-01 00:00:00.000000003   \n",
       "dropout                                             0   \n",
       "yearsMembership                                    74   \n",
       "stadiumAccess                                       0   \n",
       "quartStadiumEntries                             ate 1   \n",
       "inscriptionMonth                                   10   \n",
       "\n",
       "Sócio                                               3  \\\n",
       "dtInscription                     1945-08-24 00:00:00   \n",
       "year                                             1945   \n",
       "birthDate                         1945-08-24 00:00:00   \n",
       "age                                                73   \n",
       "sex                                                 M   \n",
       "maritalStatus                            nao definido   \n",
       "category                                        homem   \n",
       "monthlyFee                                       10.0   \n",
       "occupation                         GERENTE INDUSTRIAL   \n",
       "zipCode                                    4700 - 699   \n",
       "dtLastInvoice                                 2016-12   \n",
       "dtLastPayment              2016-04-29 17:25:33.810000   \n",
       "totalAmount                                    1553.0   \n",
       "totalMatches                                        0   \n",
       "seasonMatches                                       0   \n",
       "daysSinceLastPayment                      1100.031203   \n",
       "monthsSinceLastPayment  1970-01-01 00:00:00.000000036   \n",
       "dropout                                             1   \n",
       "yearsMembership                                    73   \n",
       "stadiumAccess                                       0   \n",
       "quartStadiumEntries                             ate 1   \n",
       "inscriptionMonth                                    8   \n",
       "\n",
       "Sócio                                               4  \\\n",
       "dtInscription                     1945-09-01 00:00:00   \n",
       "year                                             1945   \n",
       "birthDate                         1921-05-27 00:00:00   \n",
       "age                                                97   \n",
       "sex                                                 M   \n",
       "maritalStatus                                  casado   \n",
       "category                                    reformado   \n",
       "monthlyFee                                        5.0   \n",
       "occupation                                  REFORMADO   \n",
       "zipCode                                      4740-033   \n",
       "dtLastInvoice                                 2018-12   \n",
       "dtLastPayment              2018-08-12 19:28:16.463000   \n",
       "totalAmount                                     790.0   \n",
       "totalMatches                                        0   \n",
       "seasonMatches                                       0   \n",
       "daysSinceLastPayment                       264.945987   \n",
       "monthsSinceLastPayment  1970-01-01 00:00:00.000000008   \n",
       "dropout                                             0   \n",
       "yearsMembership                                    73   \n",
       "stadiumAccess                                       0   \n",
       "quartStadiumEntries                             ate 1   \n",
       "inscriptionMonth                                    9   \n",
       "\n",
       "Sócio                                               5  \n",
       "dtInscription                     1945-09-01 00:00:00  \n",
       "year                                             1945  \n",
       "birthDate                         1921-03-08 00:00:00  \n",
       "age                                                97  \n",
       "sex                                                 M  \n",
       "maritalStatus                                   outro  \n",
       "category                                        homem  \n",
       "monthlyFee                                       10.0  \n",
       "occupation                                  REFORMADO  \n",
       "zipCode                                      4700-055  \n",
       "dtLastInvoice                                 2016-04  \n",
       "dtLastPayment              2016-05-09 19:32:00.657000  \n",
       "totalAmount                                    1466.0  \n",
       "totalMatches                                        0  \n",
       "seasonMatches                                       0  \n",
       "daysSinceLastPayment                      1089.943393  \n",
       "monthsSinceLastPayment  1970-01-01 00:00:00.000000035  \n",
       "dropout                                             1  \n",
       "yearsMembership                                    73  \n",
       "stadiumAccess                                       0  \n",
       "quartStadiumEntries                             ate 1  \n",
       "inscriptionMonth                                    9  "
      ],
      "text/html": [
       "<div>\n",
       "<style scoped>\n",
       "    .dataframe tbody tr th:only-of-type {\n",
       "        vertical-align: middle;\n",
       "    }\n",
       "\n",
       "    .dataframe tbody tr th {\n",
       "        vertical-align: top;\n",
       "    }\n",
       "\n",
       "    .dataframe thead th {\n",
       "        text-align: right;\n",
       "    }\n",
       "</style>\n",
       "<table border=\"1\" class=\"dataframe\">\n",
       "  <thead>\n",
       "    <tr style=\"text-align: right;\">\n",
       "      <th>Sócio</th>\n",
       "      <th>1</th>\n",
       "      <th>2</th>\n",
       "      <th>3</th>\n",
       "      <th>4</th>\n",
       "      <th>5</th>\n",
       "    </tr>\n",
       "  </thead>\n",
       "  <tbody>\n",
       "    <tr>\n",
       "      <th>dtInscription</th>\n",
       "      <td>1944-10-01 00:00:00</td>\n",
       "      <td>1944-10-01 00:00:00</td>\n",
       "      <td>1945-08-24 00:00:00</td>\n",
       "      <td>1945-09-01 00:00:00</td>\n",
       "      <td>1945-09-01 00:00:00</td>\n",
       "    </tr>\n",
       "    <tr>\n",
       "      <th>year</th>\n",
       "      <td>1944</td>\n",
       "      <td>1944</td>\n",
       "      <td>1945</td>\n",
       "      <td>1945</td>\n",
       "      <td>1945</td>\n",
       "    </tr>\n",
       "    <tr>\n",
       "      <th>birthDate</th>\n",
       "      <td>1935-05-11 00:00:00</td>\n",
       "      <td>1930-09-29 00:00:00</td>\n",
       "      <td>1945-08-24 00:00:00</td>\n",
       "      <td>1921-05-27 00:00:00</td>\n",
       "      <td>1921-03-08 00:00:00</td>\n",
       "    </tr>\n",
       "    <tr>\n",
       "      <th>age</th>\n",
       "      <td>83</td>\n",
       "      <td>88</td>\n",
       "      <td>73</td>\n",
       "      <td>97</td>\n",
       "      <td>97</td>\n",
       "    </tr>\n",
       "    <tr>\n",
       "      <th>sex</th>\n",
       "      <td>M</td>\n",
       "      <td>M</td>\n",
       "      <td>M</td>\n",
       "      <td>M</td>\n",
       "      <td>M</td>\n",
       "    </tr>\n",
       "    <tr>\n",
       "      <th>maritalStatus</th>\n",
       "      <td>casado</td>\n",
       "      <td>solteiro</td>\n",
       "      <td>nao definido</td>\n",
       "      <td>casado</td>\n",
       "      <td>outro</td>\n",
       "    </tr>\n",
       "    <tr>\n",
       "      <th>category</th>\n",
       "      <td>homem</td>\n",
       "      <td>homem</td>\n",
       "      <td>homem</td>\n",
       "      <td>reformado</td>\n",
       "      <td>homem</td>\n",
       "    </tr>\n",
       "    <tr>\n",
       "      <th>monthlyFee</th>\n",
       "      <td>10.0</td>\n",
       "      <td>10.0</td>\n",
       "      <td>10.0</td>\n",
       "      <td>5.0</td>\n",
       "      <td>10.0</td>\n",
       "    </tr>\n",
       "    <tr>\n",
       "      <th>occupation</th>\n",
       "      <td>MEDICO</td>\n",
       "      <td>MEDICO</td>\n",
       "      <td>GERENTE INDUSTRIAL</td>\n",
       "      <td>REFORMADO</td>\n",
       "      <td>REFORMADO</td>\n",
       "    </tr>\n",
       "    <tr>\n",
       "      <th>zipCode</th>\n",
       "      <td>4715-196</td>\n",
       "      <td>4715-196</td>\n",
       "      <td>4700 - 699</td>\n",
       "      <td>4740-033</td>\n",
       "      <td>4700-055</td>\n",
       "    </tr>\n",
       "    <tr>\n",
       "      <th>dtLastInvoice</th>\n",
       "      <td>2019-12</td>\n",
       "      <td>2019-12</td>\n",
       "      <td>2016-12</td>\n",
       "      <td>2018-12</td>\n",
       "      <td>2016-04</td>\n",
       "    </tr>\n",
       "    <tr>\n",
       "      <th>dtLastPayment</th>\n",
       "      <td>2019-01-21 10:45:33.540000</td>\n",
       "      <td>2019-01-11 16:49:24.640000</td>\n",
       "      <td>2016-04-29 17:25:33.810000</td>\n",
       "      <td>2018-08-12 19:28:16.463000</td>\n",
       "      <td>2016-05-09 19:32:00.657000</td>\n",
       "    </tr>\n",
       "    <tr>\n",
       "      <th>totalAmount</th>\n",
       "      <td>1906.0</td>\n",
       "      <td>1906.0</td>\n",
       "      <td>1553.0</td>\n",
       "      <td>790.0</td>\n",
       "      <td>1466.0</td>\n",
       "    </tr>\n",
       "    <tr>\n",
       "      <th>totalMatches</th>\n",
       "      <td>0</td>\n",
       "      <td>0</td>\n",
       "      <td>0</td>\n",
       "      <td>0</td>\n",
       "      <td>0</td>\n",
       "    </tr>\n",
       "    <tr>\n",
       "      <th>seasonMatches</th>\n",
       "      <td>0</td>\n",
       "      <td>0</td>\n",
       "      <td>0</td>\n",
       "      <td>0</td>\n",
       "      <td>0</td>\n",
       "    </tr>\n",
       "    <tr>\n",
       "      <th>daysSinceLastPayment</th>\n",
       "      <td>103.308984</td>\n",
       "      <td>113.056309</td>\n",
       "      <td>1100.031203</td>\n",
       "      <td>264.945987</td>\n",
       "      <td>1089.943393</td>\n",
       "    </tr>\n",
       "    <tr>\n",
       "      <th>monthsSinceLastPayment</th>\n",
       "      <td>1970-01-01 00:00:00.000000003</td>\n",
       "      <td>1970-01-01 00:00:00.000000003</td>\n",
       "      <td>1970-01-01 00:00:00.000000036</td>\n",
       "      <td>1970-01-01 00:00:00.000000008</td>\n",
       "      <td>1970-01-01 00:00:00.000000035</td>\n",
       "    </tr>\n",
       "    <tr>\n",
       "      <th>dropout</th>\n",
       "      <td>0</td>\n",
       "      <td>0</td>\n",
       "      <td>1</td>\n",
       "      <td>0</td>\n",
       "      <td>1</td>\n",
       "    </tr>\n",
       "    <tr>\n",
       "      <th>yearsMembership</th>\n",
       "      <td>74</td>\n",
       "      <td>74</td>\n",
       "      <td>73</td>\n",
       "      <td>73</td>\n",
       "      <td>73</td>\n",
       "    </tr>\n",
       "    <tr>\n",
       "      <th>stadiumAccess</th>\n",
       "      <td>0</td>\n",
       "      <td>0</td>\n",
       "      <td>0</td>\n",
       "      <td>0</td>\n",
       "      <td>0</td>\n",
       "    </tr>\n",
       "    <tr>\n",
       "      <th>quartStadiumEntries</th>\n",
       "      <td>ate 1</td>\n",
       "      <td>ate 1</td>\n",
       "      <td>ate 1</td>\n",
       "      <td>ate 1</td>\n",
       "      <td>ate 1</td>\n",
       "    </tr>\n",
       "    <tr>\n",
       "      <th>inscriptionMonth</th>\n",
       "      <td>10</td>\n",
       "      <td>10</td>\n",
       "      <td>8</td>\n",
       "      <td>9</td>\n",
       "      <td>9</td>\n",
       "    </tr>\n",
       "  </tbody>\n",
       "</table>\n",
       "</div>"
      ]
     },
     "metadata": {},
     "execution_count": 26
    }
   ],
   "metadata": {}
  },
  {
   "cell_type": "code",
   "execution_count": 27,
   "source": [
    "df.tail().T"
   ],
   "outputs": [
    {
     "output_type": "execute_result",
     "data": {
      "text/plain": [
       "Sócio                                           25312  \\\n",
       "dtInscription                     2019-02-21 00:00:00   \n",
       "year                                             2019   \n",
       "birthDate                         2011-04-14 00:00:00   \n",
       "age                                                 7   \n",
       "sex                                                 M   \n",
       "maritalStatus                                solteiro   \n",
       "category                                        sub14   \n",
       "monthlyFee                                        1.0   \n",
       "occupation                                          0   \n",
       "zipCode                                      4710-411   \n",
       "dtLastInvoice                                 2020-01   \n",
       "dtLastPayment              2019-02-21 11:03:14.367000   \n",
       "totalAmount                                      17.0   \n",
       "totalMatches                                        0   \n",
       "seasonMatches                                       0   \n",
       "daysSinceLastPayment                        72.296706   \n",
       "monthsSinceLastPayment  1970-01-01 00:00:00.000000002   \n",
       "dropout                                             0   \n",
       "yearsMembership                                     0   \n",
       "stadiumAccess                                       0   \n",
       "quartStadiumEntries                             ate 1   \n",
       "inscriptionMonth                                    2   \n",
       "\n",
       "Sócio                                           25313  \\\n",
       "dtInscription                     2019-02-21 00:00:00   \n",
       "year                                             2019   \n",
       "birthDate                         2010-05-26 00:00:00   \n",
       "age                                                 8   \n",
       "sex                                                 M   \n",
       "maritalStatus                                solteiro   \n",
       "category                                       atleta   \n",
       "monthlyFee                                        1.0   \n",
       "occupation                                  ESTUDANTE   \n",
       "zipCode                                      4715-404   \n",
       "dtLastInvoice                                 2020-01   \n",
       "dtLastPayment              2019-02-21 11:41:59.797000   \n",
       "totalAmount                                      12.0   \n",
       "totalMatches                                        0   \n",
       "seasonMatches                                       0   \n",
       "daysSinceLastPayment                        72.269791   \n",
       "monthsSinceLastPayment  1970-01-01 00:00:00.000000002   \n",
       "dropout                                             0   \n",
       "yearsMembership                                     0   \n",
       "stadiumAccess                                       0   \n",
       "quartStadiumEntries                             ate 1   \n",
       "inscriptionMonth                                    2   \n",
       "\n",
       "Sócio                                           25314  \\\n",
       "dtInscription                     2019-02-21 00:00:00   \n",
       "year                                             2019   \n",
       "birthDate                         2016-11-24 00:00:00   \n",
       "age                                                 2   \n",
       "sex                                                 M   \n",
       "maritalStatus                                solteiro   \n",
       "category                                        sub14   \n",
       "monthlyFee                                        1.0   \n",
       "occupation                                  ESTUDANTE   \n",
       "zipCode                                    4715 - 586   \n",
       "dtLastInvoice                                 2020-01   \n",
       "dtLastPayment              2019-02-21 15:53:35.253000   \n",
       "totalAmount                                      17.0   \n",
       "totalMatches                                        0   \n",
       "seasonMatches                                       0   \n",
       "daysSinceLastPayment                        72.095076   \n",
       "monthsSinceLastPayment  1970-01-01 00:00:00.000000002   \n",
       "dropout                                             0   \n",
       "yearsMembership                                     0   \n",
       "stadiumAccess                                       0   \n",
       "quartStadiumEntries                             ate 1   \n",
       "inscriptionMonth                                    2   \n",
       "\n",
       "Sócio                                           25315  \\\n",
       "dtInscription                     2019-02-21 00:00:00   \n",
       "year                                             2019   \n",
       "birthDate                         2004-06-30 00:00:00   \n",
       "age                                                14   \n",
       "sex                                                 M   \n",
       "maritalStatus                                solteiro   \n",
       "category                                        sub14   \n",
       "monthlyFee                                        1.0   \n",
       "occupation                                  ESTUDANTE   \n",
       "zipCode                                     4715 -028   \n",
       "dtLastInvoice                                 2020-01   \n",
       "dtLastPayment              2019-02-21 18:55:03.097000   \n",
       "totalAmount                                      17.0   \n",
       "totalMatches                                        0   \n",
       "seasonMatches                                       0   \n",
       "daysSinceLastPayment                        71.969059   \n",
       "monthsSinceLastPayment  1970-01-01 00:00:00.000000002   \n",
       "dropout                                             0   \n",
       "yearsMembership                                     0   \n",
       "stadiumAccess                                       0   \n",
       "quartStadiumEntries                             ate 1   \n",
       "inscriptionMonth                                    2   \n",
       "\n",
       "Sócio                                           25316  \n",
       "dtInscription                     2019-02-21 00:00:00  \n",
       "year                                             2019  \n",
       "birthDate                         1990-05-23 00:00:00  \n",
       "age                                                28  \n",
       "sex                                                 M  \n",
       "maritalStatus                                solteiro  \n",
       "category                                        homem  \n",
       "monthlyFee                                       10.0  \n",
       "occupation                               ADJ. COZINHA  \n",
       "zipCode                                      4700-277  \n",
       "dtLastInvoice                                 2019-04  \n",
       "dtLastPayment              2019-02-21 18:58:32.137000  \n",
       "totalAmount                                       0.0  \n",
       "totalMatches                                        0  \n",
       "seasonMatches                                       0  \n",
       "daysSinceLastPayment                        71.966639  \n",
       "monthsSinceLastPayment  1970-01-01 00:00:00.000000002  \n",
       "dropout                                             0  \n",
       "yearsMembership                                     0  \n",
       "stadiumAccess                                       0  \n",
       "quartStadiumEntries                             ate 1  \n",
       "inscriptionMonth                                    2  "
      ],
      "text/html": [
       "<div>\n",
       "<style scoped>\n",
       "    .dataframe tbody tr th:only-of-type {\n",
       "        vertical-align: middle;\n",
       "    }\n",
       "\n",
       "    .dataframe tbody tr th {\n",
       "        vertical-align: top;\n",
       "    }\n",
       "\n",
       "    .dataframe thead th {\n",
       "        text-align: right;\n",
       "    }\n",
       "</style>\n",
       "<table border=\"1\" class=\"dataframe\">\n",
       "  <thead>\n",
       "    <tr style=\"text-align: right;\">\n",
       "      <th>Sócio</th>\n",
       "      <th>25312</th>\n",
       "      <th>25313</th>\n",
       "      <th>25314</th>\n",
       "      <th>25315</th>\n",
       "      <th>25316</th>\n",
       "    </tr>\n",
       "  </thead>\n",
       "  <tbody>\n",
       "    <tr>\n",
       "      <th>dtInscription</th>\n",
       "      <td>2019-02-21 00:00:00</td>\n",
       "      <td>2019-02-21 00:00:00</td>\n",
       "      <td>2019-02-21 00:00:00</td>\n",
       "      <td>2019-02-21 00:00:00</td>\n",
       "      <td>2019-02-21 00:00:00</td>\n",
       "    </tr>\n",
       "    <tr>\n",
       "      <th>year</th>\n",
       "      <td>2019</td>\n",
       "      <td>2019</td>\n",
       "      <td>2019</td>\n",
       "      <td>2019</td>\n",
       "      <td>2019</td>\n",
       "    </tr>\n",
       "    <tr>\n",
       "      <th>birthDate</th>\n",
       "      <td>2011-04-14 00:00:00</td>\n",
       "      <td>2010-05-26 00:00:00</td>\n",
       "      <td>2016-11-24 00:00:00</td>\n",
       "      <td>2004-06-30 00:00:00</td>\n",
       "      <td>1990-05-23 00:00:00</td>\n",
       "    </tr>\n",
       "    <tr>\n",
       "      <th>age</th>\n",
       "      <td>7</td>\n",
       "      <td>8</td>\n",
       "      <td>2</td>\n",
       "      <td>14</td>\n",
       "      <td>28</td>\n",
       "    </tr>\n",
       "    <tr>\n",
       "      <th>sex</th>\n",
       "      <td>M</td>\n",
       "      <td>M</td>\n",
       "      <td>M</td>\n",
       "      <td>M</td>\n",
       "      <td>M</td>\n",
       "    </tr>\n",
       "    <tr>\n",
       "      <th>maritalStatus</th>\n",
       "      <td>solteiro</td>\n",
       "      <td>solteiro</td>\n",
       "      <td>solteiro</td>\n",
       "      <td>solteiro</td>\n",
       "      <td>solteiro</td>\n",
       "    </tr>\n",
       "    <tr>\n",
       "      <th>category</th>\n",
       "      <td>sub14</td>\n",
       "      <td>atleta</td>\n",
       "      <td>sub14</td>\n",
       "      <td>sub14</td>\n",
       "      <td>homem</td>\n",
       "    </tr>\n",
       "    <tr>\n",
       "      <th>monthlyFee</th>\n",
       "      <td>1.0</td>\n",
       "      <td>1.0</td>\n",
       "      <td>1.0</td>\n",
       "      <td>1.0</td>\n",
       "      <td>10.0</td>\n",
       "    </tr>\n",
       "    <tr>\n",
       "      <th>occupation</th>\n",
       "      <td>0</td>\n",
       "      <td>ESTUDANTE</td>\n",
       "      <td>ESTUDANTE</td>\n",
       "      <td>ESTUDANTE</td>\n",
       "      <td>ADJ. COZINHA</td>\n",
       "    </tr>\n",
       "    <tr>\n",
       "      <th>zipCode</th>\n",
       "      <td>4710-411</td>\n",
       "      <td>4715-404</td>\n",
       "      <td>4715 - 586</td>\n",
       "      <td>4715 -028</td>\n",
       "      <td>4700-277</td>\n",
       "    </tr>\n",
       "    <tr>\n",
       "      <th>dtLastInvoice</th>\n",
       "      <td>2020-01</td>\n",
       "      <td>2020-01</td>\n",
       "      <td>2020-01</td>\n",
       "      <td>2020-01</td>\n",
       "      <td>2019-04</td>\n",
       "    </tr>\n",
       "    <tr>\n",
       "      <th>dtLastPayment</th>\n",
       "      <td>2019-02-21 11:03:14.367000</td>\n",
       "      <td>2019-02-21 11:41:59.797000</td>\n",
       "      <td>2019-02-21 15:53:35.253000</td>\n",
       "      <td>2019-02-21 18:55:03.097000</td>\n",
       "      <td>2019-02-21 18:58:32.137000</td>\n",
       "    </tr>\n",
       "    <tr>\n",
       "      <th>totalAmount</th>\n",
       "      <td>17.0</td>\n",
       "      <td>12.0</td>\n",
       "      <td>17.0</td>\n",
       "      <td>17.0</td>\n",
       "      <td>0.0</td>\n",
       "    </tr>\n",
       "    <tr>\n",
       "      <th>totalMatches</th>\n",
       "      <td>0</td>\n",
       "      <td>0</td>\n",
       "      <td>0</td>\n",
       "      <td>0</td>\n",
       "      <td>0</td>\n",
       "    </tr>\n",
       "    <tr>\n",
       "      <th>seasonMatches</th>\n",
       "      <td>0</td>\n",
       "      <td>0</td>\n",
       "      <td>0</td>\n",
       "      <td>0</td>\n",
       "      <td>0</td>\n",
       "    </tr>\n",
       "    <tr>\n",
       "      <th>daysSinceLastPayment</th>\n",
       "      <td>72.296706</td>\n",
       "      <td>72.269791</td>\n",
       "      <td>72.095076</td>\n",
       "      <td>71.969059</td>\n",
       "      <td>71.966639</td>\n",
       "    </tr>\n",
       "    <tr>\n",
       "      <th>monthsSinceLastPayment</th>\n",
       "      <td>1970-01-01 00:00:00.000000002</td>\n",
       "      <td>1970-01-01 00:00:00.000000002</td>\n",
       "      <td>1970-01-01 00:00:00.000000002</td>\n",
       "      <td>1970-01-01 00:00:00.000000002</td>\n",
       "      <td>1970-01-01 00:00:00.000000002</td>\n",
       "    </tr>\n",
       "    <tr>\n",
       "      <th>dropout</th>\n",
       "      <td>0</td>\n",
       "      <td>0</td>\n",
       "      <td>0</td>\n",
       "      <td>0</td>\n",
       "      <td>0</td>\n",
       "    </tr>\n",
       "    <tr>\n",
       "      <th>yearsMembership</th>\n",
       "      <td>0</td>\n",
       "      <td>0</td>\n",
       "      <td>0</td>\n",
       "      <td>0</td>\n",
       "      <td>0</td>\n",
       "    </tr>\n",
       "    <tr>\n",
       "      <th>stadiumAccess</th>\n",
       "      <td>0</td>\n",
       "      <td>0</td>\n",
       "      <td>0</td>\n",
       "      <td>0</td>\n",
       "      <td>0</td>\n",
       "    </tr>\n",
       "    <tr>\n",
       "      <th>quartStadiumEntries</th>\n",
       "      <td>ate 1</td>\n",
       "      <td>ate 1</td>\n",
       "      <td>ate 1</td>\n",
       "      <td>ate 1</td>\n",
       "      <td>ate 1</td>\n",
       "    </tr>\n",
       "    <tr>\n",
       "      <th>inscriptionMonth</th>\n",
       "      <td>2</td>\n",
       "      <td>2</td>\n",
       "      <td>2</td>\n",
       "      <td>2</td>\n",
       "      <td>2</td>\n",
       "    </tr>\n",
       "  </tbody>\n",
       "</table>\n",
       "</div>"
      ]
     },
     "metadata": {},
     "execution_count": 27
    }
   ],
   "metadata": {}
  },
  {
   "cell_type": "markdown",
   "source": [
    "## Convert dateLastPayment to date data type "
   ],
   "metadata": {}
  },
  {
   "cell_type": "code",
   "execution_count": 28,
   "source": [
    "df['dtLastPayment'] = pd.to_datetime(df['dtLastPayment'],format='%Y-%m-%d %H:%M', errors='coerce')"
   ],
   "outputs": [],
   "metadata": {}
  },
  {
   "cell_type": "code",
   "execution_count": 29,
   "source": [
    "df['yearLastPayment']=df['dtLastPayment'].apply(lambda x: x.year)"
   ],
   "outputs": [],
   "metadata": {}
  },
  {
   "cell_type": "code",
   "execution_count": 30,
   "source": [
    "df.yearLastPayment.unique()"
   ],
   "outputs": [
    {
     "output_type": "execute_result",
     "data": {
      "text/plain": [
       "array([2019., 2016., 2018., 2015., 2017., 2014., 2008.,   nan, 2009.,\n",
       "       2007., 2010., 2011., 2012., 2013., 2006.])"
      ]
     },
     "metadata": {},
     "execution_count": 30
    }
   ],
   "metadata": {}
  },
  {
   "cell_type": "code",
   "execution_count": 31,
   "source": [
    "df.yearLastPayment=df.yearLastPayment.fillna(0)"
   ],
   "outputs": [],
   "metadata": {}
  },
  {
   "cell_type": "code",
   "execution_count": 32,
   "source": [
    "df['yearLastPayment']=df.yearLastPayment.astype(int)"
   ],
   "outputs": [],
   "metadata": {}
  },
  {
   "cell_type": "code",
   "execution_count": 35,
   "source": [
    "df.columns"
   ],
   "outputs": [
    {
     "output_type": "execute_result",
     "data": {
      "text/plain": [
       "Index(['year', 'age', 'sex', 'maritalStatus', 'monthlyFee', 'totalAmount',\n",
       "       'totalMatches', 'seasonMatches', 'monthsSinceLastPayment', 'dropout',\n",
       "       'yearsMembership', 'stadiumAccess', 'quartStadiumEntries',\n",
       "       'yearLastPayment'],\n",
       "      dtype='object')"
      ]
     },
     "metadata": {},
     "execution_count": 35
    }
   ],
   "metadata": {}
  },
  {
   "cell_type": "code",
   "execution_count": 34,
   "source": [
    "df.drop(columns=['dtInscription','dtLastPayment','birthDate','inscriptionMonth','occupation',\n",
    "                 'zipCode','category','dtLastInvoice','daysSinceLastPayment'],inplace=True)"
   ],
   "outputs": [],
   "metadata": {}
  },
  {
   "cell_type": "code",
   "execution_count": 36,
   "source": [
    "df.info()"
   ],
   "outputs": [
    {
     "output_type": "stream",
     "name": "stdout",
     "text": [
      "<class 'pandas.core.frame.DataFrame'>\n",
      "Int64Index: 25316 entries, 1 to 25316\n",
      "Data columns (total 14 columns):\n",
      " #   Column                  Non-Null Count  Dtype         \n",
      "---  ------                  --------------  -----         \n",
      " 0   year                    25316 non-null  int64         \n",
      " 1   age                     25316 non-null  int64         \n",
      " 2   sex                     25316 non-null  object        \n",
      " 3   maritalStatus           25316 non-null  object        \n",
      " 4   monthlyFee              25316 non-null  float64       \n",
      " 5   totalAmount             25316 non-null  float64       \n",
      " 6   totalMatches            25316 non-null  int64         \n",
      " 7   seasonMatches           25316 non-null  int64         \n",
      " 8   monthsSinceLastPayment  25316 non-null  datetime64[ns]\n",
      " 9   dropout                 25316 non-null  int64         \n",
      " 10  yearsMembership         25316 non-null  int64         \n",
      " 11  stadiumAccess           25316 non-null  int64         \n",
      " 12  quartStadiumEntries     25316 non-null  object        \n",
      " 13  yearLastPayment         25316 non-null  int64         \n",
      "dtypes: datetime64[ns](1), float64(2), int64(8), object(3)\n",
      "memory usage: 2.9+ MB\n"
     ]
    }
   ],
   "metadata": {}
  },
  {
   "cell_type": "code",
   "execution_count": 37,
   "source": [
    "df.maritalStatus.value_counts()"
   ],
   "outputs": [
    {
     "output_type": "execute_result",
     "data": {
      "text/plain": [
       "solteiro        12065\n",
       "nao definido     7667\n",
       "casado           5085\n",
       "outro             499\n",
       "Name: maritalStatus, dtype: int64"
      ]
     },
     "metadata": {},
     "execution_count": 37
    }
   ],
   "metadata": {}
  },
  {
   "cell_type": "markdown",
   "source": [
    "# Dropout event\n",
    "Ei (event of interest - Dropout) is the event indicator such that Ei=1, if an event happens and Ei=0 in case of censoring"
   ],
   "metadata": {}
  },
  {
   "cell_type": "markdown",
   "source": [
    "## Converting from categorical to numerical"
   ],
   "metadata": {}
  },
  {
   "cell_type": "markdown",
   "source": [
    "There are several categorical features that need to be encoded into one-hot vectors:\n",
    "\n",
    "   - sex \n",
    "   - maritalStatus\n",
    "   - quartStadiumEntries\n"
   ],
   "metadata": {
    "lines_to_next_cell": 0
   }
  },
  {
   "cell_type": "code",
   "execution_count": 38,
   "source": [
    "dfCurvas = df.copy()\n",
    "df = pd.get_dummies(df, columns=['sex','maritalStatus','quartStadiumEntries'],drop_first=True)"
   ],
   "outputs": [],
   "metadata": {}
  },
  {
   "cell_type": "code",
   "execution_count": 39,
   "source": [
    "# Creating the time and event columns\n",
    "time_column = 'yearsMembership'\n",
    "event_column = 'dropout'\n",
    "\n",
    "# Extracting the features\n",
    "features = np.setdiff1d(df.columns, [time_column, event_column] ).tolist()"
   ],
   "outputs": [],
   "metadata": {}
  },
  {
   "cell_type": "markdown",
   "source": [
    "## check null values and duplicates"
   ],
   "metadata": {}
  },
  {
   "cell_type": "code",
   "execution_count": 40,
   "source": [
    "# Checking for null values\n",
    "N_null = sum(df[features].isnull().sum())\n",
    "print(\"The raw_dataset contains {} null values\".format(N_null)) #0 null values"
   ],
   "outputs": [
    {
     "output_type": "stream",
     "name": "stdout",
     "text": [
      "The raw_dataset contains 0 null values\n"
     ]
    }
   ],
   "metadata": {}
  },
  {
   "cell_type": "markdown",
   "source": [
    "Change this to fstring pyton"
   ],
   "metadata": {}
  },
  {
   "cell_type": "code",
   "execution_count": 20,
   "source": [
    "# Removing duplicates if there exist\n",
    "N_dupli = sum(df.duplicated(keep='first'))\n",
    "df = df.drop_duplicates(keep='first').reset_index(drop=True)\n",
    "print(\"The raw_dataset contains {} duplicates\".format(N_dupli))\n",
    "\n",
    "# Number of samples in the dataset\n",
    "N = df.shape[0]"
   ],
   "outputs": [
    {
     "output_type": "stream",
     "name": "stdout",
     "text": [
      "The raw_dataset contains 4928 duplicates\n"
     ]
    }
   ],
   "metadata": {}
  },
  {
   "cell_type": "markdown",
   "source": [
    "# Exploratory Data Analysis\n"
   ],
   "metadata": {}
  },
  {
   "cell_type": "code",
   "execution_count": 21,
   "source": [
    "df.columns"
   ],
   "outputs": [
    {
     "output_type": "execute_result",
     "data": {
      "text/plain": [
       "Index(['ano', 'idade', 'quotaMensal', 'valorTotal', 'totalJogos', 'jogosEpoca',\n",
       "       'mesesUP', 'abandonou', 'anosSocio', 'idaEstadio', 'anoUltimoPagamento',\n",
       "       'sexo_M', 'estadoCivil_nao definido', 'estadoCivil_outro',\n",
       "       'estadoCivil_solteiro', 'escaloesTotalJogos_21 a 56',\n",
       "       'escaloesTotalJogos_56 a 105', 'escaloesTotalJogos_ate 1',\n",
       "       'escaloesTotalJogos_mais 105'],\n",
       "      dtype='object')"
      ]
     },
     "metadata": {},
     "execution_count": 21
    }
   ],
   "metadata": {}
  },
  {
   "cell_type": "code",
   "execution_count": 22,
   "source": [
    "from pysurvival.utils.display import correlation_matrix\n",
    "correlation_matrix(df[features], figure_size=(10,10), text_fontsize=8)"
   ],
   "outputs": [
    {
     "output_type": "display_data",
     "data": {
      "text/plain": [
       "<Figure size 720x720 with 2 Axes>"
      ],
      "image/png": "[encoded data removed]"
     },
     "metadata": {
      "needs_background": "light"
     }
    }
   ],
   "metadata": {}
  },
  {
   "cell_type": "markdown",
   "source": [
    "Vamos remover as variáveis com correlações maiores"
   ],
   "metadata": {}
  },
  {
   "cell_type": "code",
   "execution_count": 23,
   "source": [
    "to_remove = ['totalJogos', 'idaEstadio']\n",
    "features = np.setdiff1d(features, to_remove).tolist()"
   ],
   "outputs": [],
   "metadata": {}
  },
  {
   "cell_type": "markdown",
   "source": [
    "# Modeling"
   ],
   "metadata": {}
  },
  {
   "cell_type": "markdown",
   "source": [
    "So as to perform cross-validation later on and assess the performances of the model, let's split the dataset into training and testing sets."
   ],
   "metadata": {}
  },
  {
   "cell_type": "markdown",
   "source": [
    "## Building the model"
   ],
   "metadata": {}
  },
  {
   "cell_type": "code",
   "execution_count": 26,
   "source": [
    "# Building training and testing sets\n",
    "from sklearn.model_selection import train_test_split\n",
    "index_train, index_test = train_test_split( range(N), test_size = 0.4)\n",
    "data_train = df.loc[index_train].reset_index( drop = True )\n",
    "data_test  = df.loc[index_test].reset_index( drop = True )\n",
    "\n",
    "# Creating the X, T and E inputs\n",
    "X_train, X_test = df[features], data_test[features]\n",
    "T_train, T_test = df[time_column], data_test[time_column]\n",
    "E_train, E_test = df[event_column], data_test[event_column]"
   ],
   "outputs": [],
   "metadata": {}
  },
  {
   "cell_type": "code",
   "execution_count": 25,
   "source": [
    "#from pysurvival.models.survival_forest import ConditionalSurvivalForestModel\n",
    "from pysurvival.models.survival_forest import RandomSurvivalForestModel\n",
    "# Fitting the model\n",
    "csf = RandomSurvivalForestModel(num_trees=200)\n",
    "csf.fit(X_train, T_train, E_train, max_features='sqrt',\n",
    "        max_depth=5, min_node_size=20)"
   ],
   "outputs": [
    {
     "output_type": "execute_result",
     "data": {
      "text/plain": [
       "RandomSurvivalForestModel"
      ]
     },
     "metadata": {},
     "execution_count": 25
    }
   ],
   "metadata": {}
  },
  {
   "cell_type": "markdown",
   "source": [
    "### Features importance"
   ],
   "metadata": {}
  },
  {
   "cell_type": "code",
   "execution_count": 28,
   "source": [
    "csf.variable_importance_table"
   ],
   "outputs": [
    {
     "output_type": "execute_result",
     "data": {
      "text/plain": [
       "                        feature  importance  pct_importance\n",
       "0                       mesesUP   25.444019        0.315903\n",
       "1            anoUltimoPagamento   12.009933        0.149111\n",
       "2                    valorTotal    8.408662        0.104399\n",
       "3                    jogosEpoca    6.308750        0.078327\n",
       "4                   quotaMensal    5.297568        0.065772\n",
       "5          estadoCivil_solteiro    4.335004        0.053822\n",
       "6                         idade    3.832753        0.047586\n",
       "7   escaloesTotalJogos_56 a 105    3.559232        0.044190\n",
       "8      escaloesTotalJogos_ate 1    3.279739        0.040720\n",
       "9   escaloesTotalJogos_mais 105    2.490875        0.030926\n",
       "10                       sexo_M    2.381270        0.029565\n",
       "11   escaloesTotalJogos_21 a 56    1.967675        0.024430\n",
       "12     estadoCivil_nao definido    1.228350        0.015251\n",
       "13            estadoCivil_outro   -0.957972        0.000000\n",
       "14                          ano  -12.725045        0.000000"
      ],
      "text/html": [
       "<div>\n",
       "<style scoped>\n",
       "    .dataframe tbody tr th:only-of-type {\n",
       "        vertical-align: middle;\n",
       "    }\n",
       "\n",
       "    .dataframe tbody tr th {\n",
       "        vertical-align: top;\n",
       "    }\n",
       "\n",
       "    .dataframe thead th {\n",
       "        text-align: right;\n",
       "    }\n",
       "</style>\n",
       "<table border=\"1\" class=\"dataframe\">\n",
       "  <thead>\n",
       "    <tr style=\"text-align: right;\">\n",
       "      <th></th>\n",
       "      <th>feature</th>\n",
       "      <th>importance</th>\n",
       "      <th>pct_importance</th>\n",
       "    </tr>\n",
       "  </thead>\n",
       "  <tbody>\n",
       "    <tr>\n",
       "      <th>0</th>\n",
       "      <td>mesesUP</td>\n",
       "      <td>25.444019</td>\n",
       "      <td>0.315903</td>\n",
       "    </tr>\n",
       "    <tr>\n",
       "      <th>1</th>\n",
       "      <td>anoUltimoPagamento</td>\n",
       "      <td>12.009933</td>\n",
       "      <td>0.149111</td>\n",
       "    </tr>\n",
       "    <tr>\n",
       "      <th>2</th>\n",
       "      <td>valorTotal</td>\n",
       "      <td>8.408662</td>\n",
       "      <td>0.104399</td>\n",
       "    </tr>\n",
       "    <tr>\n",
       "      <th>3</th>\n",
       "      <td>jogosEpoca</td>\n",
       "      <td>6.308750</td>\n",
       "      <td>0.078327</td>\n",
       "    </tr>\n",
       "    <tr>\n",
       "      <th>4</th>\n",
       "      <td>quotaMensal</td>\n",
       "      <td>5.297568</td>\n",
       "      <td>0.065772</td>\n",
       "    </tr>\n",
       "    <tr>\n",
       "      <th>5</th>\n",
       "      <td>estadoCivil_solteiro</td>\n",
       "      <td>4.335004</td>\n",
       "      <td>0.053822</td>\n",
       "    </tr>\n",
       "    <tr>\n",
       "      <th>6</th>\n",
       "      <td>idade</td>\n",
       "      <td>3.832753</td>\n",
       "      <td>0.047586</td>\n",
       "    </tr>\n",
       "    <tr>\n",
       "      <th>7</th>\n",
       "      <td>escaloesTotalJogos_56 a 105</td>\n",
       "      <td>3.559232</td>\n",
       "      <td>0.044190</td>\n",
       "    </tr>\n",
       "    <tr>\n",
       "      <th>8</th>\n",
       "      <td>escaloesTotalJogos_ate 1</td>\n",
       "      <td>3.279739</td>\n",
       "      <td>0.040720</td>\n",
       "    </tr>\n",
       "    <tr>\n",
       "      <th>9</th>\n",
       "      <td>escaloesTotalJogos_mais 105</td>\n",
       "      <td>2.490875</td>\n",
       "      <td>0.030926</td>\n",
       "    </tr>\n",
       "    <tr>\n",
       "      <th>10</th>\n",
       "      <td>sexo_M</td>\n",
       "      <td>2.381270</td>\n",
       "      <td>0.029565</td>\n",
       "    </tr>\n",
       "    <tr>\n",
       "      <th>11</th>\n",
       "      <td>escaloesTotalJogos_21 a 56</td>\n",
       "      <td>1.967675</td>\n",
       "      <td>0.024430</td>\n",
       "    </tr>\n",
       "    <tr>\n",
       "      <th>12</th>\n",
       "      <td>estadoCivil_nao definido</td>\n",
       "      <td>1.228350</td>\n",
       "      <td>0.015251</td>\n",
       "    </tr>\n",
       "    <tr>\n",
       "      <th>13</th>\n",
       "      <td>estadoCivil_outro</td>\n",
       "      <td>-0.957972</td>\n",
       "      <td>0.000000</td>\n",
       "    </tr>\n",
       "    <tr>\n",
       "      <th>14</th>\n",
       "      <td>ano</td>\n",
       "      <td>-12.725045</td>\n",
       "      <td>0.000000</td>\n",
       "    </tr>\n",
       "  </tbody>\n",
       "</table>\n",
       "</div>"
      ]
     },
     "metadata": {},
     "execution_count": 28
    }
   ],
   "metadata": {}
  },
  {
   "cell_type": "markdown",
   "source": [
    "A negative number means that the model performs better without estadoCivil_Outro and ano:\n",
    "https://stackoverflow.com/questions/27918320/what-does-negative-incmse-in-randomforest-package-mean\n",
    "\n",
    "The variable mesesUP explains the survival 30%, year last payment 16.8%, totalAmount 12%, number of games 7.7%....\n"
   ],
   "metadata": {}
  },
  {
   "cell_type": "markdown",
   "source": [
    "### Model performance\n",
    "\n",
    "We are going to access the model performance using the training and test set. Previously defined.\n",
    " C-index close to 1, the model has an powerfull discriminatory; but if it is close to 0.5, it has no ability to discriminate between low and high risk subjects."
   ],
   "metadata": {}
  },
  {
   "cell_type": "markdown",
   "source": [
    "### C-index"
   ],
   "metadata": {}
  },
  {
   "cell_type": "code",
   "execution_count": 29,
   "source": [
    "from pysurvival.utils.metrics import concordance_index\n",
    "c_index = concordance_index(csf, X_test, T_test, E_test)\n",
    "print('C-index: {:.2f}'.format(c_index)) #0.83"
   ],
   "outputs": [
    {
     "output_type": "stream",
     "name": "stdout",
     "text": [
      "C-index: 0.91\n"
     ]
    }
   ],
   "metadata": {}
  },
  {
   "cell_type": "markdown",
   "source": [
    "### Brier Score"
   ],
   "metadata": {}
  },
  {
   "cell_type": "code",
   "execution_count": 30,
   "source": [
    "from pysurvival.utils.display import integrated_brier_score\n",
    "ibs = integrated_brier_score(csf, X_test, T_test, E_test, t_max=12,\n",
    "    figure_size=(12,5))\n",
    "print('IBS: {:.2f}'.format(ibs))"
   ],
   "outputs": [
    {
     "output_type": "display_data",
     "data": {
      "text/plain": [
       "<Figure size 864x360 with 1 Axes>"
      ],
      "image/png": "[encoded data removed]"
     },
     "metadata": {
      "needs_background": "light"
     }
    },
    {
     "output_type": "stream",
     "name": "stdout",
     "text": [
      "IBS: 0.03\n"
     ]
    }
   ],
   "metadata": {}
  },
  {
   "cell_type": "markdown",
   "source": [
    "The IBS is equal to 0.03 on the entire model time axis. This indicates that the model will have very good predictive abilities."
   ],
   "metadata": {}
  },
  {
   "cell_type": "markdown",
   "source": [
    "## Building model without estadoCivil_outro and ano"
   ],
   "metadata": {}
  },
  {
   "cell_type": "code",
   "execution_count": 31,
   "source": [
    "to_remove = ['estadoCivil_outro', 'ano']\n",
    "features = np.setdiff1d(features, to_remove).tolist()"
   ],
   "outputs": [],
   "metadata": {}
  },
  {
   "cell_type": "code",
   "execution_count": 32,
   "source": [
    "# Creating the X, T and E inputs\n",
    "X_train, X_test = df[features], data_test[features]\n",
    "T_train, T_test = df[time_column], data_test[time_column]\n",
    "E_train, E_test = df[event_column], data_test[event_column]"
   ],
   "outputs": [],
   "metadata": {}
  },
  {
   "cell_type": "code",
   "execution_count": 33,
   "source": [
    "csf = RandomSurvivalForestModel(num_trees=200)\n",
    "csf.fit(X_train, T_train, E_train, max_features='sqrt',\n",
    "        max_depth=5, min_node_size=20)"
   ],
   "outputs": [
    {
     "output_type": "execute_result",
     "data": {
      "text/plain": [
       "RandomSurvivalForestModel"
      ]
     },
     "metadata": {},
     "execution_count": 33
    }
   ],
   "metadata": {}
  },
  {
   "cell_type": "markdown",
   "source": [
    "### Features importance"
   ],
   "metadata": {}
  },
  {
   "cell_type": "code",
   "execution_count": 34,
   "source": [
    "csf.variable_importance_table"
   ],
   "outputs": [
    {
     "output_type": "execute_result",
     "data": {
      "text/plain": [
       "                        feature  importance  pct_importance\n",
       "0                       mesesUP   26.109648        0.305522\n",
       "1            anoUltimoPagamento   12.090799        0.141480\n",
       "2                    valorTotal   10.921663        0.127800\n",
       "3                    jogosEpoca    7.009034        0.082016\n",
       "4                   quotaMensal    5.877116        0.068771\n",
       "5          estadoCivil_solteiro    4.837993        0.056612\n",
       "6      escaloesTotalJogos_ate 1    4.230473        0.049503\n",
       "7   escaloesTotalJogos_56 a 105    3.820484        0.044705\n",
       "8                        sexo_M    3.293989        0.038545\n",
       "9   escaloesTotalJogos_mais 105    2.755716        0.032246\n",
       "10   escaloesTotalJogos_21 a 56    1.918743        0.022452\n",
       "11     estadoCivil_nao definido    1.827835        0.021388\n",
       "12                        idade    0.765702        0.008960"
      ],
      "text/html": [
       "<div>\n",
       "<style scoped>\n",
       "    .dataframe tbody tr th:only-of-type {\n",
       "        vertical-align: middle;\n",
       "    }\n",
       "\n",
       "    .dataframe tbody tr th {\n",
       "        vertical-align: top;\n",
       "    }\n",
       "\n",
       "    .dataframe thead th {\n",
       "        text-align: right;\n",
       "    }\n",
       "</style>\n",
       "<table border=\"1\" class=\"dataframe\">\n",
       "  <thead>\n",
       "    <tr style=\"text-align: right;\">\n",
       "      <th></th>\n",
       "      <th>feature</th>\n",
       "      <th>importance</th>\n",
       "      <th>pct_importance</th>\n",
       "    </tr>\n",
       "  </thead>\n",
       "  <tbody>\n",
       "    <tr>\n",
       "      <th>0</th>\n",
       "      <td>mesesUP</td>\n",
       "      <td>26.109648</td>\n",
       "      <td>0.305522</td>\n",
       "    </tr>\n",
       "    <tr>\n",
       "      <th>1</th>\n",
       "      <td>anoUltimoPagamento</td>\n",
       "      <td>12.090799</td>\n",
       "      <td>0.141480</td>\n",
       "    </tr>\n",
       "    <tr>\n",
       "      <th>2</th>\n",
       "      <td>valorTotal</td>\n",
       "      <td>10.921663</td>\n",
       "      <td>0.127800</td>\n",
       "    </tr>\n",
       "    <tr>\n",
       "      <th>3</th>\n",
       "      <td>jogosEpoca</td>\n",
       "      <td>7.009034</td>\n",
       "      <td>0.082016</td>\n",
       "    </tr>\n",
       "    <tr>\n",
       "      <th>4</th>\n",
       "      <td>quotaMensal</td>\n",
       "      <td>5.877116</td>\n",
       "      <td>0.068771</td>\n",
       "    </tr>\n",
       "    <tr>\n",
       "      <th>5</th>\n",
       "      <td>estadoCivil_solteiro</td>\n",
       "      <td>4.837993</td>\n",
       "      <td>0.056612</td>\n",
       "    </tr>\n",
       "    <tr>\n",
       "      <th>6</th>\n",
       "      <td>escaloesTotalJogos_ate 1</td>\n",
       "      <td>4.230473</td>\n",
       "      <td>0.049503</td>\n",
       "    </tr>\n",
       "    <tr>\n",
       "      <th>7</th>\n",
       "      <td>escaloesTotalJogos_56 a 105</td>\n",
       "      <td>3.820484</td>\n",
       "      <td>0.044705</td>\n",
       "    </tr>\n",
       "    <tr>\n",
       "      <th>8</th>\n",
       "      <td>sexo_M</td>\n",
       "      <td>3.293989</td>\n",
       "      <td>0.038545</td>\n",
       "    </tr>\n",
       "    <tr>\n",
       "      <th>9</th>\n",
       "      <td>escaloesTotalJogos_mais 105</td>\n",
       "      <td>2.755716</td>\n",
       "      <td>0.032246</td>\n",
       "    </tr>\n",
       "    <tr>\n",
       "      <th>10</th>\n",
       "      <td>escaloesTotalJogos_21 a 56</td>\n",
       "      <td>1.918743</td>\n",
       "      <td>0.022452</td>\n",
       "    </tr>\n",
       "    <tr>\n",
       "      <th>11</th>\n",
       "      <td>estadoCivil_nao definido</td>\n",
       "      <td>1.827835</td>\n",
       "      <td>0.021388</td>\n",
       "    </tr>\n",
       "    <tr>\n",
       "      <th>12</th>\n",
       "      <td>idade</td>\n",
       "      <td>0.765702</td>\n",
       "      <td>0.008960</td>\n",
       "    </tr>\n",
       "  </tbody>\n",
       "</table>\n",
       "</div>"
      ]
     },
     "metadata": {},
     "execution_count": 34
    }
   ],
   "metadata": {}
  },
  {
   "cell_type": "markdown",
   "source": [
    "### Model performance\n",
    "\n",
    "We are going to access the model performance using the training and test set. Previously defined.\n",
    " C-index close to 1, the model has an powerfull discriminatory; but if it is close to 0.5, it has no ability to discriminate between low and high risk subjects."
   ],
   "metadata": {}
  },
  {
   "cell_type": "markdown",
   "source": [
    "### C-index"
   ],
   "metadata": {}
  },
  {
   "cell_type": "code",
   "execution_count": 35,
   "source": [
    "from pysurvival.utils.metrics import concordance_index\n",
    "c_index = concordance_index(csf, X_test, T_test, E_test)\n",
    "print('C-index: {:.2f}'.format(c_index)) #0.83"
   ],
   "outputs": [
    {
     "output_type": "stream",
     "name": "stdout",
     "text": [
      "C-index: 0.94\n"
     ]
    }
   ],
   "metadata": {}
  },
  {
   "cell_type": "markdown",
   "source": [
    "### Brier Score"
   ],
   "metadata": {}
  },
  {
   "cell_type": "code",
   "execution_count": 36,
   "source": [
    "from pysurvival.utils.display import integrated_brier_score\n",
    "ibs = integrated_brier_score(csf, X_test, T_test, E_test, t_max=12,\n",
    "    figure_size=(12,5))\n",
    "print('IBS: {:.2f}'.format(ibs))"
   ],
   "outputs": [
    {
     "output_type": "display_data",
     "data": {
      "text/plain": [
       "<Figure size 864x360 with 1 Axes>"
      ],
      "image/png": "[encoded data removed]"
     },
     "metadata": {
      "needs_background": "light"
     }
    },
    {
     "output_type": "stream",
     "name": "stdout",
     "text": [
      "IBS: 0.04\n"
     ]
    }
   ],
   "metadata": {}
  },
  {
   "cell_type": "markdown",
   "source": [
    "## Building model without idade"
   ],
   "metadata": {}
  },
  {
   "cell_type": "code",
   "execution_count": 39,
   "source": [
    "to_remove = ['idade']\n",
    "features = np.setdiff1d(features, to_remove).tolist()"
   ],
   "outputs": [],
   "metadata": {}
  },
  {
   "cell_type": "code",
   "execution_count": 40,
   "source": [
    "# Creating the X, T and E inputs\n",
    "X_train, X_test = df[features], data_test[features]\n",
    "T_train, T_test = df[time_column], data_test[time_column]\n",
    "E_train, E_test = df[event_column], data_test[event_column]"
   ],
   "outputs": [],
   "metadata": {}
  },
  {
   "cell_type": "code",
   "execution_count": 41,
   "source": [
    "csf = RandomSurvivalForestModel(num_trees=200)\n",
    "csf.fit(X_train, T_train, E_train, max_features='sqrt',\n",
    "        max_depth=5, min_node_size=20)"
   ],
   "outputs": [
    {
     "output_type": "execute_result",
     "data": {
      "text/plain": [
       "RandomSurvivalForestModel"
      ]
     },
     "metadata": {},
     "execution_count": 41
    }
   ],
   "metadata": {}
  },
  {
   "cell_type": "markdown",
   "source": [
    "### Features importance"
   ],
   "metadata": {}
  },
  {
   "cell_type": "code",
   "execution_count": 42,
   "source": [
    "csf.variable_importance_table"
   ],
   "outputs": [
    {
     "output_type": "execute_result",
     "data": {
      "text/plain": [
       "                        feature  importance  pct_importance\n",
       "0                       mesesUP   26.059067        0.279085\n",
       "1            anoUltimoPagamento   13.272150        0.142141\n",
       "2                    valorTotal   11.317420        0.121206\n",
       "3                   quotaMensal   10.881023        0.116532\n",
       "4                    jogosEpoca    6.070691        0.065015\n",
       "5      escaloesTotalJogos_ate 1    5.221843        0.055924\n",
       "6          estadoCivil_solteiro    5.091730        0.054531\n",
       "7   escaloesTotalJogos_56 a 105    4.685484        0.050180\n",
       "8    escaloesTotalJogos_21 a 56    3.973545        0.042555\n",
       "9                        sexo_M    3.178554        0.034041\n",
       "10  escaloesTotalJogos_mais 105    2.510664        0.026888\n",
       "11     estadoCivil_nao definido    1.111203        0.011901"
      ],
      "text/html": [
       "<div>\n",
       "<style scoped>\n",
       "    .dataframe tbody tr th:only-of-type {\n",
       "        vertical-align: middle;\n",
       "    }\n",
       "\n",
       "    .dataframe tbody tr th {\n",
       "        vertical-align: top;\n",
       "    }\n",
       "\n",
       "    .dataframe thead th {\n",
       "        text-align: right;\n",
       "    }\n",
       "</style>\n",
       "<table border=\"1\" class=\"dataframe\">\n",
       "  <thead>\n",
       "    <tr style=\"text-align: right;\">\n",
       "      <th></th>\n",
       "      <th>feature</th>\n",
       "      <th>importance</th>\n",
       "      <th>pct_importance</th>\n",
       "    </tr>\n",
       "  </thead>\n",
       "  <tbody>\n",
       "    <tr>\n",
       "      <th>0</th>\n",
       "      <td>mesesUP</td>\n",
       "      <td>26.059067</td>\n",
       "      <td>0.279085</td>\n",
       "    </tr>\n",
       "    <tr>\n",
       "      <th>1</th>\n",
       "      <td>anoUltimoPagamento</td>\n",
       "      <td>13.272150</td>\n",
       "      <td>0.142141</td>\n",
       "    </tr>\n",
       "    <tr>\n",
       "      <th>2</th>\n",
       "      <td>valorTotal</td>\n",
       "      <td>11.317420</td>\n",
       "      <td>0.121206</td>\n",
       "    </tr>\n",
       "    <tr>\n",
       "      <th>3</th>\n",
       "      <td>quotaMensal</td>\n",
       "      <td>10.881023</td>\n",
       "      <td>0.116532</td>\n",
       "    </tr>\n",
       "    <tr>\n",
       "      <th>4</th>\n",
       "      <td>jogosEpoca</td>\n",
       "      <td>6.070691</td>\n",
       "      <td>0.065015</td>\n",
       "    </tr>\n",
       "    <tr>\n",
       "      <th>5</th>\n",
       "      <td>escaloesTotalJogos_ate 1</td>\n",
       "      <td>5.221843</td>\n",
       "      <td>0.055924</td>\n",
       "    </tr>\n",
       "    <tr>\n",
       "      <th>6</th>\n",
       "      <td>estadoCivil_solteiro</td>\n",
       "      <td>5.091730</td>\n",
       "      <td>0.054531</td>\n",
       "    </tr>\n",
       "    <tr>\n",
       "      <th>7</th>\n",
       "      <td>escaloesTotalJogos_56 a 105</td>\n",
       "      <td>4.685484</td>\n",
       "      <td>0.050180</td>\n",
       "    </tr>\n",
       "    <tr>\n",
       "      <th>8</th>\n",
       "      <td>escaloesTotalJogos_21 a 56</td>\n",
       "      <td>3.973545</td>\n",
       "      <td>0.042555</td>\n",
       "    </tr>\n",
       "    <tr>\n",
       "      <th>9</th>\n",
       "      <td>sexo_M</td>\n",
       "      <td>3.178554</td>\n",
       "      <td>0.034041</td>\n",
       "    </tr>\n",
       "    <tr>\n",
       "      <th>10</th>\n",
       "      <td>escaloesTotalJogos_mais 105</td>\n",
       "      <td>2.510664</td>\n",
       "      <td>0.026888</td>\n",
       "    </tr>\n",
       "    <tr>\n",
       "      <th>11</th>\n",
       "      <td>estadoCivil_nao definido</td>\n",
       "      <td>1.111203</td>\n",
       "      <td>0.011901</td>\n",
       "    </tr>\n",
       "  </tbody>\n",
       "</table>\n",
       "</div>"
      ]
     },
     "metadata": {},
     "execution_count": 42
    }
   ],
   "metadata": {}
  },
  {
   "cell_type": "markdown",
   "source": [
    "### Model performance\n",
    "\n",
    "We are going to access the model performance using the training and test set. Previously defined.\n",
    " C-index close to 1, the model has an powerfull discriminatory; but if it is close to 0.5, it has no ability to discriminate between low and high risk subjects."
   ],
   "metadata": {}
  },
  {
   "cell_type": "markdown",
   "source": [
    "### C-index"
   ],
   "metadata": {}
  },
  {
   "cell_type": "code",
   "execution_count": 43,
   "source": [
    "from pysurvival.utils.metrics import concordance_index\n",
    "c_index = concordance_index(csf, X_test, T_test, E_test)\n",
    "print('C-index: {:.2f}'.format(c_index)) #0.83"
   ],
   "outputs": [
    {
     "output_type": "stream",
     "name": "stdout",
     "text": [
      "C-index: 0.94\n"
     ]
    }
   ],
   "metadata": {}
  },
  {
   "cell_type": "markdown",
   "source": [
    "### Brier Score"
   ],
   "metadata": {}
  },
  {
   "cell_type": "code",
   "execution_count": 44,
   "source": [
    "from pysurvival.utils.display import integrated_brier_score\n",
    "ibs = integrated_brier_score(csf, X_test, T_test, E_test, t_max=12,\n",
    "    figure_size=(12,5))\n",
    "print('IBS: {:.2f}'.format(ibs))"
   ],
   "outputs": [
    {
     "output_type": "display_data",
     "data": {
      "text/plain": [
       "<Figure size 864x360 with 1 Axes>"
      ],
      "image/png": "[encoded data removed]"
     },
     "metadata": {
      "needs_background": "light"
     }
    },
    {
     "output_type": "stream",
     "name": "stdout",
     "text": [
      "IBS: 0.04\n"
     ]
    }
   ],
   "metadata": {}
  },
  {
   "cell_type": "markdown",
   "source": [
    "# Predictions\n",
    "Lets compare the timeseries of actual and predicted customers who leave for each time t."
   ],
   "metadata": {
    "incorrectly_encoded_metadata": "toc-hr-collapsed=true toc-nb-collapsed=true"
   }
  },
  {
   "cell_type": "code",
   "execution_count": 45,
   "source": [
    "from pysurvival.utils.display import compare_to_actual\n",
    "results = compare_to_actual(csf, X_test, T_test, E_test, is_at_risk = False,  \n",
    "figure_size=(12, 5), metrics = ['rmse', 'mean', 'median'])"
   ],
   "outputs": [
    {
     "output_type": "display_data",
     "data": {
      "text/plain": [
       "<Figure size 864x360 with 1 Axes>"
      ],
      "image/png": "[encoded data removed]"
     },
     "metadata": {
      "needs_background": "light"
     }
    }
   ],
   "metadata": {}
  },
  {
   "cell_type": "markdown",
   "source": [
    "The model only makes an average absolute error of ~33 customers."
   ],
   "metadata": {}
  },
  {
   "cell_type": "markdown",
   "source": [
    "## Individual predictions\n",
    "Compute the probability of remaining a customer for all times t"
   ],
   "metadata": {}
  },
  {
   "cell_type": "code",
   "execution_count": 46,
   "source": [
    "from pysurvival.utils.display import create_risk_groups\n",
    "\n",
    "risk_groups = create_risk_groups(model=csf, X=X_test,\n",
    "    use_log = False, num_bins=30, figure_size=(20, 4))"
   ],
   "outputs": [
    {
     "output_type": "display_data",
     "data": {
      "text/plain": [
       "<Figure size 1440x288 with 1 Axes>"
      ],
      "image/png": "[encoded data removed]"
     },
     "metadata": {
      "needs_background": "light"
     }
    }
   ],
   "metadata": {}
  },
  {
   "cell_type": "markdown",
   "source": [
    "# Curvas de sobrevivência"
   ],
   "metadata": {}
  },
  {
   "cell_type": "code",
   "execution_count": 47,
   "source": [
    "def curvaSobrevivencia(dados,coluna):\n",
    "    ax = plt.subplot(111)\n",
    "    plt.rcParams['figure.figsize'] = [12, 5]\n",
    "    for item in dados[coluna].unique():\n",
    "        ix = dados[coluna] == item\n",
    "        kmf.fit(T.loc[ix], C.loc[ix], label=str(item))\n",
    "        ax = kmf.plot(ax=ax)"
   ],
   "outputs": [],
   "metadata": {}
  },
  {
   "cell_type": "markdown",
   "source": [
    "## Kaplan-Meier main curve"
   ],
   "metadata": {}
  },
  {
   "cell_type": "code",
   "execution_count": 49,
   "source": [
    "from lifelines import KaplanMeierFitter\n",
    "from lifelines.statistics import multivariate_logrank_test\n",
    "from lifelines.statistics import pairwise_logrank_test\n",
    "\n",
    "kmf = KaplanMeierFitter()\n",
    "T = dfCurvas['anosSocio']\n",
    "C = dfCurvas['abandonou']\n",
    "kmf.fit(T,C,label=\"Abandono dos sócios\");"
   ],
   "outputs": [],
   "metadata": {}
  },
  {
   "cell_type": "code",
   "execution_count": 50,
   "source": [
    "tabela=pd.concat([kmf.event_table.reset_index(), \n",
    "           kmf.conditional_time_to_event_.reset_index(),\n",
    "           kmf.survival_function_.reset_index()],axis=1)"
   ],
   "outputs": [],
   "metadata": {}
  },
  {
   "cell_type": "code",
   "execution_count": 51,
   "source": [
    "tabela.columns = ['event_at', 'removed', 'observed', 'censored', 'entrance', 'at_risk','timeline',\n",
    "                  'median duration remaining to event','timeline', 'Abandono dos sócios']"
   ],
   "outputs": [],
   "metadata": {}
  },
  {
   "cell_type": "code",
   "execution_count": 52,
   "source": [
    "tabela.head(12)"
   ],
   "outputs": [
    {
     "output_type": "execute_result",
     "data": {
      "text/plain": [
       "    event_at  removed  observed  censored  entrance  at_risk  timeline  \\\n",
       "0          0     1595         0      1595     25316    25316       0.0   \n",
       "1          1     1809         0      1809         0    23721       1.0   \n",
       "2          2     1132       261       871         0    21912       2.0   \n",
       "3          3     1019       318       701         0    20780       3.0   \n",
       "4          4      630       260       370         0    19761       4.0   \n",
       "5          5      827       264       563         0    19131       5.0   \n",
       "6          6     2111       534      1577         0    18304       6.0   \n",
       "7          7     1988       719      1269         0    16193       7.0   \n",
       "8          8     1942       652      1290         0    14205       8.0   \n",
       "9          9     1241       459       782         0    12263       9.0   \n",
       "10        10     1946       397      1549         0    11022      10.0   \n",
       "11        11      978       310       668         0     9076      11.0   \n",
       "\n",
       "    median duration remaining to event  timeline  Abandono dos sócios  \n",
       "0                                 48.0       0.0             1.000000  \n",
       "1                                 47.0       1.0             1.000000  \n",
       "2                                 47.0       2.0             0.988089  \n",
       "3                                 48.0       3.0             0.972968  \n",
       "4                                 47.0       4.0             0.960166  \n",
       "5                                 47.0       5.0             0.946916  \n",
       "6                                 48.0       6.0             0.919291  \n",
       "7                                 49.0       7.0             0.878473  \n",
       "8                                 48.0       8.0             0.838151  \n",
       "9                                 55.0       9.0             0.806780  \n",
       "10                                58.0      10.0             0.777720  \n",
       "11                                57.0      11.0             0.751157  "
      ],
      "text/html": [
       "<div>\n",
       "<style scoped>\n",
       "    .dataframe tbody tr th:only-of-type {\n",
       "        vertical-align: middle;\n",
       "    }\n",
       "\n",
       "    .dataframe tbody tr th {\n",
       "        vertical-align: top;\n",
       "    }\n",
       "\n",
       "    .dataframe thead th {\n",
       "        text-align: right;\n",
       "    }\n",
       "</style>\n",
       "<table border=\"1\" class=\"dataframe\">\n",
       "  <thead>\n",
       "    <tr style=\"text-align: right;\">\n",
       "      <th></th>\n",
       "      <th>event_at</th>\n",
       "      <th>removed</th>\n",
       "      <th>observed</th>\n",
       "      <th>censored</th>\n",
       "      <th>entrance</th>\n",
       "      <th>at_risk</th>\n",
       "      <th>timeline</th>\n",
       "      <th>median duration remaining to event</th>\n",
       "      <th>timeline</th>\n",
       "      <th>Abandono dos sócios</th>\n",
       "    </tr>\n",
       "  </thead>\n",
       "  <tbody>\n",
       "    <tr>\n",
       "      <th>0</th>\n",
       "      <td>0</td>\n",
       "      <td>1595</td>\n",
       "      <td>0</td>\n",
       "      <td>1595</td>\n",
       "      <td>25316</td>\n",
       "      <td>25316</td>\n",
       "      <td>0.0</td>\n",
       "      <td>48.0</td>\n",
       "      <td>0.0</td>\n",
       "      <td>1.000000</td>\n",
       "    </tr>\n",
       "    <tr>\n",
       "      <th>1</th>\n",
       "      <td>1</td>\n",
       "      <td>1809</td>\n",
       "      <td>0</td>\n",
       "      <td>1809</td>\n",
       "      <td>0</td>\n",
       "      <td>23721</td>\n",
       "      <td>1.0</td>\n",
       "      <td>47.0</td>\n",
       "      <td>1.0</td>\n",
       "      <td>1.000000</td>\n",
       "    </tr>\n",
       "    <tr>\n",
       "      <th>2</th>\n",
       "      <td>2</td>\n",
       "      <td>1132</td>\n",
       "      <td>261</td>\n",
       "      <td>871</td>\n",
       "      <td>0</td>\n",
       "      <td>21912</td>\n",
       "      <td>2.0</td>\n",
       "      <td>47.0</td>\n",
       "      <td>2.0</td>\n",
       "      <td>0.988089</td>\n",
       "    </tr>\n",
       "    <tr>\n",
       "      <th>3</th>\n",
       "      <td>3</td>\n",
       "      <td>1019</td>\n",
       "      <td>318</td>\n",
       "      <td>701</td>\n",
       "      <td>0</td>\n",
       "      <td>20780</td>\n",
       "      <td>3.0</td>\n",
       "      <td>48.0</td>\n",
       "      <td>3.0</td>\n",
       "      <td>0.972968</td>\n",
       "    </tr>\n",
       "    <tr>\n",
       "      <th>4</th>\n",
       "      <td>4</td>\n",
       "      <td>630</td>\n",
       "      <td>260</td>\n",
       "      <td>370</td>\n",
       "      <td>0</td>\n",
       "      <td>19761</td>\n",
       "      <td>4.0</td>\n",
       "      <td>47.0</td>\n",
       "      <td>4.0</td>\n",
       "      <td>0.960166</td>\n",
       "    </tr>\n",
       "    <tr>\n",
       "      <th>5</th>\n",
       "      <td>5</td>\n",
       "      <td>827</td>\n",
       "      <td>264</td>\n",
       "      <td>563</td>\n",
       "      <td>0</td>\n",
       "      <td>19131</td>\n",
       "      <td>5.0</td>\n",
       "      <td>47.0</td>\n",
       "      <td>5.0</td>\n",
       "      <td>0.946916</td>\n",
       "    </tr>\n",
       "    <tr>\n",
       "      <th>6</th>\n",
       "      <td>6</td>\n",
       "      <td>2111</td>\n",
       "      <td>534</td>\n",
       "      <td>1577</td>\n",
       "      <td>0</td>\n",
       "      <td>18304</td>\n",
       "      <td>6.0</td>\n",
       "      <td>48.0</td>\n",
       "      <td>6.0</td>\n",
       "      <td>0.919291</td>\n",
       "    </tr>\n",
       "    <tr>\n",
       "      <th>7</th>\n",
       "      <td>7</td>\n",
       "      <td>1988</td>\n",
       "      <td>719</td>\n",
       "      <td>1269</td>\n",
       "      <td>0</td>\n",
       "      <td>16193</td>\n",
       "      <td>7.0</td>\n",
       "      <td>49.0</td>\n",
       "      <td>7.0</td>\n",
       "      <td>0.878473</td>\n",
       "    </tr>\n",
       "    <tr>\n",
       "      <th>8</th>\n",
       "      <td>8</td>\n",
       "      <td>1942</td>\n",
       "      <td>652</td>\n",
       "      <td>1290</td>\n",
       "      <td>0</td>\n",
       "      <td>14205</td>\n",
       "      <td>8.0</td>\n",
       "      <td>48.0</td>\n",
       "      <td>8.0</td>\n",
       "      <td>0.838151</td>\n",
       "    </tr>\n",
       "    <tr>\n",
       "      <th>9</th>\n",
       "      <td>9</td>\n",
       "      <td>1241</td>\n",
       "      <td>459</td>\n",
       "      <td>782</td>\n",
       "      <td>0</td>\n",
       "      <td>12263</td>\n",
       "      <td>9.0</td>\n",
       "      <td>55.0</td>\n",
       "      <td>9.0</td>\n",
       "      <td>0.806780</td>\n",
       "    </tr>\n",
       "    <tr>\n",
       "      <th>10</th>\n",
       "      <td>10</td>\n",
       "      <td>1946</td>\n",
       "      <td>397</td>\n",
       "      <td>1549</td>\n",
       "      <td>0</td>\n",
       "      <td>11022</td>\n",
       "      <td>10.0</td>\n",
       "      <td>58.0</td>\n",
       "      <td>10.0</td>\n",
       "      <td>0.777720</td>\n",
       "    </tr>\n",
       "    <tr>\n",
       "      <th>11</th>\n",
       "      <td>11</td>\n",
       "      <td>978</td>\n",
       "      <td>310</td>\n",
       "      <td>668</td>\n",
       "      <td>0</td>\n",
       "      <td>9076</td>\n",
       "      <td>11.0</td>\n",
       "      <td>57.0</td>\n",
       "      <td>11.0</td>\n",
       "      <td>0.751157</td>\n",
       "    </tr>\n",
       "  </tbody>\n",
       "</table>\n",
       "</div>"
      ]
     },
     "metadata": {},
     "execution_count": 52
    }
   ],
   "metadata": {}
  },
  {
   "cell_type": "code",
   "execution_count": 53,
   "source": [
    "plt.rcParams['figure.figsize'] = [12, 5]\n",
    "\n",
    "kmf.plot();"
   ],
   "outputs": [
    {
     "output_type": "display_data",
     "data": {
      "text/plain": [
       "<Figure size 864x360 with 1 Axes>"
      ],
      "image/png": "[encoded data removed]"
     },
     "metadata": {
      "needs_background": "light"
     }
    }
   ],
   "metadata": {}
  },
  {
   "cell_type": "markdown",
   "source": [
    "## Por género"
   ],
   "metadata": {}
  },
  {
   "cell_type": "code",
   "execution_count": 54,
   "source": [
    "print(dfCurvas.sexo.value_counts())\n",
    "curvaSobrevivencia(dfCurvas,'sexo')"
   ],
   "outputs": [
    {
     "output_type": "stream",
     "name": "stdout",
     "text": [
      "M    17246\n",
      "F     8070\n",
      "Name: sexo, dtype: int64\n"
     ]
    },
    {
     "output_type": "display_data",
     "data": {
      "text/plain": [
       "<Figure size 864x360 with 1 Axes>"
      ],
      "image/png": "[encoded data removed]"
     },
     "metadata": {
      "needs_background": "light"
     }
    }
   ],
   "metadata": {}
  },
  {
   "cell_type": "code",
   "execution_count": 55,
   "source": [
    "results=multivariate_logrank_test(event_durations=T,groups=dfCurvas.sexo,event_observed=C)\n",
    "results.print_summary()"
   ],
   "outputs": [
    {
     "output_type": "display_data",
     "data": {
      "text/plain": [
       "<lifelines.StatisticalResult: multivariate_logrank_test>\n",
       "               t_0 = -1\n",
       " null_distribution = chi squared\n",
       "degrees_of_freedom = 1\n",
       "         test_name = multivariate_logrank_test\n",
       "\n",
       "---\n",
       " test_statistic      p  -log2(p)\n",
       "         194.63 <0.005    144.53"
      ],
      "text/latex": [
       "\\begin{tabular}{lrrr}\n",
       "\\toprule\n",
       "{} &  test\\_statistic &             p &    -log2(p) \\\\\n",
       "\\midrule\n",
       "0 &      194.625277 &  3.110248e-44 &  144.527807 \\\\\n",
       "\\bottomrule\n",
       "\\end{tabular}\n"
      ],
      "text/html": [
       "<div>\n",
       "<style scoped>\n",
       "    .dataframe tbody tr th:only-of-type {\n",
       "        vertical-align: middle;\n",
       "    }\n",
       "\n",
       "    .dataframe tbody tr th {\n",
       "        vertical-align: top;\n",
       "    }\n",
       "\n",
       "    .dataframe thead th {\n",
       "        text-align: right;\n",
       "    }\n",
       "</style>\n",
       "<table border=\"1\" class=\"dataframe\">\n",
       "  <tbody>\n",
       "    <tr>\n",
       "      <th>t_0</th>\n",
       "      <td>-1</td>\n",
       "    </tr>\n",
       "    <tr>\n",
       "      <th>null_distribution</th>\n",
       "      <td>chi squared</td>\n",
       "    </tr>\n",
       "    <tr>\n",
       "      <th>degrees_of_freedom</th>\n",
       "      <td>1</td>\n",
       "    </tr>\n",
       "    <tr>\n",
       "      <th>test_name</th>\n",
       "      <td>multivariate_logrank_test</td>\n",
       "    </tr>\n",
       "  </tbody>\n",
       "</table>\n",
       "</div><table border=\"1\" class=\"dataframe\">\n",
       "  <thead>\n",
       "    <tr style=\"text-align: right;\">\n",
       "      <th></th>\n",
       "      <th>test_statistic</th>\n",
       "      <th>p</th>\n",
       "      <th>-log2(p)</th>\n",
       "    </tr>\n",
       "  </thead>\n",
       "  <tbody>\n",
       "    <tr>\n",
       "      <th>0</th>\n",
       "      <td>194.63</td>\n",
       "      <td>&lt;0.005</td>\n",
       "      <td>144.53</td>\n",
       "    </tr>\n",
       "  </tbody>\n",
       "</table>"
      ]
     },
     "metadata": {}
    }
   ],
   "metadata": {}
  },
  {
   "cell_type": "code",
   "execution_count": 56,
   "source": [
    "results=pairwise_logrank_test(event_durations=T,groups=dfCurvas.sexo,event_observed=C)\n",
    "results.print_summary()"
   ],
   "outputs": [
    {
     "output_type": "display_data",
     "data": {
      "text/plain": [
       "<lifelines.StatisticalResult: logrank_test>\n",
       "               t_0 = -1\n",
       " null_distribution = chi squared\n",
       "degrees_of_freedom = 1\n",
       "         test_name = logrank_test\n",
       "\n",
       "---\n",
       "     test_statistic      p  -log2(p)\n",
       "F M          194.63 <0.005    144.53"
      ],
      "text/latex": [
       "\\begin{tabular}{llrrr}\n",
       "\\toprule\n",
       "  &   &  test\\_statistic &             p &    -log2(p) \\\\\n",
       "\\midrule\n",
       "F & M &      194.625277 &  3.110248e-44 &  144.527807 \\\\\n",
       "\\bottomrule\n",
       "\\end{tabular}\n"
      ],
      "text/html": [
       "<div>\n",
       "<style scoped>\n",
       "    .dataframe tbody tr th:only-of-type {\n",
       "        vertical-align: middle;\n",
       "    }\n",
       "\n",
       "    .dataframe tbody tr th {\n",
       "        vertical-align: top;\n",
       "    }\n",
       "\n",
       "    .dataframe thead th {\n",
       "        text-align: right;\n",
       "    }\n",
       "</style>\n",
       "<table border=\"1\" class=\"dataframe\">\n",
       "  <tbody>\n",
       "    <tr>\n",
       "      <th>t_0</th>\n",
       "      <td>-1</td>\n",
       "    </tr>\n",
       "    <tr>\n",
       "      <th>null_distribution</th>\n",
       "      <td>chi squared</td>\n",
       "    </tr>\n",
       "    <tr>\n",
       "      <th>degrees_of_freedom</th>\n",
       "      <td>1</td>\n",
       "    </tr>\n",
       "    <tr>\n",
       "      <th>test_name</th>\n",
       "      <td>logrank_test</td>\n",
       "    </tr>\n",
       "  </tbody>\n",
       "</table>\n",
       "</div><table border=\"1\" class=\"dataframe\">\n",
       "  <thead>\n",
       "    <tr style=\"text-align: right;\">\n",
       "      <th></th>\n",
       "      <th></th>\n",
       "      <th>test_statistic</th>\n",
       "      <th>p</th>\n",
       "      <th>-log2(p)</th>\n",
       "    </tr>\n",
       "  </thead>\n",
       "  <tbody>\n",
       "    <tr>\n",
       "      <th>F</th>\n",
       "      <th>M</th>\n",
       "      <td>194.63</td>\n",
       "      <td>&lt;0.005</td>\n",
       "      <td>144.53</td>\n",
       "    </tr>\n",
       "  </tbody>\n",
       "</table>"
      ]
     },
     "metadata": {}
    }
   ],
   "metadata": {}
  },
  {
   "cell_type": "markdown",
   "source": [
    "## MesesUP"
   ],
   "metadata": {}
  },
  {
   "cell_type": "code",
   "execution_count": 57,
   "source": [
    "dfCurvas.mesesUP.describe()"
   ],
   "outputs": [
    {
     "output_type": "execute_result",
     "data": {
      "text/plain": [
       "count    25316.000000\n",
       "mean        18.814110\n",
       "std         32.498248\n",
       "min          0.000000\n",
       "25%          2.000000\n",
       "50%          4.000000\n",
       "75%         17.000000\n",
       "max        156.000000\n",
       "Name: mesesUP, dtype: float64"
      ]
     },
     "metadata": {},
     "execution_count": 57
    }
   ],
   "metadata": {}
  },
  {
   "cell_type": "code",
   "execution_count": 58,
   "source": [
    "var='mesesUP'\n",
    "varEscalao='escMesesUP'\n",
    "dfCurvas[varEscalao]=''\n",
    "for index, cliente in dfCurvas.iterrows():\n",
    "    #se a variável tiver o valor 1 colocar na nova variável a descrição da atividade\n",
    "    if cliente[var] <= 2: \n",
    "        dfCurvas.at[index,varEscalao]=var+' less than 2'\n",
    "    elif (cliente[var] > 2) & (cliente[var] <= 4):\n",
    "        dfCurvas.at[index,varEscalao]=var+' greather than 2 and less 4'\n",
    "    elif (cliente[var] > 4) & (cliente[var] <= 17):\n",
    "        dfCurvas.at[index,varEscalao]=var + ' greather than 4 and less 17'\n",
    "    elif (cliente[var] > 17):\n",
    "        dfCurvas.at[index,varEscalao]=var + ' greather than 17'"
   ],
   "outputs": [],
   "metadata": {}
  },
  {
   "cell_type": "code",
   "execution_count": 59,
   "source": [
    "dfCurvas.escMesesUP.value_counts()"
   ],
   "outputs": [
    {
     "output_type": "execute_result",
     "data": {
      "text/plain": [
       "mesesUP less than 2                    8814\n",
       "mesesUP greather than 17               6303\n",
       "mesesUP greather than 4 and less 17    5246\n",
       "mesesUP greather than 2 and less 4     4953\n",
       "Name: escMesesUP, dtype: int64"
      ]
     },
     "metadata": {},
     "execution_count": 59
    }
   ],
   "metadata": {}
  },
  {
   "cell_type": "code",
   "execution_count": 52,
   "source": [
    "curvaSobrevivencia(dfCurvas,varEscalao)"
   ],
   "outputs": [
    {
     "output_type": "display_data",
     "data": {
      "text/plain": [
       "<Figure size 864x360 with 1 Axes>"
      ],
      "image/png": "[encoded data removed]"
     },
     "metadata": {
      "needs_background": "light"
     }
    }
   ],
   "metadata": {}
  },
  {
   "cell_type": "code",
   "execution_count": 60,
   "source": [
    "results=multivariate_logrank_test(event_durations=T,groups=dfCurvas[varEscalao],event_observed=C)\n",
    "results.print_summary()"
   ],
   "outputs": [
    {
     "output_type": "display_data",
     "data": {
      "text/plain": [
       "<lifelines.StatisticalResult: multivariate_logrank_test>\n",
       "               t_0 = -1\n",
       " null_distribution = chi squared\n",
       "degrees_of_freedom = 3\n",
       "         test_name = multivariate_logrank_test\n",
       "\n",
       "---\n",
       " test_statistic      p  -log2(p)\n",
       "       19998.90 <0.005       inf"
      ],
      "text/latex": [
       "\\begin{tabular}{lrrr}\n",
       "\\toprule\n",
       "{} &  test\\_statistic &    p &  -log2(p) \\\\\n",
       "\\midrule\n",
       "0 &    19998.897283 &  0.0 &       inf \\\\\n",
       "\\bottomrule\n",
       "\\end{tabular}\n"
      ],
      "text/html": [
       "<div>\n",
       "<style scoped>\n",
       "    .dataframe tbody tr th:only-of-type {\n",
       "        vertical-align: middle;\n",
       "    }\n",
       "\n",
       "    .dataframe tbody tr th {\n",
       "        vertical-align: top;\n",
       "    }\n",
       "\n",
       "    .dataframe thead th {\n",
       "        text-align: right;\n",
       "    }\n",
       "</style>\n",
       "<table border=\"1\" class=\"dataframe\">\n",
       "  <tbody>\n",
       "    <tr>\n",
       "      <th>t_0</th>\n",
       "      <td>-1</td>\n",
       "    </tr>\n",
       "    <tr>\n",
       "      <th>null_distribution</th>\n",
       "      <td>chi squared</td>\n",
       "    </tr>\n",
       "    <tr>\n",
       "      <th>degrees_of_freedom</th>\n",
       "      <td>3</td>\n",
       "    </tr>\n",
       "    <tr>\n",
       "      <th>test_name</th>\n",
       "      <td>multivariate_logrank_test</td>\n",
       "    </tr>\n",
       "  </tbody>\n",
       "</table>\n",
       "</div><table border=\"1\" class=\"dataframe\">\n",
       "  <thead>\n",
       "    <tr style=\"text-align: right;\">\n",
       "      <th></th>\n",
       "      <th>test_statistic</th>\n",
       "      <th>p</th>\n",
       "      <th>-log2(p)</th>\n",
       "    </tr>\n",
       "  </thead>\n",
       "  <tbody>\n",
       "    <tr>\n",
       "      <th>0</th>\n",
       "      <td>19998.90</td>\n",
       "      <td>&lt;0.005</td>\n",
       "      <td>inf</td>\n",
       "    </tr>\n",
       "  </tbody>\n",
       "</table>"
      ]
     },
     "metadata": {}
    }
   ],
   "metadata": {}
  },
  {
   "cell_type": "code",
   "execution_count": 61,
   "source": [
    "results=pairwise_logrank_test(event_durations=T,groups=dfCurvas[varEscalao],event_observed=C)\n",
    "results.print_summary()"
   ],
   "outputs": [
    {
     "output_type": "display_data",
     "data": {
      "text/plain": [
       "<lifelines.StatisticalResult: logrank_test>\n",
       "               t_0 = -1\n",
       " null_distribution = chi squared\n",
       "degrees_of_freedom = 1\n",
       "         test_name = logrank_test\n",
       "\n",
       "---\n",
       "                                                                         test_statistic      p  -log2(p)\n",
       "mesesUP greather than 17            mesesUP greather than 2 and less 4          6442.37 <0.005       inf\n",
       "                                    mesesUP greather than 4 and less 17         4353.19 <0.005       inf\n",
       "                                    mesesUP less than 2                        10330.89 <0.005       inf\n",
       "mesesUP greather than 2 and less 4  mesesUP greather than 4 and less 17            0.00   1.00     -0.00\n",
       "                                    mesesUP less than 2                            0.00   1.00     -0.00\n",
       "mesesUP greather than 4 and less 17 mesesUP less than 2                            0.00   1.00     -0.00"
      ],
      "text/latex": [
       "\\begin{tabular}{llrrr}\n",
       "\\toprule\n",
       "                                    &                     &  test\\_statistic &    p &  -log2(p) \\\\\n",
       "\\midrule\n",
       "mesesUP greather than 17 & mesesUP greather than 2 and less 4 &     6442.374708 &  0.0 &       inf \\\\\n",
       "                                    & mesesUP greather than 4 and less 17 &     4353.192689 &  0.0 &       inf \\\\\n",
       "                                    & mesesUP less than 2 &    10330.892545 &  0.0 &       inf \\\\\n",
       "mesesUP greather than 2 and less 4 & mesesUP greather than 4 and less 17 &        0.000000 &  1.0 &      -0.0 \\\\\n",
       "                                    & mesesUP less than 2 &        0.000000 &  1.0 &      -0.0 \\\\\n",
       "mesesUP greather than 4 and less 17 & mesesUP less than 2 &        0.000000 &  1.0 &      -0.0 \\\\\n",
       "\\bottomrule\n",
       "\\end{tabular}\n"
      ],
      "text/html": [
       "<div>\n",
       "<style scoped>\n",
       "    .dataframe tbody tr th:only-of-type {\n",
       "        vertical-align: middle;\n",
       "    }\n",
       "\n",
       "    .dataframe tbody tr th {\n",
       "        vertical-align: top;\n",
       "    }\n",
       "\n",
       "    .dataframe thead th {\n",
       "        text-align: right;\n",
       "    }\n",
       "</style>\n",
       "<table border=\"1\" class=\"dataframe\">\n",
       "  <tbody>\n",
       "    <tr>\n",
       "      <th>t_0</th>\n",
       "      <td>-1</td>\n",
       "    </tr>\n",
       "    <tr>\n",
       "      <th>null_distribution</th>\n",
       "      <td>chi squared</td>\n",
       "    </tr>\n",
       "    <tr>\n",
       "      <th>degrees_of_freedom</th>\n",
       "      <td>1</td>\n",
       "    </tr>\n",
       "    <tr>\n",
       "      <th>test_name</th>\n",
       "      <td>logrank_test</td>\n",
       "    </tr>\n",
       "  </tbody>\n",
       "</table>\n",
       "</div><table border=\"1\" class=\"dataframe\">\n",
       "  <thead>\n",
       "    <tr style=\"text-align: right;\">\n",
       "      <th></th>\n",
       "      <th></th>\n",
       "      <th>test_statistic</th>\n",
       "      <th>p</th>\n",
       "      <th>-log2(p)</th>\n",
       "    </tr>\n",
       "  </thead>\n",
       "  <tbody>\n",
       "    <tr>\n",
       "      <th rowspan=\"3\" valign=\"top\">mesesUP greather than 17</th>\n",
       "      <th>mesesUP greather than 2 and less 4</th>\n",
       "      <td>6442.37</td>\n",
       "      <td>&lt;0.005</td>\n",
       "      <td>inf</td>\n",
       "    </tr>\n",
       "    <tr>\n",
       "      <th>mesesUP greather than 4 and less 17</th>\n",
       "      <td>4353.19</td>\n",
       "      <td>&lt;0.005</td>\n",
       "      <td>inf</td>\n",
       "    </tr>\n",
       "    <tr>\n",
       "      <th>mesesUP less than 2</th>\n",
       "      <td>10330.89</td>\n",
       "      <td>&lt;0.005</td>\n",
       "      <td>inf</td>\n",
       "    </tr>\n",
       "    <tr>\n",
       "      <th rowspan=\"2\" valign=\"top\">mesesUP greather than 2 and less 4</th>\n",
       "      <th>mesesUP greather than 4 and less 17</th>\n",
       "      <td>0.00</td>\n",
       "      <td>1.00</td>\n",
       "      <td>-0.00</td>\n",
       "    </tr>\n",
       "    <tr>\n",
       "      <th>mesesUP less than 2</th>\n",
       "      <td>0.00</td>\n",
       "      <td>1.00</td>\n",
       "      <td>-0.00</td>\n",
       "    </tr>\n",
       "    <tr>\n",
       "      <th>mesesUP greather than 4 and less 17</th>\n",
       "      <th>mesesUP less than 2</th>\n",
       "      <td>0.00</td>\n",
       "      <td>1.00</td>\n",
       "      <td>-0.00</td>\n",
       "    </tr>\n",
       "  </tbody>\n",
       "</table>"
      ]
     },
     "metadata": {}
    }
   ],
   "metadata": {}
  },
  {
   "cell_type": "markdown",
   "source": [
    "## ValorTotal"
   ],
   "metadata": {}
  },
  {
   "cell_type": "code",
   "execution_count": 62,
   "source": [
    "dfCurvas.valorTotal.describe()"
   ],
   "outputs": [
    {
     "output_type": "execute_result",
     "data": {
      "text/plain": [
       "count    25316.000000\n",
       "mean       316.037984\n",
       "std        493.971528\n",
       "min          0.000000\n",
       "25%          5.000000\n",
       "50%         53.000000\n",
       "75%        448.250000\n",
       "max       2602.000000\n",
       "Name: valorTotal, dtype: float64"
      ]
     },
     "metadata": {},
     "execution_count": 62
    }
   ],
   "metadata": {}
  },
  {
   "cell_type": "code",
   "execution_count": 63,
   "source": [
    "var='valorTotal'\n",
    "varEscalao='escValorTotal'\n",
    "dfCurvas[varEscalao]=''\n",
    "for index, cliente in dfCurvas.iterrows():\n",
    "    #se a variável tiver o valor 1 colocar na nova variável a descrição da atividade\n",
    "    if cliente[var] <= 5: \n",
    "        dfCurvas.at[index,varEscalao]=var+' less than 5'\n",
    "    elif (cliente[var] > 5) & (cliente[var] <= 53):\n",
    "        dfCurvas.at[index,varEscalao]=var+' greather than 5 and less 53'\n",
    "    elif (cliente[var] > 53) & (cliente[var] <= 448):\n",
    "        dfCurvas.at[index,varEscalao]=var + ' greather than 53 and less 448'\n",
    "    elif (cliente[var] > 448):\n",
    "        dfCurvas.at[index,varEscalao]=var + ' greather than 448'"
   ],
   "outputs": [],
   "metadata": {}
  },
  {
   "cell_type": "code",
   "execution_count": 64,
   "source": [
    "dfCurvas[varEscalao].value_counts()"
   ],
   "outputs": [
    {
     "output_type": "execute_result",
     "data": {
      "text/plain": [
       "valorTotal less than 5                      7060\n",
       "valorTotal greather than 448                6329\n",
       "valorTotal greather than 53 and less 448    6280\n",
       "valorTotal greather than 5 and less 53      5647\n",
       "Name: escValorTotal, dtype: int64"
      ]
     },
     "metadata": {},
     "execution_count": 64
    }
   ],
   "metadata": {}
  },
  {
   "cell_type": "code",
   "execution_count": 65,
   "source": [
    "curvaSobrevivencia(dfCurvas,varEscalao)"
   ],
   "outputs": [
    {
     "output_type": "display_data",
     "data": {
      "text/plain": [
       "<Figure size 864x360 with 1 Axes>"
      ],
      "image/png": "[encoded data removed]"
     },
     "metadata": {
      "needs_background": "light"
     }
    }
   ],
   "metadata": {}
  },
  {
   "cell_type": "code",
   "execution_count": 66,
   "source": [
    "results=multivariate_logrank_test(event_durations=T,groups=dfCurvas[varEscalao],event_observed=C)\n",
    "results.print_summary()"
   ],
   "outputs": [
    {
     "output_type": "display_data",
     "data": {
      "text/plain": [
       "<lifelines.StatisticalResult: multivariate_logrank_test>\n",
       "               t_0 = -1\n",
       " null_distribution = chi squared\n",
       "degrees_of_freedom = 3\n",
       "         test_name = multivariate_logrank_test\n",
       "\n",
       "---\n",
       " test_statistic      p  -log2(p)\n",
       "        9517.83 <0.005       inf"
      ],
      "text/latex": [
       "\\begin{tabular}{lrrr}\n",
       "\\toprule\n",
       "{} &  test\\_statistic &    p &  -log2(p) \\\\\n",
       "\\midrule\n",
       "0 &     9517.829603 &  0.0 &       inf \\\\\n",
       "\\bottomrule\n",
       "\\end{tabular}\n"
      ],
      "text/html": [
       "<div>\n",
       "<style scoped>\n",
       "    .dataframe tbody tr th:only-of-type {\n",
       "        vertical-align: middle;\n",
       "    }\n",
       "\n",
       "    .dataframe tbody tr th {\n",
       "        vertical-align: top;\n",
       "    }\n",
       "\n",
       "    .dataframe thead th {\n",
       "        text-align: right;\n",
       "    }\n",
       "</style>\n",
       "<table border=\"1\" class=\"dataframe\">\n",
       "  <tbody>\n",
       "    <tr>\n",
       "      <th>t_0</th>\n",
       "      <td>-1</td>\n",
       "    </tr>\n",
       "    <tr>\n",
       "      <th>null_distribution</th>\n",
       "      <td>chi squared</td>\n",
       "    </tr>\n",
       "    <tr>\n",
       "      <th>degrees_of_freedom</th>\n",
       "      <td>3</td>\n",
       "    </tr>\n",
       "    <tr>\n",
       "      <th>test_name</th>\n",
       "      <td>multivariate_logrank_test</td>\n",
       "    </tr>\n",
       "  </tbody>\n",
       "</table>\n",
       "</div><table border=\"1\" class=\"dataframe\">\n",
       "  <thead>\n",
       "    <tr style=\"text-align: right;\">\n",
       "      <th></th>\n",
       "      <th>test_statistic</th>\n",
       "      <th>p</th>\n",
       "      <th>-log2(p)</th>\n",
       "    </tr>\n",
       "  </thead>\n",
       "  <tbody>\n",
       "    <tr>\n",
       "      <th>0</th>\n",
       "      <td>9517.83</td>\n",
       "      <td>&lt;0.005</td>\n",
       "      <td>inf</td>\n",
       "    </tr>\n",
       "  </tbody>\n",
       "</table>"
      ]
     },
     "metadata": {}
    }
   ],
   "metadata": {}
  },
  {
   "cell_type": "code",
   "execution_count": 67,
   "source": [
    "results=pairwise_logrank_test(event_durations=T,groups=dfCurvas[varEscalao],event_observed=C)\n",
    "results.print_summary()"
   ],
   "outputs": [
    {
     "output_type": "display_data",
     "data": {
      "text/plain": [
       "<lifelines.StatisticalResult: logrank_test>\n",
       "               t_0 = -1\n",
       " null_distribution = chi squared\n",
       "degrees_of_freedom = 1\n",
       "         test_name = logrank_test\n",
       "\n",
       "---\n",
       "                                                                                   test_statistic      p  -log2(p)\n",
       "valorTotal greather than 448             valorTotal greather than 5 and less 53           8318.46 <0.005       inf\n",
       "                                         valorTotal greather than 53 and less 448         1527.15 <0.005       inf\n",
       "                                         valorTotal less than 5                           3177.43 <0.005       inf\n",
       "valorTotal greather than 5 and less 53   valorTotal greather than 53 and less 448         2997.58 <0.005       inf\n",
       "                                         valorTotal less than 5                           2005.35 <0.005       inf\n",
       "valorTotal greather than 53 and less 448 valorTotal less than 5                            274.05 <0.005    202.07"
      ],
      "text/latex": [
       "\\begin{tabular}{llrrr}\n",
       "\\toprule\n",
       "                                         &                        &  test\\_statistic &             p &    -log2(p) \\\\\n",
       "\\midrule\n",
       "valorTotal greather than 448 & valorTotal greather than 5 and less 53 &     8318.461705 &  0.000000e+00 &         inf \\\\\n",
       "                                         & valorTotal greather than 53 and less 448 &     1527.147254 &  0.000000e+00 &         inf \\\\\n",
       "                                         & valorTotal less than 5 &     3177.425216 &  0.000000e+00 &         inf \\\\\n",
       "valorTotal greather than 5 and less 53 & valorTotal greather than 53 and less 448 &     2997.582565 &  0.000000e+00 &         inf \\\\\n",
       "                                         & valorTotal less than 5 &     2005.351350 &  0.000000e+00 &         inf \\\\\n",
       "valorTotal greather than 53 and less 448 & valorTotal less than 5 &      274.052087 &  1.485246e-61 &  202.066912 \\\\\n",
       "\\bottomrule\n",
       "\\end{tabular}\n"
      ],
      "text/html": [
       "<div>\n",
       "<style scoped>\n",
       "    .dataframe tbody tr th:only-of-type {\n",
       "        vertical-align: middle;\n",
       "    }\n",
       "\n",
       "    .dataframe tbody tr th {\n",
       "        vertical-align: top;\n",
       "    }\n",
       "\n",
       "    .dataframe thead th {\n",
       "        text-align: right;\n",
       "    }\n",
       "</style>\n",
       "<table border=\"1\" class=\"dataframe\">\n",
       "  <tbody>\n",
       "    <tr>\n",
       "      <th>t_0</th>\n",
       "      <td>-1</td>\n",
       "    </tr>\n",
       "    <tr>\n",
       "      <th>null_distribution</th>\n",
       "      <td>chi squared</td>\n",
       "    </tr>\n",
       "    <tr>\n",
       "      <th>degrees_of_freedom</th>\n",
       "      <td>1</td>\n",
       "    </tr>\n",
       "    <tr>\n",
       "      <th>test_name</th>\n",
       "      <td>logrank_test</td>\n",
       "    </tr>\n",
       "  </tbody>\n",
       "</table>\n",
       "</div><table border=\"1\" class=\"dataframe\">\n",
       "  <thead>\n",
       "    <tr style=\"text-align: right;\">\n",
       "      <th></th>\n",
       "      <th></th>\n",
       "      <th>test_statistic</th>\n",
       "      <th>p</th>\n",
       "      <th>-log2(p)</th>\n",
       "    </tr>\n",
       "  </thead>\n",
       "  <tbody>\n",
       "    <tr>\n",
       "      <th rowspan=\"3\" valign=\"top\">valorTotal greather than 448</th>\n",
       "      <th>valorTotal greather than 5 and less 53</th>\n",
       "      <td>8318.46</td>\n",
       "      <td>&lt;0.005</td>\n",
       "      <td>inf</td>\n",
       "    </tr>\n",
       "    <tr>\n",
       "      <th>valorTotal greather than 53 and less 448</th>\n",
       "      <td>1527.15</td>\n",
       "      <td>&lt;0.005</td>\n",
       "      <td>inf</td>\n",
       "    </tr>\n",
       "    <tr>\n",
       "      <th>valorTotal less than 5</th>\n",
       "      <td>3177.43</td>\n",
       "      <td>&lt;0.005</td>\n",
       "      <td>inf</td>\n",
       "    </tr>\n",
       "    <tr>\n",
       "      <th rowspan=\"2\" valign=\"top\">valorTotal greather than 5 and less 53</th>\n",
       "      <th>valorTotal greather than 53 and less 448</th>\n",
       "      <td>2997.58</td>\n",
       "      <td>&lt;0.005</td>\n",
       "      <td>inf</td>\n",
       "    </tr>\n",
       "    <tr>\n",
       "      <th>valorTotal less than 5</th>\n",
       "      <td>2005.35</td>\n",
       "      <td>&lt;0.005</td>\n",
       "      <td>inf</td>\n",
       "    </tr>\n",
       "    <tr>\n",
       "      <th>valorTotal greather than 53 and less 448</th>\n",
       "      <th>valorTotal less than 5</th>\n",
       "      <td>274.05</td>\n",
       "      <td>&lt;0.005</td>\n",
       "      <td>202.07</td>\n",
       "    </tr>\n",
       "  </tbody>\n",
       "</table>"
      ]
     },
     "metadata": {}
    }
   ],
   "metadata": {}
  },
  {
   "cell_type": "markdown",
   "source": [
    "## quotaMensal"
   ],
   "metadata": {}
  },
  {
   "cell_type": "code",
   "execution_count": 68,
   "source": [
    "varEscalao='quotaMensal'\n",
    "dfCurvas[varEscalao].describe()"
   ],
   "outputs": [
    {
     "output_type": "execute_result",
     "data": {
      "text/plain": [
       "count    25316.000000\n",
       "mean         4.356099\n",
       "std          3.550837\n",
       "min          0.000000\n",
       "25%          1.000000\n",
       "50%          2.500000\n",
       "75%          6.000000\n",
       "max         10.000000\n",
       "Name: quotaMensal, dtype: float64"
      ]
     },
     "metadata": {},
     "execution_count": 68
    }
   ],
   "metadata": {}
  },
  {
   "cell_type": "code",
   "execution_count": 69,
   "source": [
    "dfCurvas[varEscalao].value_counts()"
   ],
   "outputs": [
    {
     "output_type": "execute_result",
     "data": {
      "text/plain": [
       "1.0     8016\n",
       "2.5     7168\n",
       "10.0    6126\n",
       "6.0     3123\n",
       "5.0      869\n",
       "0.0       14\n",
       "Name: quotaMensal, dtype: int64"
      ]
     },
     "metadata": {},
     "execution_count": 69
    }
   ],
   "metadata": {}
  },
  {
   "cell_type": "code",
   "execution_count": 70,
   "source": [
    "curvaSobrevivencia(dfCurvas,varEscalao)"
   ],
   "outputs": [
    {
     "output_type": "display_data",
     "data": {
      "text/plain": [
       "<Figure size 864x360 with 1 Axes>"
      ],
      "image/png": "[encoded data removed]"
     },
     "metadata": {
      "needs_background": "light"
     }
    }
   ],
   "metadata": {}
  },
  {
   "cell_type": "code",
   "execution_count": 71,
   "source": [
    "results=multivariate_logrank_test(event_durations=T,groups=dfCurvas[varEscalao],event_observed=C)\n",
    "results.print_summary()"
   ],
   "outputs": [
    {
     "output_type": "display_data",
     "data": {
      "text/plain": [
       "<lifelines.StatisticalResult: multivariate_logrank_test>\n",
       "               t_0 = -1\n",
       " null_distribution = chi squared\n",
       "degrees_of_freedom = 5\n",
       "         test_name = multivariate_logrank_test\n",
       "\n",
       "---\n",
       " test_statistic      p  -log2(p)\n",
       "        3373.68 <0.005       inf"
      ],
      "text/latex": [
       "\\begin{tabular}{lrrr}\n",
       "\\toprule\n",
       "{} &  test\\_statistic &    p &  -log2(p) \\\\\n",
       "\\midrule\n",
       "0 &     3373.682348 &  0.0 &       inf \\\\\n",
       "\\bottomrule\n",
       "\\end{tabular}\n"
      ],
      "text/html": [
       "<div>\n",
       "<style scoped>\n",
       "    .dataframe tbody tr th:only-of-type {\n",
       "        vertical-align: middle;\n",
       "    }\n",
       "\n",
       "    .dataframe tbody tr th {\n",
       "        vertical-align: top;\n",
       "    }\n",
       "\n",
       "    .dataframe thead th {\n",
       "        text-align: right;\n",
       "    }\n",
       "</style>\n",
       "<table border=\"1\" class=\"dataframe\">\n",
       "  <tbody>\n",
       "    <tr>\n",
       "      <th>t_0</th>\n",
       "      <td>-1</td>\n",
       "    </tr>\n",
       "    <tr>\n",
       "      <th>null_distribution</th>\n",
       "      <td>chi squared</td>\n",
       "    </tr>\n",
       "    <tr>\n",
       "      <th>degrees_of_freedom</th>\n",
       "      <td>5</td>\n",
       "    </tr>\n",
       "    <tr>\n",
       "      <th>test_name</th>\n",
       "      <td>multivariate_logrank_test</td>\n",
       "    </tr>\n",
       "  </tbody>\n",
       "</table>\n",
       "</div><table border=\"1\" class=\"dataframe\">\n",
       "  <thead>\n",
       "    <tr style=\"text-align: right;\">\n",
       "      <th></th>\n",
       "      <th>test_statistic</th>\n",
       "      <th>p</th>\n",
       "      <th>-log2(p)</th>\n",
       "    </tr>\n",
       "  </thead>\n",
       "  <tbody>\n",
       "    <tr>\n",
       "      <th>0</th>\n",
       "      <td>3373.68</td>\n",
       "      <td>&lt;0.005</td>\n",
       "      <td>inf</td>\n",
       "    </tr>\n",
       "  </tbody>\n",
       "</table>"
      ]
     },
     "metadata": {}
    }
   ],
   "metadata": {}
  },
  {
   "cell_type": "code",
   "execution_count": 72,
   "source": [
    "results=pairwise_logrank_test(event_durations=T,groups=dfCurvas[varEscalao],event_observed=C)\n",
    "results.print_summary()"
   ],
   "outputs": [
    {
     "output_type": "display_data",
     "data": {
      "text/plain": [
       "<lifelines.StatisticalResult: logrank_test>\n",
       "               t_0 = -1\n",
       " null_distribution = chi squared\n",
       "degrees_of_freedom = 1\n",
       "         test_name = logrank_test\n",
       "\n",
       "---\n",
       "          test_statistic      p  -log2(p)\n",
       "0.0 1.0             0.84   0.36      1.47\n",
       "    2.5             0.73   0.39      1.34\n",
       "    5.0            76.73 <0.005     58.83\n",
       "    6.0            19.48 <0.005     16.59\n",
       "    10.0           53.94 <0.005     42.14\n",
       "1.0 2.5          1031.08 <0.005    749.10\n",
       "    5.0           653.86 <0.005    476.66\n",
       "    6.0           846.92 <0.005    616.11\n",
       "    10.0         2167.78 <0.005       inf\n",
       "2.5 5.0           340.21 <0.005    249.95\n",
       "    6.0           178.33 <0.005    132.71\n",
       "    10.0          957.33 <0.005    695.85\n",
       "5.0 6.0           109.35 <0.005     82.60\n",
       "    10.0           16.29 <0.005     14.17\n",
       "6.0 10.0          159.39 <0.005    118.97"
      ],
      "text/latex": [
       "\\begin{tabular}{llrrr}\n",
       "\\toprule\n",
       "    &      &  test\\_statistic &              p &    -log2(p) \\\\\n",
       "\\midrule\n",
       "0.0 & 1.0  &        0.837357 &   3.601539e-01 &    1.473315 \\\\\n",
       "    & 2.5  &        0.727220 &   3.937856e-01 &    1.344518 \\\\\n",
       "    & 5.0  &       76.734174 &   1.955894e-18 &   58.826878 \\\\\n",
       "    & 6.0  &       19.484981 &   1.013938e-05 &   16.589671 \\\\\n",
       "    & 10.0 &       53.939692 &   2.067388e-13 &   42.137256 \\\\\n",
       "1.0 & 2.5  &     1031.075028 &  3.160656e-226 &  749.095525 \\\\\n",
       "    & 5.0  &      653.856846 &  3.238374e-144 &  476.662376 \\\\\n",
       "    & 6.0  &      846.919933 &  3.397667e-186 &  616.114081 \\\\\n",
       "    & 10.0 &     2167.783976 &   0.000000e+00 &         inf \\\\\n",
       "2.5 & 5.0  &      340.212952 &   5.734471e-76 &  249.946875 \\\\\n",
       "    & 6.0  &      178.329728 &   1.122322e-40 &  132.710637 \\\\\n",
       "    & 10.0 &      957.333303 &  3.378086e-210 &  695.848694 \\\\\n",
       "5.0 & 6.0  &      109.345324 &   1.363389e-25 &   82.601005 \\\\\n",
       "    & 10.0 &       16.291769 &   5.429930e-05 &   14.168707 \\\\\n",
       "6.0 & 10.0 &      159.387160 &   1.540097e-36 &  118.966390 \\\\\n",
       "\\bottomrule\n",
       "\\end{tabular}\n"
      ],
      "text/html": [
       "<div>\n",
       "<style scoped>\n",
       "    .dataframe tbody tr th:only-of-type {\n",
       "        vertical-align: middle;\n",
       "    }\n",
       "\n",
       "    .dataframe tbody tr th {\n",
       "        vertical-align: top;\n",
       "    }\n",
       "\n",
       "    .dataframe thead th {\n",
       "        text-align: right;\n",
       "    }\n",
       "</style>\n",
       "<table border=\"1\" class=\"dataframe\">\n",
       "  <tbody>\n",
       "    <tr>\n",
       "      <th>t_0</th>\n",
       "      <td>-1</td>\n",
       "    </tr>\n",
       "    <tr>\n",
       "      <th>null_distribution</th>\n",
       "      <td>chi squared</td>\n",
       "    </tr>\n",
       "    <tr>\n",
       "      <th>degrees_of_freedom</th>\n",
       "      <td>1</td>\n",
       "    </tr>\n",
       "    <tr>\n",
       "      <th>test_name</th>\n",
       "      <td>logrank_test</td>\n",
       "    </tr>\n",
       "  </tbody>\n",
       "</table>\n",
       "</div><table border=\"1\" class=\"dataframe\">\n",
       "  <thead>\n",
       "    <tr style=\"text-align: right;\">\n",
       "      <th></th>\n",
       "      <th></th>\n",
       "      <th>test_statistic</th>\n",
       "      <th>p</th>\n",
       "      <th>-log2(p)</th>\n",
       "    </tr>\n",
       "  </thead>\n",
       "  <tbody>\n",
       "    <tr>\n",
       "      <th rowspan=\"5\" valign=\"top\">0.0</th>\n",
       "      <th>1.0</th>\n",
       "      <td>0.84</td>\n",
       "      <td>0.36</td>\n",
       "      <td>1.47</td>\n",
       "    </tr>\n",
       "    <tr>\n",
       "      <th>2.5</th>\n",
       "      <td>0.73</td>\n",
       "      <td>0.39</td>\n",
       "      <td>1.34</td>\n",
       "    </tr>\n",
       "    <tr>\n",
       "      <th>5.0</th>\n",
       "      <td>76.73</td>\n",
       "      <td>&lt;0.005</td>\n",
       "      <td>58.83</td>\n",
       "    </tr>\n",
       "    <tr>\n",
       "      <th>6.0</th>\n",
       "      <td>19.48</td>\n",
       "      <td>&lt;0.005</td>\n",
       "      <td>16.59</td>\n",
       "    </tr>\n",
       "    <tr>\n",
       "      <th>10.0</th>\n",
       "      <td>53.94</td>\n",
       "      <td>&lt;0.005</td>\n",
       "      <td>42.14</td>\n",
       "    </tr>\n",
       "    <tr>\n",
       "      <th rowspan=\"4\" valign=\"top\">1.0</th>\n",
       "      <th>2.5</th>\n",
       "      <td>1031.08</td>\n",
       "      <td>&lt;0.005</td>\n",
       "      <td>749.10</td>\n",
       "    </tr>\n",
       "    <tr>\n",
       "      <th>5.0</th>\n",
       "      <td>653.86</td>\n",
       "      <td>&lt;0.005</td>\n",
       "      <td>476.66</td>\n",
       "    </tr>\n",
       "    <tr>\n",
       "      <th>6.0</th>\n",
       "      <td>846.92</td>\n",
       "      <td>&lt;0.005</td>\n",
       "      <td>616.11</td>\n",
       "    </tr>\n",
       "    <tr>\n",
       "      <th>10.0</th>\n",
       "      <td>2167.78</td>\n",
       "      <td>&lt;0.005</td>\n",
       "      <td>inf</td>\n",
       "    </tr>\n",
       "    <tr>\n",
       "      <th rowspan=\"3\" valign=\"top\">2.5</th>\n",
       "      <th>5.0</th>\n",
       "      <td>340.21</td>\n",
       "      <td>&lt;0.005</td>\n",
       "      <td>249.95</td>\n",
       "    </tr>\n",
       "    <tr>\n",
       "      <th>6.0</th>\n",
       "      <td>178.33</td>\n",
       "      <td>&lt;0.005</td>\n",
       "      <td>132.71</td>\n",
       "    </tr>\n",
       "    <tr>\n",
       "      <th>10.0</th>\n",
       "      <td>957.33</td>\n",
       "      <td>&lt;0.005</td>\n",
       "      <td>695.85</td>\n",
       "    </tr>\n",
       "    <tr>\n",
       "      <th rowspan=\"2\" valign=\"top\">5.0</th>\n",
       "      <th>6.0</th>\n",
       "      <td>109.35</td>\n",
       "      <td>&lt;0.005</td>\n",
       "      <td>82.60</td>\n",
       "    </tr>\n",
       "    <tr>\n",
       "      <th>10.0</th>\n",
       "      <td>16.29</td>\n",
       "      <td>&lt;0.005</td>\n",
       "      <td>14.17</td>\n",
       "    </tr>\n",
       "    <tr>\n",
       "      <th>6.0</th>\n",
       "      <th>10.0</th>\n",
       "      <td>159.39</td>\n",
       "      <td>&lt;0.005</td>\n",
       "      <td>118.97</td>\n",
       "    </tr>\n",
       "  </tbody>\n",
       "</table>"
      ]
     },
     "metadata": {}
    }
   ],
   "metadata": {}
  },
  {
   "cell_type": "markdown",
   "source": [
    "## jogosEpoca"
   ],
   "metadata": {}
  },
  {
   "cell_type": "code",
   "execution_count": 73,
   "source": [
    "var='jogosEpoca'\n",
    "varEscalao='escJogosEpoca'\n",
    "dfCurvas[var].describe()"
   ],
   "outputs": [
    {
     "output_type": "execute_result",
     "data": {
      "text/plain": [
       "count    25316.000000\n",
       "mean         2.171631\n",
       "std          4.076356\n",
       "min          0.000000\n",
       "25%          0.000000\n",
       "50%          0.000000\n",
       "75%          2.000000\n",
       "max         16.000000\n",
       "Name: jogosEpoca, dtype: float64"
      ]
     },
     "metadata": {},
     "execution_count": 73
    }
   ],
   "metadata": {}
  },
  {
   "cell_type": "code",
   "execution_count": 74,
   "source": [
    "dfCurvas[varEscalao]=''\n",
    "for index, cliente in dfCurvas.iterrows():\n",
    "    #se a variável tiver o valor 1 colocar na nova variável a descrição da atividade\n",
    "    if cliente[var] <= 2: \n",
    "        dfCurvas.at[index,varEscalao]=var+' less than 2'\n",
    "    elif (cliente[var] > 2):\n",
    "        dfCurvas.at[index,varEscalao]=var + ' greather than 2'"
   ],
   "outputs": [],
   "metadata": {}
  },
  {
   "cell_type": "code",
   "execution_count": 75,
   "source": [
    "dfCurvas[varEscalao].value_counts()"
   ],
   "outputs": [
    {
     "output_type": "execute_result",
     "data": {
      "text/plain": [
       "jogosEpoca less than 2        19015\n",
       "jogosEpoca greather than 2     6301\n",
       "Name: escJogosEpoca, dtype: int64"
      ]
     },
     "metadata": {},
     "execution_count": 75
    }
   ],
   "metadata": {}
  },
  {
   "cell_type": "code",
   "execution_count": 76,
   "source": [
    "curvaSobrevivencia(dfCurvas,varEscalao)"
   ],
   "outputs": [
    {
     "output_type": "display_data",
     "data": {
      "text/plain": [
       "<Figure size 864x360 with 1 Axes>"
      ],
      "image/png": "[encoded data removed]"
     },
     "metadata": {
      "needs_background": "light"
     }
    }
   ],
   "metadata": {}
  },
  {
   "cell_type": "code",
   "execution_count": 77,
   "source": [
    "results=multivariate_logrank_test(event_durations=T,groups=dfCurvas[varEscalao],event_observed=C)\n",
    "results.print_summary()"
   ],
   "outputs": [
    {
     "output_type": "display_data",
     "data": {
      "text/plain": [
       "<lifelines.StatisticalResult: multivariate_logrank_test>\n",
       "               t_0 = -1\n",
       " null_distribution = chi squared\n",
       "degrees_of_freedom = 1\n",
       "         test_name = multivariate_logrank_test\n",
       "\n",
       "---\n",
       " test_statistic      p  -log2(p)\n",
       "        3270.33 <0.005       inf"
      ],
      "text/latex": [
       "\\begin{tabular}{lrrr}\n",
       "\\toprule\n",
       "{} &  test\\_statistic &    p &  -log2(p) \\\\\n",
       "\\midrule\n",
       "0 &     3270.332736 &  0.0 &       inf \\\\\n",
       "\\bottomrule\n",
       "\\end{tabular}\n"
      ],
      "text/html": [
       "<div>\n",
       "<style scoped>\n",
       "    .dataframe tbody tr th:only-of-type {\n",
       "        vertical-align: middle;\n",
       "    }\n",
       "\n",
       "    .dataframe tbody tr th {\n",
       "        vertical-align: top;\n",
       "    }\n",
       "\n",
       "    .dataframe thead th {\n",
       "        text-align: right;\n",
       "    }\n",
       "</style>\n",
       "<table border=\"1\" class=\"dataframe\">\n",
       "  <tbody>\n",
       "    <tr>\n",
       "      <th>t_0</th>\n",
       "      <td>-1</td>\n",
       "    </tr>\n",
       "    <tr>\n",
       "      <th>null_distribution</th>\n",
       "      <td>chi squared</td>\n",
       "    </tr>\n",
       "    <tr>\n",
       "      <th>degrees_of_freedom</th>\n",
       "      <td>1</td>\n",
       "    </tr>\n",
       "    <tr>\n",
       "      <th>test_name</th>\n",
       "      <td>multivariate_logrank_test</td>\n",
       "    </tr>\n",
       "  </tbody>\n",
       "</table>\n",
       "</div><table border=\"1\" class=\"dataframe\">\n",
       "  <thead>\n",
       "    <tr style=\"text-align: right;\">\n",
       "      <th></th>\n",
       "      <th>test_statistic</th>\n",
       "      <th>p</th>\n",
       "      <th>-log2(p)</th>\n",
       "    </tr>\n",
       "  </thead>\n",
       "  <tbody>\n",
       "    <tr>\n",
       "      <th>0</th>\n",
       "      <td>3270.33</td>\n",
       "      <td>&lt;0.005</td>\n",
       "      <td>inf</td>\n",
       "    </tr>\n",
       "  </tbody>\n",
       "</table>"
      ]
     },
     "metadata": {}
    }
   ],
   "metadata": {}
  },
  {
   "cell_type": "code",
   "execution_count": 78,
   "source": [
    "results=pairwise_logrank_test(event_durations=T,groups=dfCurvas[varEscalao],event_observed=C)\n",
    "results.print_summary()"
   ],
   "outputs": [
    {
     "output_type": "display_data",
     "data": {
      "text/plain": [
       "<lifelines.StatisticalResult: logrank_test>\n",
       "               t_0 = -1\n",
       " null_distribution = chi squared\n",
       "degrees_of_freedom = 1\n",
       "         test_name = logrank_test\n",
       "\n",
       "---\n",
       "                                                   test_statistic      p  -log2(p)\n",
       "jogosEpoca greather than 2 jogosEpoca less than 2         3270.33 <0.005       inf"
      ],
      "text/latex": [
       "\\begin{tabular}{llrrr}\n",
       "\\toprule\n",
       "                           &                        &  test\\_statistic &    p &  -log2(p) \\\\\n",
       "\\midrule\n",
       "jogosEpoca greather than 2 & jogosEpoca less than 2 &     3270.332736 &  0.0 &       inf \\\\\n",
       "\\bottomrule\n",
       "\\end{tabular}\n"
      ],
      "text/html": [
       "<div>\n",
       "<style scoped>\n",
       "    .dataframe tbody tr th:only-of-type {\n",
       "        vertical-align: middle;\n",
       "    }\n",
       "\n",
       "    .dataframe tbody tr th {\n",
       "        vertical-align: top;\n",
       "    }\n",
       "\n",
       "    .dataframe thead th {\n",
       "        text-align: right;\n",
       "    }\n",
       "</style>\n",
       "<table border=\"1\" class=\"dataframe\">\n",
       "  <tbody>\n",
       "    <tr>\n",
       "      <th>t_0</th>\n",
       "      <td>-1</td>\n",
       "    </tr>\n",
       "    <tr>\n",
       "      <th>null_distribution</th>\n",
       "      <td>chi squared</td>\n",
       "    </tr>\n",
       "    <tr>\n",
       "      <th>degrees_of_freedom</th>\n",
       "      <td>1</td>\n",
       "    </tr>\n",
       "    <tr>\n",
       "      <th>test_name</th>\n",
       "      <td>logrank_test</td>\n",
       "    </tr>\n",
       "  </tbody>\n",
       "</table>\n",
       "</div><table border=\"1\" class=\"dataframe\">\n",
       "  <thead>\n",
       "    <tr style=\"text-align: right;\">\n",
       "      <th></th>\n",
       "      <th></th>\n",
       "      <th>test_statistic</th>\n",
       "      <th>p</th>\n",
       "      <th>-log2(p)</th>\n",
       "    </tr>\n",
       "  </thead>\n",
       "  <tbody>\n",
       "    <tr>\n",
       "      <th>jogosEpoca greather than 2</th>\n",
       "      <th>jogosEpoca less than 2</th>\n",
       "      <td>3270.33</td>\n",
       "      <td>&lt;0.005</td>\n",
       "      <td>inf</td>\n",
       "    </tr>\n",
       "  </tbody>\n",
       "</table>"
      ]
     },
     "metadata": {}
    }
   ],
   "metadata": {}
  },
  {
   "cell_type": "markdown",
   "source": [
    "## escalaoTotalJogos"
   ],
   "metadata": {}
  },
  {
   "cell_type": "code",
   "execution_count": 79,
   "source": [
    "var='escaloesTotalJogos'\n",
    "dfCurvas[var].describe()"
   ],
   "outputs": [
    {
     "output_type": "execute_result",
     "data": {
      "text/plain": [
       "count     25316\n",
       "unique        5\n",
       "top       ate 1\n",
       "freq      15155\n",
       "Name: escaloesTotalJogos, dtype: object"
      ]
     },
     "metadata": {},
     "execution_count": 79
    }
   ],
   "metadata": {}
  },
  {
   "cell_type": "code",
   "execution_count": 80,
   "source": [
    "dfCurvas[var].value_counts()"
   ],
   "outputs": [
    {
     "output_type": "execute_result",
     "data": {
      "text/plain": [
       "ate 1       15155\n",
       "1 a 21       2627\n",
       "mais 105     2527\n",
       "56 a 105     2519\n",
       "21 a 56      2488\n",
       "Name: escaloesTotalJogos, dtype: int64"
      ]
     },
     "metadata": {},
     "execution_count": 80
    }
   ],
   "metadata": {}
  },
  {
   "cell_type": "code",
   "execution_count": 81,
   "source": [
    "curvaSobrevivencia(dfCurvas,var)"
   ],
   "outputs": [
    {
     "output_type": "display_data",
     "data": {
      "text/plain": [
       "<Figure size 864x360 with 1 Axes>"
      ],
      "image/png": "[encoded data removed]"
     },
     "metadata": {
      "needs_background": "light"
     }
    }
   ],
   "metadata": {}
  },
  {
   "cell_type": "code",
   "execution_count": 82,
   "source": [
    "results=multivariate_logrank_test(event_durations=T,groups=dfCurvas[var],event_observed=C)\n",
    "results.print_summary()"
   ],
   "outputs": [
    {
     "output_type": "display_data",
     "data": {
      "text/plain": [
       "<lifelines.StatisticalResult: multivariate_logrank_test>\n",
       "               t_0 = -1\n",
       " null_distribution = chi squared\n",
       "degrees_of_freedom = 4\n",
       "         test_name = multivariate_logrank_test\n",
       "\n",
       "---\n",
       " test_statistic      p  -log2(p)\n",
       "        3147.50 <0.005       inf"
      ],
      "text/latex": [
       "\\begin{tabular}{lrrr}\n",
       "\\toprule\n",
       "{} &  test\\_statistic &    p &  -log2(p) \\\\\n",
       "\\midrule\n",
       "0 &     3147.499074 &  0.0 &       inf \\\\\n",
       "\\bottomrule\n",
       "\\end{tabular}\n"
      ],
      "text/html": [
       "<div>\n",
       "<style scoped>\n",
       "    .dataframe tbody tr th:only-of-type {\n",
       "        vertical-align: middle;\n",
       "    }\n",
       "\n",
       "    .dataframe tbody tr th {\n",
       "        vertical-align: top;\n",
       "    }\n",
       "\n",
       "    .dataframe thead th {\n",
       "        text-align: right;\n",
       "    }\n",
       "</style>\n",
       "<table border=\"1\" class=\"dataframe\">\n",
       "  <tbody>\n",
       "    <tr>\n",
       "      <th>t_0</th>\n",
       "      <td>-1</td>\n",
       "    </tr>\n",
       "    <tr>\n",
       "      <th>null_distribution</th>\n",
       "      <td>chi squared</td>\n",
       "    </tr>\n",
       "    <tr>\n",
       "      <th>degrees_of_freedom</th>\n",
       "      <td>4</td>\n",
       "    </tr>\n",
       "    <tr>\n",
       "      <th>test_name</th>\n",
       "      <td>multivariate_logrank_test</td>\n",
       "    </tr>\n",
       "  </tbody>\n",
       "</table>\n",
       "</div><table border=\"1\" class=\"dataframe\">\n",
       "  <thead>\n",
       "    <tr style=\"text-align: right;\">\n",
       "      <th></th>\n",
       "      <th>test_statistic</th>\n",
       "      <th>p</th>\n",
       "      <th>-log2(p)</th>\n",
       "    </tr>\n",
       "  </thead>\n",
       "  <tbody>\n",
       "    <tr>\n",
       "      <th>0</th>\n",
       "      <td>3147.50</td>\n",
       "      <td>&lt;0.005</td>\n",
       "      <td>inf</td>\n",
       "    </tr>\n",
       "  </tbody>\n",
       "</table>"
      ]
     },
     "metadata": {}
    }
   ],
   "metadata": {}
  },
  {
   "cell_type": "code",
   "execution_count": 83,
   "source": [
    "results=pairwise_logrank_test(event_durations=T,groups=dfCurvas[var],event_observed=C)\n",
    "results.print_summary()"
   ],
   "outputs": [
    {
     "output_type": "display_data",
     "data": {
      "text/plain": [
       "<lifelines.StatisticalResult: logrank_test>\n",
       "               t_0 = -1\n",
       " null_distribution = chi squared\n",
       "degrees_of_freedom = 1\n",
       "         test_name = logrank_test\n",
       "\n",
       "---\n",
       "                   test_statistic      p  -log2(p)\n",
       "1 a 21   21 a 56           159.95 <0.005    119.37\n",
       "         56 a 105          816.39 <0.005    594.06\n",
       "         ate 1              11.45 <0.005     10.45\n",
       "         mais 105         1574.87 <0.005       inf\n",
       "21 a 56  56 a 105          279.88 <0.005    206.29\n",
       "         ate 1             361.25 <0.005    265.17\n",
       "         mais 105          851.98 <0.005    619.77\n",
       "56 a 105 ate 1            1204.15 <0.005    874.05\n",
       "         mais 105          217.91 <0.005    161.41\n",
       "ate 1    mais 105         1894.32 <0.005       inf"
      ],
      "text/latex": [
       "\\begin{tabular}{llrrr}\n",
       "\\toprule\n",
       "      &          &  test\\_statistic &              p &    -log2(p) \\\\\n",
       "\\midrule\n",
       "1 a 21 & 21 a 56 &      159.947442 &   1.161801e-36 &  119.373049 \\\\\n",
       "      & 56 a 105 &      816.389467 &  1.474826e-179 &  594.064585 \\\\\n",
       "      & ate 1 &       11.448851 &   7.153824e-04 &   10.448998 \\\\\n",
       "      & mais 105 &     1574.871681 &   0.000000e+00 &         inf \\\\\n",
       "21 a 56 & 56 a 105 &      279.881955 &   7.967468e-63 &  206.287349 \\\\\n",
       "      & ate 1 &      361.252035 &   1.502998e-80 &  265.166405 \\\\\n",
       "      & mais 105 &      851.984446 &  2.692429e-187 &  619.771645 \\\\\n",
       "56 a 105 & ate 1 &     1204.146733 &  7.657725e-264 &  874.052101 \\\\\n",
       "      & mais 105 &      217.912019 &   2.581281e-49 &  161.406390 \\\\\n",
       "ate 1 & mais 105 &     1894.318290 &   0.000000e+00 &         inf \\\\\n",
       "\\bottomrule\n",
       "\\end{tabular}\n"
      ],
      "text/html": [
       "<div>\n",
       "<style scoped>\n",
       "    .dataframe tbody tr th:only-of-type {\n",
       "        vertical-align: middle;\n",
       "    }\n",
       "\n",
       "    .dataframe tbody tr th {\n",
       "        vertical-align: top;\n",
       "    }\n",
       "\n",
       "    .dataframe thead th {\n",
       "        text-align: right;\n",
       "    }\n",
       "</style>\n",
       "<table border=\"1\" class=\"dataframe\">\n",
       "  <tbody>\n",
       "    <tr>\n",
       "      <th>t_0</th>\n",
       "      <td>-1</td>\n",
       "    </tr>\n",
       "    <tr>\n",
       "      <th>null_distribution</th>\n",
       "      <td>chi squared</td>\n",
       "    </tr>\n",
       "    <tr>\n",
       "      <th>degrees_of_freedom</th>\n",
       "      <td>1</td>\n",
       "    </tr>\n",
       "    <tr>\n",
       "      <th>test_name</th>\n",
       "      <td>logrank_test</td>\n",
       "    </tr>\n",
       "  </tbody>\n",
       "</table>\n",
       "</div><table border=\"1\" class=\"dataframe\">\n",
       "  <thead>\n",
       "    <tr style=\"text-align: right;\">\n",
       "      <th></th>\n",
       "      <th></th>\n",
       "      <th>test_statistic</th>\n",
       "      <th>p</th>\n",
       "      <th>-log2(p)</th>\n",
       "    </tr>\n",
       "  </thead>\n",
       "  <tbody>\n",
       "    <tr>\n",
       "      <th rowspan=\"4\" valign=\"top\">1 a 21</th>\n",
       "      <th>21 a 56</th>\n",
       "      <td>159.95</td>\n",
       "      <td>&lt;0.005</td>\n",
       "      <td>119.37</td>\n",
       "    </tr>\n",
       "    <tr>\n",
       "      <th>56 a 105</th>\n",
       "      <td>816.39</td>\n",
       "      <td>&lt;0.005</td>\n",
       "      <td>594.06</td>\n",
       "    </tr>\n",
       "    <tr>\n",
       "      <th>ate 1</th>\n",
       "      <td>11.45</td>\n",
       "      <td>&lt;0.005</td>\n",
       "      <td>10.45</td>\n",
       "    </tr>\n",
       "    <tr>\n",
       "      <th>mais 105</th>\n",
       "      <td>1574.87</td>\n",
       "      <td>&lt;0.005</td>\n",
       "      <td>inf</td>\n",
       "    </tr>\n",
       "    <tr>\n",
       "      <th rowspan=\"3\" valign=\"top\">21 a 56</th>\n",
       "      <th>56 a 105</th>\n",
       "      <td>279.88</td>\n",
       "      <td>&lt;0.005</td>\n",
       "      <td>206.29</td>\n",
       "    </tr>\n",
       "    <tr>\n",
       "      <th>ate 1</th>\n",
       "      <td>361.25</td>\n",
       "      <td>&lt;0.005</td>\n",
       "      <td>265.17</td>\n",
       "    </tr>\n",
       "    <tr>\n",
       "      <th>mais 105</th>\n",
       "      <td>851.98</td>\n",
       "      <td>&lt;0.005</td>\n",
       "      <td>619.77</td>\n",
       "    </tr>\n",
       "    <tr>\n",
       "      <th rowspan=\"2\" valign=\"top\">56 a 105</th>\n",
       "      <th>ate 1</th>\n",
       "      <td>1204.15</td>\n",
       "      <td>&lt;0.005</td>\n",
       "      <td>874.05</td>\n",
       "    </tr>\n",
       "    <tr>\n",
       "      <th>mais 105</th>\n",
       "      <td>217.91</td>\n",
       "      <td>&lt;0.005</td>\n",
       "      <td>161.41</td>\n",
       "    </tr>\n",
       "    <tr>\n",
       "      <th>ate 1</th>\n",
       "      <th>mais 105</th>\n",
       "      <td>1894.32</td>\n",
       "      <td>&lt;0.005</td>\n",
       "      <td>inf</td>\n",
       "    </tr>\n",
       "  </tbody>\n",
       "</table>"
      ]
     },
     "metadata": {}
    }
   ],
   "metadata": {}
  },
  {
   "cell_type": "markdown",
   "source": [
    "## estadoCivil"
   ],
   "metadata": {}
  },
  {
   "cell_type": "code",
   "execution_count": 84,
   "source": [
    "var='estadoCivil'\n",
    "dfCurvas[var].describe()"
   ],
   "outputs": [
    {
     "output_type": "execute_result",
     "data": {
      "text/plain": [
       "count        25316\n",
       "unique           4\n",
       "top       solteiro\n",
       "freq         12065\n",
       "Name: estadoCivil, dtype: object"
      ]
     },
     "metadata": {},
     "execution_count": 84
    }
   ],
   "metadata": {}
  },
  {
   "cell_type": "code",
   "execution_count": 85,
   "source": [
    "dfCurvas[var].value_counts()"
   ],
   "outputs": [
    {
     "output_type": "execute_result",
     "data": {
      "text/plain": [
       "solteiro        12065\n",
       "nao definido     7667\n",
       "casado           5085\n",
       "outro             499\n",
       "Name: estadoCivil, dtype: int64"
      ]
     },
     "metadata": {},
     "execution_count": 85
    }
   ],
   "metadata": {}
  },
  {
   "cell_type": "code",
   "execution_count": 86,
   "source": [
    "curvaSobrevivencia(dfCurvas,var)"
   ],
   "outputs": [
    {
     "output_type": "display_data",
     "data": {
      "text/plain": [
       "<Figure size 864x360 with 1 Axes>"
      ],
      "image/png": "[encoded data removed]"
     },
     "metadata": {
      "needs_background": "light"
     }
    }
   ],
   "metadata": {}
  },
  {
   "cell_type": "code",
   "execution_count": 87,
   "source": [
    "results=multivariate_logrank_test(event_durations=T,groups=dfCurvas[var],event_observed=C)\n",
    "results.print_summary"
   ],
   "outputs": [
    {
     "output_type": "execute_result",
     "data": {
      "text/plain": [
       "<bound method StatisticalResult.print_summary of <lifelines.StatisticalResult: multivariate_logrank_test>\n",
       "               t_0 = -1\n",
       " null_distribution = chi squared\n",
       "degrees_of_freedom = 3\n",
       "         test_name = multivariate_logrank_test\n",
       "\n",
       "---\n",
       " test_statistic      p  -log2(p)\n",
       "        1350.15 <0.005    969.05>"
      ]
     },
     "metadata": {},
     "execution_count": 87
    }
   ],
   "metadata": {}
  },
  {
   "cell_type": "code",
   "execution_count": 88,
   "source": [
    "results=pairwise_logrank_test(event_durations=T,groups=dfCurvas[var],event_observed=C)\n",
    "results.print_summary()"
   ],
   "outputs": [
    {
     "output_type": "display_data",
     "data": {
      "text/plain": [
       "<lifelines.StatisticalResult: logrank_test>\n",
       "               t_0 = -1\n",
       " null_distribution = chi squared\n",
       "degrees_of_freedom = 1\n",
       "         test_name = logrank_test\n",
       "\n",
       "---\n",
       "                           test_statistic      p  -log2(p)\n",
       "casado       nao definido         1387.59 <0.005   1006.48\n",
       "             outro                  16.82 <0.005     14.57\n",
       "             solteiro              763.13 <0.005    555.60\n",
       "nao definido outro                  84.70 <0.005     64.65\n",
       "             solteiro               86.34 <0.005     65.84\n",
       "outro        solteiro               35.30 <0.005     28.40"
      ],
      "text/latex": [
       "\\begin{tabular}{llrrr}\n",
       "\\toprule\n",
       "      &          &  test\\_statistic &              p &     -log2(p) \\\\\n",
       "\\midrule\n",
       "casado & nao definido &     1387.589094 &  1.045572e-303 &  1006.479921 \\\\\n",
       "      & outro &       16.817280 &   4.115683e-05 &    14.568509 \\\\\n",
       "      & solteiro &      763.130292 &  5.603198e-168 &   555.597669 \\\\\n",
       "nao definido & outro &       84.704006 &   3.465475e-20 &    64.645509 \\\\\n",
       "      & solteiro &       86.339240 &   1.515709e-20 &    65.838569 \\\\\n",
       "outro & solteiro &       35.301134 &   2.824676e-09 &    28.399268 \\\\\n",
       "\\bottomrule\n",
       "\\end{tabular}\n"
      ],
      "text/html": [
       "<div>\n",
       "<style scoped>\n",
       "    .dataframe tbody tr th:only-of-type {\n",
       "        vertical-align: middle;\n",
       "    }\n",
       "\n",
       "    .dataframe tbody tr th {\n",
       "        vertical-align: top;\n",
       "    }\n",
       "\n",
       "    .dataframe thead th {\n",
       "        text-align: right;\n",
       "    }\n",
       "</style>\n",
       "<table border=\"1\" class=\"dataframe\">\n",
       "  <tbody>\n",
       "    <tr>\n",
       "      <th>t_0</th>\n",
       "      <td>-1</td>\n",
       "    </tr>\n",
       "    <tr>\n",
       "      <th>null_distribution</th>\n",
       "      <td>chi squared</td>\n",
       "    </tr>\n",
       "    <tr>\n",
       "      <th>degrees_of_freedom</th>\n",
       "      <td>1</td>\n",
       "    </tr>\n",
       "    <tr>\n",
       "      <th>test_name</th>\n",
       "      <td>logrank_test</td>\n",
       "    </tr>\n",
       "  </tbody>\n",
       "</table>\n",
       "</div><table border=\"1\" class=\"dataframe\">\n",
       "  <thead>\n",
       "    <tr style=\"text-align: right;\">\n",
       "      <th></th>\n",
       "      <th></th>\n",
       "      <th>test_statistic</th>\n",
       "      <th>p</th>\n",
       "      <th>-log2(p)</th>\n",
       "    </tr>\n",
       "  </thead>\n",
       "  <tbody>\n",
       "    <tr>\n",
       "      <th rowspan=\"3\" valign=\"top\">casado</th>\n",
       "      <th>nao definido</th>\n",
       "      <td>1387.59</td>\n",
       "      <td>&lt;0.005</td>\n",
       "      <td>1006.48</td>\n",
       "    </tr>\n",
       "    <tr>\n",
       "      <th>outro</th>\n",
       "      <td>16.82</td>\n",
       "      <td>&lt;0.005</td>\n",
       "      <td>14.57</td>\n",
       "    </tr>\n",
       "    <tr>\n",
       "      <th>solteiro</th>\n",
       "      <td>763.13</td>\n",
       "      <td>&lt;0.005</td>\n",
       "      <td>555.60</td>\n",
       "    </tr>\n",
       "    <tr>\n",
       "      <th rowspan=\"2\" valign=\"top\">nao definido</th>\n",
       "      <th>outro</th>\n",
       "      <td>84.70</td>\n",
       "      <td>&lt;0.005</td>\n",
       "      <td>64.65</td>\n",
       "    </tr>\n",
       "    <tr>\n",
       "      <th>solteiro</th>\n",
       "      <td>86.34</td>\n",
       "      <td>&lt;0.005</td>\n",
       "      <td>65.84</td>\n",
       "    </tr>\n",
       "    <tr>\n",
       "      <th>outro</th>\n",
       "      <th>solteiro</th>\n",
       "      <td>35.30</td>\n",
       "      <td>&lt;0.005</td>\n",
       "      <td>28.40</td>\n",
       "    </tr>\n",
       "  </tbody>\n",
       "</table>"
      ]
     },
     "metadata": {}
    }
   ],
   "metadata": {}
  }
 ],
 "metadata": {
  "kernelspec": {
   "display_name": "Python 3",
   "language": "python",
   "name": "python3"
  },
  "language_info": {
   "codemirror_mode": {
    "name": "ipython",
    "version": 3
   },
   "file_extension": ".py",
   "mimetype": "text/x-python",
   "name": "python",
   "nbconvert_exporter": "python",
   "pygments_lexer": "ipython3",
   "version": "3.8.5"
  },
  "toc-autonumbering": true,
  "toc-showtags": false
 },
 "nbformat": 4,
 "nbformat_minor": 4
}