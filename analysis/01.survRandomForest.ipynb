{
 "cells": [
  {
   "cell_type": "markdown",
   "source": [
    "# Random Survival Forest\n",
    "\n",
    "Customer churn/attrition, a.k.a the percentage of customers that stop using paying \n",
    "services,\n",
    "is one of the most important metrics for a business, as it usually costs more to acquire new customers than it does to retain existing ones. Indeed, according to a study by Bain & Company, existing customers tend to buy more from a company over time, thus reducing the operating costs of the business and may refer the products they use to others. For example, in financial services, a 5% increase in customer retention produces more than a 25% increase in profit. By using Survival Analysis, not only companies can predict if customers are likely to stop doing business but also when that event might happen.\n",
    "\n",
    "## Methods\n",
    "\n",
    "In this study, we adopt random survival forests which have never been used in understanding \n",
    "factors affecting membership in a sport club using existing data in a Sport Club. \n",
    "The analysis is based on the use of random survival forests in the presence of covariates \n",
    "that do not necessarily satisfy the PH assumption. \n",
    "Random Survival Forests does not make the proportional hazards assumption (Ehrlinger, 2016) \n",
    "and has the flexibility to model survivor curves that are of dissimilar shapes for \n",
    "contrastinggroups of subjects. Random Survival Forest is an extension of Random Forest \n",
    "allowing efficient non-parametric analysis of time to event data (Breiman, 2001). \n",
    "This characteristcs allow us to surpass the Cox Regression limitation of the proportional hazard\n",
    "assumption, requiring to exclude variables which not fullfill the model assumption. \n",
    "It was shown by (Breiman, 2001) that ensemble learning can be further improved by injecting \n",
    "randomization into the base learning process - a method called Random Forests.  \n",
    "The random survival forest was developed using the package PySurvival (Fotso & Others, 2019)\n",
    "The most relevant variables predicting the dropout are analysed using the log-rank test. \n",
    "The metric variables are transformed to categorical using the quartiles to provide a statistical\n",
    "comparison of groups. \n",
    "The survival analysis was conducted using the package Lifelines (Davidson-Pilon et al., 2017).\n",
    "\n",
    "## Results\n",
    "The initial model has a c-index of 0.92. After removing estadoCivil_outro and ano c-index improved to 0.94. Without idade improved to 0.95. \n",
    "The most relevant variables predicting the dropout are:\n",
    "- mesesUP\n",
    "- valorTotal\n",
    "- anoUltimoPagamento\n",
    "- quotaMensal\n",
    "- escaloesTotalJogos_ate 1\n",
    "- jogosEpoca\n",
    "- escaloesTotalJogos_56 a 105\n",
    "- estadoCivil_solteiro\n",
    "- escaloesTotalJogos_21 a 56\n",
    "- escaloesTotalJogos_mais 105\n",
    "- sexo_M\n",
    "- estadoCivil_nao definido\n",
    "\n",
    "TODO: COLOCAR ESTA DESCRIÇÃO PARA TODAS AS VARIÁVEIS:\n",
    "There were identified significative differences between the gender groups (χ2=194.63, p < .005), wrenew two or more contracts, the survival probability for 12 months is 85.49%\n",
    "\n",
    "## Methods bibliography\n",
    "- Ehrlinger, J. (2016). ggRandomForests: Exploring Random Forest Survival. ArXiv:1612.08974 [Stat]. http://arxiv.org/abs/1612.08974\n",
    "- Breiman, L. (2001). Random Forests. Machine Learning, 45(1), 5–32. https://doi.org/10/d8zjwq\n",
    "- Fotso, S., & others. (2019). PySurvival: Open source package for Survival Analysis modeling. https://www.pysurvival.io/"
   ],
   "metadata": {}
  },
  {
   "cell_type": "markdown",
   "source": [
    "# Dataset\n",
    "Considering the sport club policies all the customers with payments less than 24 months where considered active:  \n",
    "- dt['abandonou'] = 0\n",
    "- dt.loc[dt['mesesUP']>=24,'abandonou']=1\n",
    "\n",
    "The variables extracted from the software correspond to the time interval of becoming a customer until the end of observation (censoring on 31 Maio 2019) or the end of the customer relationship (dropout). The survival time in the dataset is represented by the number of years the customer begin affilated.\n",
    "\n",
    "We extracted records of 25316 customers (male n=17246, female n=8070) from a sport club; data corresponded to the time period between October 1, 1944 and May 31, 2019. "
   ],
   "metadata": {}
  },
  {
   "cell_type": "code",
   "execution_count": 3,
   "source": [
    "from IPython.display import HTML\n",
    "from matplotlib import pyplot as plt\n",
    "import numpy as np\n",
    "import pandas as pd\n",
    "import datetime\n",
    "import seaborn as sns\n",
    "\n",
    "df = pd.read_excel('../data/dadosSociosTratados.xlsx',index_col=0)"
   ],
   "outputs": [],
   "metadata": {}
  },
  {
   "cell_type": "markdown",
   "source": [
    "## Description"
   ],
   "metadata": {}
  },
  {
   "cell_type": "markdown",
   "source": [
    "Variáveis:\n",
    "\n",
    "- ano: ano inscrição sócio\n",
    "- idade: numérica\n",
    "- sexo: M ou F\n",
    "- estadoCivil: solteiro, não definido, casado, outro\n",
    "- quotaMensal: valor da quota mensal\n",
    "- ultimPagamento: Quando é que foi realizado o último pagamento\n",
    "- valorTotal: Valor total pago\n",
    "- totalJogos: Total de Jogos que o sócio foi\n",
    "- jogosEpoca: Jogos vistos na última época\n",
    "- mesesUP: Quantos meses desde o último pagamento\n",
    "- anosSocio: Há quantos anos é sócio\n",
    "- idaEstágio: Vai ou não ao estádio\n",
    "- abandonou: 1 não é sócio, 0 é sócio censura\n",
    "\n",
    "Ei is the event indicator such that Ei=1, if an event happens and Ei=0 in case of censoring\n",
    "\n",
    "As variáveis categóricas foram transformadas em dummies:\n",
    "- sexo\n",
    "- estadoCivil\n",
    "- escaloesTotalJogos\n"
   ],
   "metadata": {}
  },
  {
   "cell_type": "code",
   "execution_count": 4,
   "source": [
    "df.sexo.value_counts()"
   ],
   "outputs": [
    {
     "output_type": "execute_result",
     "data": {
      "text/plain": [
       "M    17246\n",
       "F     8070\n",
       "Name: sexo, dtype: int64"
      ]
     },
     "metadata": {},
     "execution_count": 4
    }
   ],
   "metadata": {}
  },
  {
   "cell_type": "code",
   "execution_count": 5,
   "source": [
    "df.describe()"
   ],
   "outputs": [
    {
     "output_type": "execute_result",
     "data": {
      "text/plain": [
       "                ano         idade   quotaMensal    valorTotal    totalJogos  \\\n",
       "count  25316.000000  25316.000000  25316.000000  25316.000000  25316.000000   \n",
       "mean    2007.048033     27.262996      4.356099    316.037984     26.535946   \n",
       "std       10.937818     20.087078      3.550837    493.971528     45.812996   \n",
       "min     1944.000000    -70.000000      0.000000      0.000000      0.000000   \n",
       "25%     2004.000000     13.000000      1.000000      5.000000      0.000000   \n",
       "50%     2010.000000     19.000000      2.500000     53.000000      0.000000   \n",
       "75%     2014.000000     41.000000      6.000000    448.250000     36.000000   \n",
       "max     2019.000000    118.000000     10.000000   2602.000000    197.000000   \n",
       "\n",
       "         jogosEpoca  diasUltimoPagamento       mesesUP     abandonou  \\\n",
       "count  25316.000000         25316.000000  25316.000000  25316.000000   \n",
       "mean       2.171631           586.277033     18.814110      0.221638   \n",
       "std        4.076356           990.398069     32.498248      0.415357   \n",
       "min        0.000000             0.000000      0.000000      0.000000   \n",
       "25%        0.000000            83.994934      2.000000      0.000000   \n",
       "50%        0.000000           122.113031      4.000000      0.000000   \n",
       "75%        2.000000           534.982420     17.000000      0.000000   \n",
       "max       16.000000          4778.034828    156.000000      1.000000   \n",
       "\n",
       "          anosSocio    idaEstadio           mes  \n",
       "count  25316.000000  25316.000000  25316.000000  \n",
       "mean      11.264339      0.401367      6.875454  \n",
       "std       10.908777      0.490185      3.391117  \n",
       "min        0.000000      0.000000      1.000000  \n",
       "25%        5.000000      0.000000      4.000000  \n",
       "50%        8.000000      0.000000      8.000000  \n",
       "75%       14.000000      1.000000      9.000000  \n",
       "max       74.000000      1.000000     12.000000  "
      ],
      "text/html": [
       "<div>\n",
       "<style scoped>\n",
       "    .dataframe tbody tr th:only-of-type {\n",
       "        vertical-align: middle;\n",
       "    }\n",
       "\n",
       "    .dataframe tbody tr th {\n",
       "        vertical-align: top;\n",
       "    }\n",
       "\n",
       "    .dataframe thead th {\n",
       "        text-align: right;\n",
       "    }\n",
       "</style>\n",
       "<table border=\"1\" class=\"dataframe\">\n",
       "  <thead>\n",
       "    <tr style=\"text-align: right;\">\n",
       "      <th></th>\n",
       "      <th>ano</th>\n",
       "      <th>idade</th>\n",
       "      <th>quotaMensal</th>\n",
       "      <th>valorTotal</th>\n",
       "      <th>totalJogos</th>\n",
       "      <th>jogosEpoca</th>\n",
       "      <th>diasUltimoPagamento</th>\n",
       "      <th>mesesUP</th>\n",
       "      <th>abandonou</th>\n",
       "      <th>anosSocio</th>\n",
       "      <th>idaEstadio</th>\n",
       "      <th>mes</th>\n",
       "    </tr>\n",
       "  </thead>\n",
       "  <tbody>\n",
       "    <tr>\n",
       "      <th>count</th>\n",
       "      <td>25316.000000</td>\n",
       "      <td>25316.000000</td>\n",
       "      <td>25316.000000</td>\n",
       "      <td>25316.000000</td>\n",
       "      <td>25316.000000</td>\n",
       "      <td>25316.000000</td>\n",
       "      <td>25316.000000</td>\n",
       "      <td>25316.000000</td>\n",
       "      <td>25316.000000</td>\n",
       "      <td>25316.000000</td>\n",
       "      <td>25316.000000</td>\n",
       "      <td>25316.000000</td>\n",
       "    </tr>\n",
       "    <tr>\n",
       "      <th>mean</th>\n",
       "      <td>2007.048033</td>\n",
       "      <td>27.262996</td>\n",
       "      <td>4.356099</td>\n",
       "      <td>316.037984</td>\n",
       "      <td>26.535946</td>\n",
       "      <td>2.171631</td>\n",
       "      <td>586.277033</td>\n",
       "      <td>18.814110</td>\n",
       "      <td>0.221638</td>\n",
       "      <td>11.264339</td>\n",
       "      <td>0.401367</td>\n",
       "      <td>6.875454</td>\n",
       "    </tr>\n",
       "    <tr>\n",
       "      <th>std</th>\n",
       "      <td>10.937818</td>\n",
       "      <td>20.087078</td>\n",
       "      <td>3.550837</td>\n",
       "      <td>493.971528</td>\n",
       "      <td>45.812996</td>\n",
       "      <td>4.076356</td>\n",
       "      <td>990.398069</td>\n",
       "      <td>32.498248</td>\n",
       "      <td>0.415357</td>\n",
       "      <td>10.908777</td>\n",
       "      <td>0.490185</td>\n",
       "      <td>3.391117</td>\n",
       "    </tr>\n",
       "    <tr>\n",
       "      <th>min</th>\n",
       "      <td>1944.000000</td>\n",
       "      <td>-70.000000</td>\n",
       "      <td>0.000000</td>\n",
       "      <td>0.000000</td>\n",
       "      <td>0.000000</td>\n",
       "      <td>0.000000</td>\n",
       "      <td>0.000000</td>\n",
       "      <td>0.000000</td>\n",
       "      <td>0.000000</td>\n",
       "      <td>0.000000</td>\n",
       "      <td>0.000000</td>\n",
       "      <td>1.000000</td>\n",
       "    </tr>\n",
       "    <tr>\n",
       "      <th>25%</th>\n",
       "      <td>2004.000000</td>\n",
       "      <td>13.000000</td>\n",
       "      <td>1.000000</td>\n",
       "      <td>5.000000</td>\n",
       "      <td>0.000000</td>\n",
       "      <td>0.000000</td>\n",
       "      <td>83.994934</td>\n",
       "      <td>2.000000</td>\n",
       "      <td>0.000000</td>\n",
       "      <td>5.000000</td>\n",
       "      <td>0.000000</td>\n",
       "      <td>4.000000</td>\n",
       "    </tr>\n",
       "    <tr>\n",
       "      <th>50%</th>\n",
       "      <td>2010.000000</td>\n",
       "      <td>19.000000</td>\n",
       "      <td>2.500000</td>\n",
       "      <td>53.000000</td>\n",
       "      <td>0.000000</td>\n",
       "      <td>0.000000</td>\n",
       "      <td>122.113031</td>\n",
       "      <td>4.000000</td>\n",
       "      <td>0.000000</td>\n",
       "      <td>8.000000</td>\n",
       "      <td>0.000000</td>\n",
       "      <td>8.000000</td>\n",
       "    </tr>\n",
       "    <tr>\n",
       "      <th>75%</th>\n",
       "      <td>2014.000000</td>\n",
       "      <td>41.000000</td>\n",
       "      <td>6.000000</td>\n",
       "      <td>448.250000</td>\n",
       "      <td>36.000000</td>\n",
       "      <td>2.000000</td>\n",
       "      <td>534.982420</td>\n",
       "      <td>17.000000</td>\n",
       "      <td>0.000000</td>\n",
       "      <td>14.000000</td>\n",
       "      <td>1.000000</td>\n",
       "      <td>9.000000</td>\n",
       "    </tr>\n",
       "    <tr>\n",
       "      <th>max</th>\n",
       "      <td>2019.000000</td>\n",
       "      <td>118.000000</td>\n",
       "      <td>10.000000</td>\n",
       "      <td>2602.000000</td>\n",
       "      <td>197.000000</td>\n",
       "      <td>16.000000</td>\n",
       "      <td>4778.034828</td>\n",
       "      <td>156.000000</td>\n",
       "      <td>1.000000</td>\n",
       "      <td>74.000000</td>\n",
       "      <td>1.000000</td>\n",
       "      <td>12.000000</td>\n",
       "    </tr>\n",
       "  </tbody>\n",
       "</table>\n",
       "</div>"
      ]
     },
     "metadata": {},
     "execution_count": 5
    }
   ],
   "metadata": {}
  },
  {
   "cell_type": "code",
   "execution_count": 6,
   "source": [
    "df.info()"
   ],
   "outputs": [
    {
     "output_type": "stream",
     "name": "stdout",
     "text": [
      "<class 'pandas.core.frame.DataFrame'>\n",
      "Int64Index: 25316 entries, 1 to 25316\n",
      "Data columns (total 24 columns):\n",
      " #   Column               Non-Null Count  Dtype         \n",
      "---  ------               --------------  -----         \n",
      " 0   nome                 25316 non-null  object        \n",
      " 1   dataAdesao           25316 non-null  datetime64[ns]\n",
      " 2   ano                  25316 non-null  int64         \n",
      " 3   contribuinte         25316 non-null  object        \n",
      " 4   dataNascimento       25316 non-null  object        \n",
      " 5   idade                25316 non-null  int64         \n",
      " 6   sexo                 25316 non-null  object        \n",
      " 7   estadoCivil          25316 non-null  object        \n",
      " 8   categoria            25316 non-null  object        \n",
      " 9   quotaMensal          25316 non-null  float64       \n",
      " 10  profissao            25316 non-null  object        \n",
      " 11  codPostal            25316 non-null  object        \n",
      " 12  ultimaQuota          25316 non-null  object        \n",
      " 13  ultimoPagamento      25316 non-null  object        \n",
      " 14  valorTotal           25316 non-null  float64       \n",
      " 15  totalJogos           25316 non-null  int64         \n",
      " 16  jogosEpoca           25316 non-null  int64         \n",
      " 17  diasUltimoPagamento  25316 non-null  float64       \n",
      " 18  mesesUP              25316 non-null  int64         \n",
      " 19  abandonou            25316 non-null  int64         \n",
      " 20  anosSocio            25316 non-null  int64         \n",
      " 21  idaEstadio           25316 non-null  int64         \n",
      " 22  escaloesTotalJogos   25316 non-null  object        \n",
      " 23  mes                  25316 non-null  int64         \n",
      "dtypes: datetime64[ns](1), float64(3), int64(9), object(11)\n",
      "memory usage: 4.8+ MB\n"
     ]
    }
   ],
   "metadata": {}
  },
  {
   "cell_type": "code",
   "execution_count": 7,
   "source": [
    "df.head()"
   ],
   "outputs": [
    {
     "output_type": "execute_result",
     "data": {
      "text/plain": [
       "                              nome dataAdesao   ano contribuinte  \\\n",
       "Sócio                                                              \n",
       "1       DURVAL MANUEL BELO MOREIRA 1944-10-01  1944    105910465   \n",
       "2      ANTONIO ALBINO BELO MOREIRA 1944-10-01  1944    152586199   \n",
       "3            MARIO GONCALVES BRAGA 1945-08-24  1945    999999990   \n",
       "4         MANUEL BATISTA CERQUEIRA 1945-09-01  1945    124938060   \n",
       "5          JOAQUIM MANUEL FERREIRA 1945-09-01  1945    108239110   \n",
       "\n",
       "            dataNascimento  idade sexo   estadoCivil  categoria  quotaMensal  \\\n",
       "Sócio                                                                          \n",
       "1      1935-05-11 00:00:00     83    M        casado      homem         10.0   \n",
       "2      1930-09-29 00:00:00     88    M      solteiro      homem         10.0   \n",
       "3      1945-08-24 00:00:00     73    M  nao definido      homem         10.0   \n",
       "4      1921-05-27 00:00:00     97    M        casado  reformado          5.0   \n",
       "5      1921-03-08 00:00:00     97    M         outro      homem         10.0   \n",
       "\n",
       "       ... valorTotal totalJogos jogosEpoca diasUltimoPagamento  mesesUP  \\\n",
       "Sócio  ...                                                                 \n",
       "1      ...     1906.0          0          0          103.308984        3   \n",
       "2      ...     1906.0          0          0          113.056309        3   \n",
       "3      ...     1553.0          0          0         1100.031203       36   \n",
       "4      ...      790.0          0          0          264.945987        8   \n",
       "5      ...     1466.0          0          0         1089.943393       35   \n",
       "\n",
       "       abandonou  anosSocio  idaEstadio  escaloesTotalJogos  mes  \n",
       "Sócio                                                             \n",
       "1              0         74           0               ate 1   10  \n",
       "2              0         74           0               ate 1   10  \n",
       "3              1         73           0               ate 1    8  \n",
       "4              0         73           0               ate 1    9  \n",
       "5              1         73           0               ate 1    9  \n",
       "\n",
       "[5 rows x 24 columns]"
      ],
      "text/html": [
       "<div>\n",
       "<style scoped>\n",
       "    .dataframe tbody tr th:only-of-type {\n",
       "        vertical-align: middle;\n",
       "    }\n",
       "\n",
       "    .dataframe tbody tr th {\n",
       "        vertical-align: top;\n",
       "    }\n",
       "\n",
       "    .dataframe thead th {\n",
       "        text-align: right;\n",
       "    }\n",
       "</style>\n",
       "<table border=\"1\" class=\"dataframe\">\n",
       "  <thead>\n",
       "    <tr style=\"text-align: right;\">\n",
       "      <th></th>\n",
       "      <th>nome</th>\n",
       "      <th>dataAdesao</th>\n",
       "      <th>ano</th>\n",
       "      <th>contribuinte</th>\n",
       "      <th>dataNascimento</th>\n",
       "      <th>idade</th>\n",
       "      <th>sexo</th>\n",
       "      <th>estadoCivil</th>\n",
       "      <th>categoria</th>\n",
       "      <th>quotaMensal</th>\n",
       "      <th>...</th>\n",
       "      <th>valorTotal</th>\n",
       "      <th>totalJogos</th>\n",
       "      <th>jogosEpoca</th>\n",
       "      <th>diasUltimoPagamento</th>\n",
       "      <th>mesesUP</th>\n",
       "      <th>abandonou</th>\n",
       "      <th>anosSocio</th>\n",
       "      <th>idaEstadio</th>\n",
       "      <th>escaloesTotalJogos</th>\n",
       "      <th>mes</th>\n",
       "    </tr>\n",
       "    <tr>\n",
       "      <th>Sócio</th>\n",
       "      <th></th>\n",
       "      <th></th>\n",
       "      <th></th>\n",
       "      <th></th>\n",
       "      <th></th>\n",
       "      <th></th>\n",
       "      <th></th>\n",
       "      <th></th>\n",
       "      <th></th>\n",
       "      <th></th>\n",
       "      <th></th>\n",
       "      <th></th>\n",
       "      <th></th>\n",
       "      <th></th>\n",
       "      <th></th>\n",
       "      <th></th>\n",
       "      <th></th>\n",
       "      <th></th>\n",
       "      <th></th>\n",
       "      <th></th>\n",
       "      <th></th>\n",
       "    </tr>\n",
       "  </thead>\n",
       "  <tbody>\n",
       "    <tr>\n",
       "      <th>1</th>\n",
       "      <td>DURVAL MANUEL BELO MOREIRA</td>\n",
       "      <td>1944-10-01</td>\n",
       "      <td>1944</td>\n",
       "      <td>105910465</td>\n",
       "      <td>1935-05-11 00:00:00</td>\n",
       "      <td>83</td>\n",
       "      <td>M</td>\n",
       "      <td>casado</td>\n",
       "      <td>homem</td>\n",
       "      <td>10.0</td>\n",
       "      <td>...</td>\n",
       "      <td>1906.0</td>\n",
       "      <td>0</td>\n",
       "      <td>0</td>\n",
       "      <td>103.308984</td>\n",
       "      <td>3</td>\n",
       "      <td>0</td>\n",
       "      <td>74</td>\n",
       "      <td>0</td>\n",
       "      <td>ate 1</td>\n",
       "      <td>10</td>\n",
       "    </tr>\n",
       "    <tr>\n",
       "      <th>2</th>\n",
       "      <td>ANTONIO ALBINO BELO MOREIRA</td>\n",
       "      <td>1944-10-01</td>\n",
       "      <td>1944</td>\n",
       "      <td>152586199</td>\n",
       "      <td>1930-09-29 00:00:00</td>\n",
       "      <td>88</td>\n",
       "      <td>M</td>\n",
       "      <td>solteiro</td>\n",
       "      <td>homem</td>\n",
       "      <td>10.0</td>\n",
       "      <td>...</td>\n",
       "      <td>1906.0</td>\n",
       "      <td>0</td>\n",
       "      <td>0</td>\n",
       "      <td>113.056309</td>\n",
       "      <td>3</td>\n",
       "      <td>0</td>\n",
       "      <td>74</td>\n",
       "      <td>0</td>\n",
       "      <td>ate 1</td>\n",
       "      <td>10</td>\n",
       "    </tr>\n",
       "    <tr>\n",
       "      <th>3</th>\n",
       "      <td>MARIO GONCALVES BRAGA</td>\n",
       "      <td>1945-08-24</td>\n",
       "      <td>1945</td>\n",
       "      <td>999999990</td>\n",
       "      <td>1945-08-24 00:00:00</td>\n",
       "      <td>73</td>\n",
       "      <td>M</td>\n",
       "      <td>nao definido</td>\n",
       "      <td>homem</td>\n",
       "      <td>10.0</td>\n",
       "      <td>...</td>\n",
       "      <td>1553.0</td>\n",
       "      <td>0</td>\n",
       "      <td>0</td>\n",
       "      <td>1100.031203</td>\n",
       "      <td>36</td>\n",
       "      <td>1</td>\n",
       "      <td>73</td>\n",
       "      <td>0</td>\n",
       "      <td>ate 1</td>\n",
       "      <td>8</td>\n",
       "    </tr>\n",
       "    <tr>\n",
       "      <th>4</th>\n",
       "      <td>MANUEL BATISTA CERQUEIRA</td>\n",
       "      <td>1945-09-01</td>\n",
       "      <td>1945</td>\n",
       "      <td>124938060</td>\n",
       "      <td>1921-05-27 00:00:00</td>\n",
       "      <td>97</td>\n",
       "      <td>M</td>\n",
       "      <td>casado</td>\n",
       "      <td>reformado</td>\n",
       "      <td>5.0</td>\n",
       "      <td>...</td>\n",
       "      <td>790.0</td>\n",
       "      <td>0</td>\n",
       "      <td>0</td>\n",
       "      <td>264.945987</td>\n",
       "      <td>8</td>\n",
       "      <td>0</td>\n",
       "      <td>73</td>\n",
       "      <td>0</td>\n",
       "      <td>ate 1</td>\n",
       "      <td>9</td>\n",
       "    </tr>\n",
       "    <tr>\n",
       "      <th>5</th>\n",
       "      <td>JOAQUIM MANUEL FERREIRA</td>\n",
       "      <td>1945-09-01</td>\n",
       "      <td>1945</td>\n",
       "      <td>108239110</td>\n",
       "      <td>1921-03-08 00:00:00</td>\n",
       "      <td>97</td>\n",
       "      <td>M</td>\n",
       "      <td>outro</td>\n",
       "      <td>homem</td>\n",
       "      <td>10.0</td>\n",
       "      <td>...</td>\n",
       "      <td>1466.0</td>\n",
       "      <td>0</td>\n",
       "      <td>0</td>\n",
       "      <td>1089.943393</td>\n",
       "      <td>35</td>\n",
       "      <td>1</td>\n",
       "      <td>73</td>\n",
       "      <td>0</td>\n",
       "      <td>ate 1</td>\n",
       "      <td>9</td>\n",
       "    </tr>\n",
       "  </tbody>\n",
       "</table>\n",
       "<p>5 rows × 24 columns</p>\n",
       "</div>"
      ]
     },
     "metadata": {},
     "execution_count": 7
    }
   ],
   "metadata": {}
  },
  {
   "cell_type": "code",
   "execution_count": 8,
   "source": [
    "df.tail()"
   ],
   "outputs": [
    {
     "output_type": "execute_result",
     "data": {
      "text/plain": [
       "                                          nome dataAdesao   ano contribuinte  \\\n",
       "Sócio                                                                          \n",
       "25312            MICAEL YTWEVA MASSANO MOREIRA 2019-02-21  2019    286625296   \n",
       "25313  GONÇALO MARIA FERR. SENDIM POLIDO PIRES 2019-02-21  2019    275230511   \n",
       "25314              TOMAS MIGUEL SOARES RIBEIRO 2019-02-21  2019    290670578   \n",
       "25315     MIGUEL MARIA REBELO CORSINO DA SILVA 2019-02-21  2019    259420697   \n",
       "25316                  JOAO MANUEL JESUS VIDAL 2019-02-21  2019    257110887   \n",
       "\n",
       "            dataNascimento  idade sexo estadoCivil categoria  quotaMensal  \\\n",
       "Sócio                                                                       \n",
       "25312  2011-04-14 00:00:00      7    M    solteiro     sub14          1.0   \n",
       "25313  2010-05-26 00:00:00      8    M    solteiro    atleta          1.0   \n",
       "25314  2016-11-24 00:00:00      2    M    solteiro     sub14          1.0   \n",
       "25315  2004-06-30 00:00:00     14    M    solteiro     sub14          1.0   \n",
       "25316  1990-05-23 00:00:00     28    M    solteiro     homem         10.0   \n",
       "\n",
       "       ... valorTotal totalJogos jogosEpoca diasUltimoPagamento  mesesUP  \\\n",
       "Sócio  ...                                                                 \n",
       "25312  ...       17.0          0          0           72.296706        2   \n",
       "25313  ...       12.0          0          0           72.269791        2   \n",
       "25314  ...       17.0          0          0           72.095076        2   \n",
       "25315  ...       17.0          0          0           71.969059        2   \n",
       "25316  ...        0.0          0          0           71.966639        2   \n",
       "\n",
       "       abandonou  anosSocio  idaEstadio  escaloesTotalJogos  mes  \n",
       "Sócio                                                             \n",
       "25312          0          0           0               ate 1    2  \n",
       "25313          0          0           0               ate 1    2  \n",
       "25314          0          0           0               ate 1    2  \n",
       "25315          0          0           0               ate 1    2  \n",
       "25316          0          0           0               ate 1    2  \n",
       "\n",
       "[5 rows x 24 columns]"
      ],
      "text/html": [
       "<div>\n",
       "<style scoped>\n",
       "    .dataframe tbody tr th:only-of-type {\n",
       "        vertical-align: middle;\n",
       "    }\n",
       "\n",
       "    .dataframe tbody tr th {\n",
       "        vertical-align: top;\n",
       "    }\n",
       "\n",
       "    .dataframe thead th {\n",
       "        text-align: right;\n",
       "    }\n",
       "</style>\n",
       "<table border=\"1\" class=\"dataframe\">\n",
       "  <thead>\n",
       "    <tr style=\"text-align: right;\">\n",
       "      <th></th>\n",
       "      <th>nome</th>\n",
       "      <th>dataAdesao</th>\n",
       "      <th>ano</th>\n",
       "      <th>contribuinte</th>\n",
       "      <th>dataNascimento</th>\n",
       "      <th>idade</th>\n",
       "      <th>sexo</th>\n",
       "      <th>estadoCivil</th>\n",
       "      <th>categoria</th>\n",
       "      <th>quotaMensal</th>\n",
       "      <th>...</th>\n",
       "      <th>valorTotal</th>\n",
       "      <th>totalJogos</th>\n",
       "      <th>jogosEpoca</th>\n",
       "      <th>diasUltimoPagamento</th>\n",
       "      <th>mesesUP</th>\n",
       "      <th>abandonou</th>\n",
       "      <th>anosSocio</th>\n",
       "      <th>idaEstadio</th>\n",
       "      <th>escaloesTotalJogos</th>\n",
       "      <th>mes</th>\n",
       "    </tr>\n",
       "    <tr>\n",
       "      <th>Sócio</th>\n",
       "      <th></th>\n",
       "      <th></th>\n",
       "      <th></th>\n",
       "      <th></th>\n",
       "      <th></th>\n",
       "      <th></th>\n",
       "      <th></th>\n",
       "      <th></th>\n",
       "      <th></th>\n",
       "      <th></th>\n",
       "      <th></th>\n",
       "      <th></th>\n",
       "      <th></th>\n",
       "      <th></th>\n",
       "      <th></th>\n",
       "      <th></th>\n",
       "      <th></th>\n",
       "      <th></th>\n",
       "      <th></th>\n",
       "      <th></th>\n",
       "      <th></th>\n",
       "    </tr>\n",
       "  </thead>\n",
       "  <tbody>\n",
       "    <tr>\n",
       "      <th>25312</th>\n",
       "      <td>MICAEL YTWEVA MASSANO MOREIRA</td>\n",
       "      <td>2019-02-21</td>\n",
       "      <td>2019</td>\n",
       "      <td>286625296</td>\n",
       "      <td>2011-04-14 00:00:00</td>\n",
       "      <td>7</td>\n",
       "      <td>M</td>\n",
       "      <td>solteiro</td>\n",
       "      <td>sub14</td>\n",
       "      <td>1.0</td>\n",
       "      <td>...</td>\n",
       "      <td>17.0</td>\n",
       "      <td>0</td>\n",
       "      <td>0</td>\n",
       "      <td>72.296706</td>\n",
       "      <td>2</td>\n",
       "      <td>0</td>\n",
       "      <td>0</td>\n",
       "      <td>0</td>\n",
       "      <td>ate 1</td>\n",
       "      <td>2</td>\n",
       "    </tr>\n",
       "    <tr>\n",
       "      <th>25313</th>\n",
       "      <td>GONÇALO MARIA FERR. SENDIM POLIDO PIRES</td>\n",
       "      <td>2019-02-21</td>\n",
       "      <td>2019</td>\n",
       "      <td>275230511</td>\n",
       "      <td>2010-05-26 00:00:00</td>\n",
       "      <td>8</td>\n",
       "      <td>M</td>\n",
       "      <td>solteiro</td>\n",
       "      <td>atleta</td>\n",
       "      <td>1.0</td>\n",
       "      <td>...</td>\n",
       "      <td>12.0</td>\n",
       "      <td>0</td>\n",
       "      <td>0</td>\n",
       "      <td>72.269791</td>\n",
       "      <td>2</td>\n",
       "      <td>0</td>\n",
       "      <td>0</td>\n",
       "      <td>0</td>\n",
       "      <td>ate 1</td>\n",
       "      <td>2</td>\n",
       "    </tr>\n",
       "    <tr>\n",
       "      <th>25314</th>\n",
       "      <td>TOMAS MIGUEL SOARES RIBEIRO</td>\n",
       "      <td>2019-02-21</td>\n",
       "      <td>2019</td>\n",
       "      <td>290670578</td>\n",
       "      <td>2016-11-24 00:00:00</td>\n",
       "      <td>2</td>\n",
       "      <td>M</td>\n",
       "      <td>solteiro</td>\n",
       "      <td>sub14</td>\n",
       "      <td>1.0</td>\n",
       "      <td>...</td>\n",
       "      <td>17.0</td>\n",
       "      <td>0</td>\n",
       "      <td>0</td>\n",
       "      <td>72.095076</td>\n",
       "      <td>2</td>\n",
       "      <td>0</td>\n",
       "      <td>0</td>\n",
       "      <td>0</td>\n",
       "      <td>ate 1</td>\n",
       "      <td>2</td>\n",
       "    </tr>\n",
       "    <tr>\n",
       "      <th>25315</th>\n",
       "      <td>MIGUEL MARIA REBELO CORSINO DA SILVA</td>\n",
       "      <td>2019-02-21</td>\n",
       "      <td>2019</td>\n",
       "      <td>259420697</td>\n",
       "      <td>2004-06-30 00:00:00</td>\n",
       "      <td>14</td>\n",
       "      <td>M</td>\n",
       "      <td>solteiro</td>\n",
       "      <td>sub14</td>\n",
       "      <td>1.0</td>\n",
       "      <td>...</td>\n",
       "      <td>17.0</td>\n",
       "      <td>0</td>\n",
       "      <td>0</td>\n",
       "      <td>71.969059</td>\n",
       "      <td>2</td>\n",
       "      <td>0</td>\n",
       "      <td>0</td>\n",
       "      <td>0</td>\n",
       "      <td>ate 1</td>\n",
       "      <td>2</td>\n",
       "    </tr>\n",
       "    <tr>\n",
       "      <th>25316</th>\n",
       "      <td>JOAO MANUEL JESUS VIDAL</td>\n",
       "      <td>2019-02-21</td>\n",
       "      <td>2019</td>\n",
       "      <td>257110887</td>\n",
       "      <td>1990-05-23 00:00:00</td>\n",
       "      <td>28</td>\n",
       "      <td>M</td>\n",
       "      <td>solteiro</td>\n",
       "      <td>homem</td>\n",
       "      <td>10.0</td>\n",
       "      <td>...</td>\n",
       "      <td>0.0</td>\n",
       "      <td>0</td>\n",
       "      <td>0</td>\n",
       "      <td>71.966639</td>\n",
       "      <td>2</td>\n",
       "      <td>0</td>\n",
       "      <td>0</td>\n",
       "      <td>0</td>\n",
       "      <td>ate 1</td>\n",
       "      <td>2</td>\n",
       "    </tr>\n",
       "  </tbody>\n",
       "</table>\n",
       "<p>5 rows × 24 columns</p>\n",
       "</div>"
      ]
     },
     "metadata": {},
     "execution_count": 8
    }
   ],
   "metadata": {}
  },
  {
   "cell_type": "code",
   "execution_count": 9,
   "source": [
    "df['ultimoPagamento'] = pd.to_datetime(df['ultimoPagamento'],format='%Y-%m-%d %H:%M', errors='coerce')"
   ],
   "outputs": [],
   "metadata": {}
  },
  {
   "cell_type": "code",
   "execution_count": 10,
   "source": [
    "df['anoUltimoPagamento']=df['ultimoPagamento'].apply(lambda x: x.year)"
   ],
   "outputs": [],
   "metadata": {}
  },
  {
   "cell_type": "code",
   "execution_count": 11,
   "source": [
    "df.anoUltimoPagamento.unique()"
   ],
   "outputs": [
    {
     "output_type": "execute_result",
     "data": {
      "text/plain": [
       "array([2019., 2016., 2018., 2015., 2017., 2014., 2008.,   nan, 2009.,\n",
       "       2007., 2010., 2011., 2012., 2013., 2006.])"
      ]
     },
     "metadata": {},
     "execution_count": 11
    }
   ],
   "metadata": {}
  },
  {
   "cell_type": "code",
   "execution_count": 12,
   "source": [
    "df.anoUltimoPagamento=df.anoUltimoPagamento.fillna(0)"
   ],
   "outputs": [],
   "metadata": {}
  },
  {
   "cell_type": "code",
   "execution_count": 13,
   "source": [
    "df['anoUltimoPagamento']=df.anoUltimoPagamento.astype(int)"
   ],
   "outputs": [],
   "metadata": {}
  },
  {
   "cell_type": "code",
   "execution_count": 14,
   "source": [
    "df.drop(columns=['nome','dataAdesao','ultimoPagamento','contribuinte','dataNascimento','mes','profissao',\n",
    "                 'codPostal','categoria','ultimaQuota','diasUltimoPagamento'],inplace=True)"
   ],
   "outputs": [],
   "metadata": {}
  },
  {
   "cell_type": "code",
   "execution_count": 15,
   "source": [
    "df.info()"
   ],
   "outputs": [
    {
     "output_type": "stream",
     "name": "stdout",
     "text": [
      "<class 'pandas.core.frame.DataFrame'>\n",
      "Int64Index: 25316 entries, 1 to 25316\n",
      "Data columns (total 14 columns):\n",
      " #   Column              Non-Null Count  Dtype  \n",
      "---  ------              --------------  -----  \n",
      " 0   ano                 25316 non-null  int64  \n",
      " 1   idade               25316 non-null  int64  \n",
      " 2   sexo                25316 non-null  object \n",
      " 3   estadoCivil         25316 non-null  object \n",
      " 4   quotaMensal         25316 non-null  float64\n",
      " 5   valorTotal          25316 non-null  float64\n",
      " 6   totalJogos          25316 non-null  int64  \n",
      " 7   jogosEpoca          25316 non-null  int64  \n",
      " 8   mesesUP             25316 non-null  int64  \n",
      " 9   abandonou           25316 non-null  int64  \n",
      " 10  anosSocio           25316 non-null  int64  \n",
      " 11  idaEstadio          25316 non-null  int64  \n",
      " 12  escaloesTotalJogos  25316 non-null  object \n",
      " 13  anoUltimoPagamento  25316 non-null  int64  \n",
      "dtypes: float64(2), int64(9), object(3)\n",
      "memory usage: 2.9+ MB\n"
     ]
    }
   ],
   "metadata": {}
  },
  {
   "cell_type": "code",
   "execution_count": 16,
   "source": [
    "df.estadoCivil.value_counts()"
   ],
   "outputs": [
    {
     "output_type": "execute_result",
     "data": {
      "text/plain": [
       "solteiro        12065\n",
       "nao definido     7667\n",
       "casado           5085\n",
       "outro             499\n",
       "Name: estadoCivil, dtype: int64"
      ]
     },
     "metadata": {},
     "execution_count": 16
    }
   ],
   "metadata": {}
  },
  {
   "cell_type": "markdown",
   "source": [
    "Variáveis:\n",
    "\n",
    "- ano: ano inscrição sócio\n",
    "- idade\n",
    "- sexo\n",
    "- estadoCivil: solteiro, não definido, casado, outro\n",
    "- quotaMensal: valor da quota mensal\n",
    "- ultimPagamento: Quando é que foi realizado o último pagamento\n",
    "- valorTotal: Valor total pago\n",
    "- totalJogos: Total de Jogos que o sócio foi\n",
    "- jogosEpoca: Jogos vistos na última época\n",
    "- mesesUP: Quantos meses desde o último pagamento\n",
    "- anosSocio: Há quantos anos é sócio\n",
    "- idaEstágio: Vai ou não ao estádio\n",
    "- abandonou: 1 não é sócio, 0 é sócio censura\n",
    "\n",
    "Ei is the event indicator such that Ei=1, if an event happens and Ei=0 in case of censoring"
   ],
   "metadata": {}
  },
  {
   "cell_type": "markdown",
   "source": [
    "## Converting from categorical to numerical"
   ],
   "metadata": {}
  },
  {
   "cell_type": "markdown",
   "source": [
    "There are several categorical features that need to be encoded into one-hot vectors:\n",
    "\n",
    "    sexo\n",
    "    estadoCivil\n",
    "    escaloesTotalJogos\n"
   ],
   "metadata": {
    "lines_to_next_cell": 0
   }
  },
  {
   "cell_type": "code",
   "execution_count": 17,
   "source": [
    "dfCurvas = df.copy()\n",
    "df = pd.get_dummies(df, columns=['sexo','estadoCivil','escaloesTotalJogos'],drop_first=True)"
   ],
   "outputs": [],
   "metadata": {}
  },
  {
   "cell_type": "code",
   "execution_count": 18,
   "source": [
    "# Creating the time and event columns\n",
    "time_column = 'anosSocio'\n",
    "event_column = 'abandonou'\n",
    "\n",
    "# Extracting the features\n",
    "features = np.setdiff1d(df.columns, [time_column, event_column] ).tolist()"
   ],
   "outputs": [],
   "metadata": {}
  },
  {
   "cell_type": "markdown",
   "source": [
    "## Verificar null values e duplicates"
   ],
   "metadata": {}
  },
  {
   "cell_type": "code",
   "execution_count": 19,
   "source": [
    "# Checking for null values\n",
    "N_null = sum(df[features].isnull().sum())\n",
    "print(\"The raw_dataset contains {} null values\".format(N_null)) #0 null values"
   ],
   "outputs": [
    {
     "output_type": "stream",
     "name": "stdout",
     "text": [
      "The raw_dataset contains 0 null values\n"
     ]
    }
   ],
   "metadata": {}
  },
  {
   "cell_type": "code",
   "execution_count": 20,
   "source": [
    "# Removing duplicates if there exist\n",
    "N_dupli = sum(df.duplicated(keep='first'))\n",
    "df = df.drop_duplicates(keep='first').reset_index(drop=True)\n",
    "print(\"The raw_dataset contains {} duplicates\".format(N_dupli))\n",
    "\n",
    "# Number of samples in the dataset\n",
    "N = df.shape[0]"
   ],
   "outputs": [
    {
     "output_type": "stream",
     "name": "stdout",
     "text": [
      "The raw_dataset contains 4928 duplicates\n"
     ]
    }
   ],
   "metadata": {}
  },
  {
   "cell_type": "markdown",
   "source": [
    "# Exploratory Data Analysis\n"
   ],
   "metadata": {}
  },
  {
   "cell_type": "code",
   "execution_count": 21,
   "source": [
    "df.columns"
   ],
   "outputs": [
    {
     "output_type": "execute_result",
     "data": {
      "text/plain": [
       "Index(['ano', 'idade', 'quotaMensal', 'valorTotal', 'totalJogos', 'jogosEpoca',\n",
       "       'mesesUP', 'abandonou', 'anosSocio', 'idaEstadio', 'anoUltimoPagamento',\n",
       "       'sexo_M', 'estadoCivil_nao definido', 'estadoCivil_outro',\n",
       "       'estadoCivil_solteiro', 'escaloesTotalJogos_21 a 56',\n",
       "       'escaloesTotalJogos_56 a 105', 'escaloesTotalJogos_ate 1',\n",
       "       'escaloesTotalJogos_mais 105'],\n",
       "      dtype='object')"
      ]
     },
     "metadata": {},
     "execution_count": 21
    }
   ],
   "metadata": {}
  },
  {
   "cell_type": "code",
   "execution_count": 22,
   "source": [
    "from pysurvival.utils.display import correlation_matrix\n",
    "correlation_matrix(df[features], figure_size=(10,10), text_fontsize=8)"
   ],
   "outputs": [
    {
     "output_type": "error",
     "ename": "ModuleNotFoundError",
     "evalue": "No module named 'pysurvival'",
     "traceback": [
      "\u001b[0;31m---------------------------------------------------------------------------\u001b[0m",
      "\u001b[0;31mModuleNotFoundError\u001b[0m                       Traceback (most recent call last)",
      "\u001b[0;32m/tmp/ipykernel_22558/2513203512.py\u001b[0m in \u001b[0;36m<module>\u001b[0;34m\u001b[0m\n\u001b[0;32m----> 1\u001b[0;31m \u001b[0;32mfrom\u001b[0m \u001b[0mpysurvival\u001b[0m\u001b[0;34m.\u001b[0m\u001b[0mutils\u001b[0m\u001b[0;34m.\u001b[0m\u001b[0mdisplay\u001b[0m \u001b[0;32mimport\u001b[0m \u001b[0mcorrelation_matrix\u001b[0m\u001b[0;34m\u001b[0m\u001b[0;34m\u001b[0m\u001b[0m\n\u001b[0m\u001b[1;32m      2\u001b[0m \u001b[0mcorrelation_matrix\u001b[0m\u001b[0;34m(\u001b[0m\u001b[0mdf\u001b[0m\u001b[0;34m[\u001b[0m\u001b[0mfeatures\u001b[0m\u001b[0;34m]\u001b[0m\u001b[0;34m,\u001b[0m \u001b[0mfigure_size\u001b[0m\u001b[0;34m=\u001b[0m\u001b[0;34m(\u001b[0m\u001b[0;36m10\u001b[0m\u001b[0;34m,\u001b[0m\u001b[0;36m10\u001b[0m\u001b[0;34m)\u001b[0m\u001b[0;34m,\u001b[0m \u001b[0mtext_fontsize\u001b[0m\u001b[0;34m=\u001b[0m\u001b[0;36m8\u001b[0m\u001b[0;34m)\u001b[0m\u001b[0;34m\u001b[0m\u001b[0;34m\u001b[0m\u001b[0m\n",
      "\u001b[0;31mModuleNotFoundError\u001b[0m: No module named 'pysurvival'"
     ]
    }
   ],
   "metadata": {}
  },
  {
   "cell_type": "markdown",
   "source": [
    "Vamos remover as variáveis com correlações maiores"
   ],
   "metadata": {}
  },
  {
   "cell_type": "code",
   "execution_count": 20,
   "source": [
    "to_remove = ['totalJogos', 'idaEstadio']\n",
    "features = np.setdiff1d(features, to_remove).tolist()"
   ],
   "outputs": [],
   "metadata": {}
  },
  {
   "cell_type": "markdown",
   "source": [
    "# Modeling"
   ],
   "metadata": {}
  },
  {
   "cell_type": "markdown",
   "source": [
    "So as to perform cross-validation later on and assess the performances of the model, let's split the dataset into training and testing sets."
   ],
   "metadata": {}
  },
  {
   "cell_type": "markdown",
   "source": [
    "## Building the model"
   ],
   "metadata": {}
  },
  {
   "cell_type": "code",
   "execution_count": 21,
   "source": [
    "# Building training and testing sets\n",
    "from sklearn.model_selection import train_test_split\n",
    "index_train, index_test = train_test_split( range(N), test_size = 0.4)\n",
    "data_train = df.loc[index_train].reset_index( drop = True )\n",
    "data_test  = df.loc[index_test].reset_index( drop = True )\n",
    "\n",
    "# Creating the X, T and E inputs\n",
    "X_train, X_test = df[features], data_test[features]\n",
    "T_train, T_test = df[time_column], data_test[time_column]\n",
    "E_train, E_test = df[event_column], data_test[event_column]"
   ],
   "outputs": [],
   "metadata": {}
  },
  {
   "cell_type": "code",
   "execution_count": 22,
   "source": [
    "#from pysurvival.models.survival_forest import ConditionalSurvivalForestModel\n",
    "from pysurvival.models.survival_forest import RandomSurvivalForestModel\n",
    "# Fitting the model\n",
    "csf = RandomSurvivalForestModel(num_trees=200)\n",
    "csf.fit(X_train, T_train, E_train, max_features='sqrt',\n",
    "        max_depth=5, min_node_size=20)"
   ],
   "outputs": [
    {
     "output_type": "execute_result",
     "data": {
      "text/plain": [
       "RandomSurvivalForestModel"
      ]
     },
     "metadata": {},
     "execution_count": 22
    }
   ],
   "metadata": {}
  },
  {
   "cell_type": "markdown",
   "source": [
    "### Features importance"
   ],
   "metadata": {}
  },
  {
   "cell_type": "code",
   "execution_count": 23,
   "source": [
    "csf.variable_importance_table"
   ],
   "outputs": [
    {
     "output_type": "execute_result",
     "data": {
      "text/plain": [
       "                        feature  importance  pct_importance\n",
       "0                       mesesUP   22.713589        0.292227\n",
       "1            anoUltimoPagamento   11.201332        0.144114\n",
       "2                    valorTotal    9.403331        0.120981\n",
       "3                    jogosEpoca    7.417550        0.095432\n",
       "4                   quotaMensal    4.228938        0.054408\n",
       "5                        sexo_M    3.696899        0.047563\n",
       "6   escaloesTotalJogos_56 a 105    3.195635        0.041114\n",
       "7    escaloesTotalJogos_21 a 56    3.050713        0.039250\n",
       "8          estadoCivil_solteiro    2.701795        0.034761\n",
       "9      estadoCivil_nao definido    2.647630        0.034064\n",
       "10  escaloesTotalJogos_mais 105    2.521125        0.032436\n",
       "11     escaloesTotalJogos_ate 1    2.517903        0.032395\n",
       "12                        idade    2.429275        0.031254\n",
       "13            estadoCivil_outro   -2.071986        0.000000\n",
       "14                          ano  -11.691366        0.000000"
      ],
      "text/html": [
       "<div>\n",
       "<style scoped>\n",
       "    .dataframe tbody tr th:only-of-type {\n",
       "        vertical-align: middle;\n",
       "    }\n",
       "\n",
       "    .dataframe tbody tr th {\n",
       "        vertical-align: top;\n",
       "    }\n",
       "\n",
       "    .dataframe thead th {\n",
       "        text-align: right;\n",
       "    }\n",
       "</style>\n",
       "<table border=\"1\" class=\"dataframe\">\n",
       "  <thead>\n",
       "    <tr style=\"text-align: right;\">\n",
       "      <th></th>\n",
       "      <th>feature</th>\n",
       "      <th>importance</th>\n",
       "      <th>pct_importance</th>\n",
       "    </tr>\n",
       "  </thead>\n",
       "  <tbody>\n",
       "    <tr>\n",
       "      <th>0</th>\n",
       "      <td>mesesUP</td>\n",
       "      <td>22.713589</td>\n",
       "      <td>0.292227</td>\n",
       "    </tr>\n",
       "    <tr>\n",
       "      <th>1</th>\n",
       "      <td>anoUltimoPagamento</td>\n",
       "      <td>11.201332</td>\n",
       "      <td>0.144114</td>\n",
       "    </tr>\n",
       "    <tr>\n",
       "      <th>2</th>\n",
       "      <td>valorTotal</td>\n",
       "      <td>9.403331</td>\n",
       "      <td>0.120981</td>\n",
       "    </tr>\n",
       "    <tr>\n",
       "      <th>3</th>\n",
       "      <td>jogosEpoca</td>\n",
       "      <td>7.417550</td>\n",
       "      <td>0.095432</td>\n",
       "    </tr>\n",
       "    <tr>\n",
       "      <th>4</th>\n",
       "      <td>quotaMensal</td>\n",
       "      <td>4.228938</td>\n",
       "      <td>0.054408</td>\n",
       "    </tr>\n",
       "    <tr>\n",
       "      <th>5</th>\n",
       "      <td>sexo_M</td>\n",
       "      <td>3.696899</td>\n",
       "      <td>0.047563</td>\n",
       "    </tr>\n",
       "    <tr>\n",
       "      <th>6</th>\n",
       "      <td>escaloesTotalJogos_56 a 105</td>\n",
       "      <td>3.195635</td>\n",
       "      <td>0.041114</td>\n",
       "    </tr>\n",
       "    <tr>\n",
       "      <th>7</th>\n",
       "      <td>escaloesTotalJogos_21 a 56</td>\n",
       "      <td>3.050713</td>\n",
       "      <td>0.039250</td>\n",
       "    </tr>\n",
       "    <tr>\n",
       "      <th>8</th>\n",
       "      <td>estadoCivil_solteiro</td>\n",
       "      <td>2.701795</td>\n",
       "      <td>0.034761</td>\n",
       "    </tr>\n",
       "    <tr>\n",
       "      <th>9</th>\n",
       "      <td>estadoCivil_nao definido</td>\n",
       "      <td>2.647630</td>\n",
       "      <td>0.034064</td>\n",
       "    </tr>\n",
       "    <tr>\n",
       "      <th>10</th>\n",
       "      <td>escaloesTotalJogos_mais 105</td>\n",
       "      <td>2.521125</td>\n",
       "      <td>0.032436</td>\n",
       "    </tr>\n",
       "    <tr>\n",
       "      <th>11</th>\n",
       "      <td>escaloesTotalJogos_ate 1</td>\n",
       "      <td>2.517903</td>\n",
       "      <td>0.032395</td>\n",
       "    </tr>\n",
       "    <tr>\n",
       "      <th>12</th>\n",
       "      <td>idade</td>\n",
       "      <td>2.429275</td>\n",
       "      <td>0.031254</td>\n",
       "    </tr>\n",
       "    <tr>\n",
       "      <th>13</th>\n",
       "      <td>estadoCivil_outro</td>\n",
       "      <td>-2.071986</td>\n",
       "      <td>0.000000</td>\n",
       "    </tr>\n",
       "    <tr>\n",
       "      <th>14</th>\n",
       "      <td>ano</td>\n",
       "      <td>-11.691366</td>\n",
       "      <td>0.000000</td>\n",
       "    </tr>\n",
       "  </tbody>\n",
       "</table>\n",
       "</div>"
      ]
     },
     "metadata": {},
     "execution_count": 23
    }
   ],
   "metadata": {}
  },
  {
   "cell_type": "markdown",
   "source": [
    "A negative number means that the model performs better without estadoCivil_Outro and ano:\n",
    "https://stackoverflow.com/questions/27918320/what-does-negative-incmse-in-randomforest-package-mean\n",
    "\n",
    "The variable mesesUP explains the survival 30%, year last payment 16.8%, totalAmount 12%, number of games 7.7%....\n"
   ],
   "metadata": {}
  },
  {
   "cell_type": "markdown",
   "source": [
    "### Model performance\n",
    "\n",
    "We are going to access the model performance using the training and test set. Previously defined.\n",
    " C-index close to 1, the model has an powerfull discriminatory; but if it is close to 0.5, it has no ability to discriminate between low and high risk subjects."
   ],
   "metadata": {}
  },
  {
   "cell_type": "markdown",
   "source": [
    "### C-index"
   ],
   "metadata": {}
  },
  {
   "cell_type": "code",
   "execution_count": 24,
   "source": [
    "from pysurvival.utils.metrics import concordance_index\n",
    "c_index = concordance_index(csf, X_test, T_test, E_test)\n",
    "print('C-index: {:.2f}'.format(c_index)) #0.83"
   ],
   "outputs": [
    {
     "output_type": "stream",
     "name": "stdout",
     "text": [
      "C-index: 0.92\n"
     ]
    }
   ],
   "metadata": {}
  },
  {
   "cell_type": "markdown",
   "source": [
    "### Brier Score"
   ],
   "metadata": {}
  },
  {
   "cell_type": "code",
   "execution_count": 25,
   "source": [
    "from pysurvival.utils.display import integrated_brier_score\n",
    "ibs = integrated_brier_score(csf, X_test, T_test, E_test, t_max=12,\n",
    "    figure_size=(12,5))\n",
    "print('IBS: {:.2f}'.format(ibs))"
   ],
   "outputs": [
    {
     "output_type": "display_data",
     "data": {
      "text/plain": [
       "<Figure size 864x360 with 1 Axes>"
      ],
      "image/png": "[encoded data removed]"
     },
     "metadata": {
      "needs_background": "light"
     }
    },
    {
     "output_type": "stream",
     "name": "stdout",
     "text": [
      "IBS: 0.03\n"
     ]
    }
   ],
   "metadata": {}
  },
  {
   "cell_type": "markdown",
   "source": [
    "The IBS is equal to 0.03 on the entire model time axis. This indicates that the model will have very good predictive abilities."
   ],
   "metadata": {}
  },
  {
   "cell_type": "markdown",
   "source": [
    "## Building model without estadoCivil_outro and ano"
   ],
   "metadata": {}
  },
  {
   "cell_type": "code",
   "execution_count": 26,
   "source": [
    "to_remove = ['estadoCivil_outro', 'ano']\n",
    "features = np.setdiff1d(features, to_remove).tolist()"
   ],
   "outputs": [],
   "metadata": {}
  },
  {
   "cell_type": "code",
   "execution_count": 27,
   "source": [
    "# Creating the X, T and E inputs\n",
    "X_train, X_test = df[features], data_test[features]\n",
    "T_train, T_test = df[time_column], data_test[time_column]\n",
    "E_train, E_test = df[event_column], data_test[event_column]"
   ],
   "outputs": [],
   "metadata": {}
  },
  {
   "cell_type": "code",
   "execution_count": 28,
   "source": [
    "csf = RandomSurvivalForestModel(num_trees=200)\n",
    "csf.fit(X_train, T_train, E_train, max_features='sqrt',\n",
    "        max_depth=5, min_node_size=20)"
   ],
   "outputs": [
    {
     "output_type": "execute_result",
     "data": {
      "text/plain": [
       "RandomSurvivalForestModel"
      ]
     },
     "metadata": {},
     "execution_count": 28
    }
   ],
   "metadata": {}
  },
  {
   "cell_type": "markdown",
   "source": [
    "### Features importance"
   ],
   "metadata": {}
  },
  {
   "cell_type": "code",
   "execution_count": 29,
   "source": [
    "csf.variable_importance_table"
   ],
   "outputs": [
    {
     "output_type": "execute_result",
     "data": {
      "text/plain": [
       "                        feature  importance  pct_importance\n",
       "0                       mesesUP   27.604057        0.307406\n",
       "1            anoUltimoPagamento   11.962381        0.133216\n",
       "2                    valorTotal   10.921159        0.121621\n",
       "3                    jogosEpoca    7.263329        0.080886\n",
       "4                   quotaMensal    5.874218        0.065417\n",
       "5      escaloesTotalJogos_ate 1    5.605068        0.062420\n",
       "6          estadoCivil_solteiro    5.002168        0.055706\n",
       "7   escaloesTotalJogos_56 a 105    3.733182        0.041574\n",
       "8    escaloesTotalJogos_21 a 56    3.607328        0.040172\n",
       "9   escaloesTotalJogos_mais 105    3.141763        0.034988\n",
       "10                       sexo_M    2.945705        0.032804\n",
       "11     estadoCivil_nao definido    2.136285        0.023790\n",
       "12                        idade   -0.387827        0.000000"
      ],
      "text/html": [
       "<div>\n",
       "<style scoped>\n",
       "    .dataframe tbody tr th:only-of-type {\n",
       "        vertical-align: middle;\n",
       "    }\n",
       "\n",
       "    .dataframe tbody tr th {\n",
       "        vertical-align: top;\n",
       "    }\n",
       "\n",
       "    .dataframe thead th {\n",
       "        text-align: right;\n",
       "    }\n",
       "</style>\n",
       "<table border=\"1\" class=\"dataframe\">\n",
       "  <thead>\n",
       "    <tr style=\"text-align: right;\">\n",
       "      <th></th>\n",
       "      <th>feature</th>\n",
       "      <th>importance</th>\n",
       "      <th>pct_importance</th>\n",
       "    </tr>\n",
       "  </thead>\n",
       "  <tbody>\n",
       "    <tr>\n",
       "      <th>0</th>\n",
       "      <td>mesesUP</td>\n",
       "      <td>27.604057</td>\n",
       "      <td>0.307406</td>\n",
       "    </tr>\n",
       "    <tr>\n",
       "      <th>1</th>\n",
       "      <td>anoUltimoPagamento</td>\n",
       "      <td>11.962381</td>\n",
       "      <td>0.133216</td>\n",
       "    </tr>\n",
       "    <tr>\n",
       "      <th>2</th>\n",
       "      <td>valorTotal</td>\n",
       "      <td>10.921159</td>\n",
       "      <td>0.121621</td>\n",
       "    </tr>\n",
       "    <tr>\n",
       "      <th>3</th>\n",
       "      <td>jogosEpoca</td>\n",
       "      <td>7.263329</td>\n",
       "      <td>0.080886</td>\n",
       "    </tr>\n",
       "    <tr>\n",
       "      <th>4</th>\n",
       "      <td>quotaMensal</td>\n",
       "      <td>5.874218</td>\n",
       "      <td>0.065417</td>\n",
       "    </tr>\n",
       "    <tr>\n",
       "      <th>5</th>\n",
       "      <td>escaloesTotalJogos_ate 1</td>\n",
       "      <td>5.605068</td>\n",
       "      <td>0.062420</td>\n",
       "    </tr>\n",
       "    <tr>\n",
       "      <th>6</th>\n",
       "      <td>estadoCivil_solteiro</td>\n",
       "      <td>5.002168</td>\n",
       "      <td>0.055706</td>\n",
       "    </tr>\n",
       "    <tr>\n",
       "      <th>7</th>\n",
       "      <td>escaloesTotalJogos_56 a 105</td>\n",
       "      <td>3.733182</td>\n",
       "      <td>0.041574</td>\n",
       "    </tr>\n",
       "    <tr>\n",
       "      <th>8</th>\n",
       "      <td>escaloesTotalJogos_21 a 56</td>\n",
       "      <td>3.607328</td>\n",
       "      <td>0.040172</td>\n",
       "    </tr>\n",
       "    <tr>\n",
       "      <th>9</th>\n",
       "      <td>escaloesTotalJogos_mais 105</td>\n",
       "      <td>3.141763</td>\n",
       "      <td>0.034988</td>\n",
       "    </tr>\n",
       "    <tr>\n",
       "      <th>10</th>\n",
       "      <td>sexo_M</td>\n",
       "      <td>2.945705</td>\n",
       "      <td>0.032804</td>\n",
       "    </tr>\n",
       "    <tr>\n",
       "      <th>11</th>\n",
       "      <td>estadoCivil_nao definido</td>\n",
       "      <td>2.136285</td>\n",
       "      <td>0.023790</td>\n",
       "    </tr>\n",
       "    <tr>\n",
       "      <th>12</th>\n",
       "      <td>idade</td>\n",
       "      <td>-0.387827</td>\n",
       "      <td>0.000000</td>\n",
       "    </tr>\n",
       "  </tbody>\n",
       "</table>\n",
       "</div>"
      ]
     },
     "metadata": {},
     "execution_count": 29
    }
   ],
   "metadata": {}
  },
  {
   "cell_type": "markdown",
   "source": [
    "### Model performance\n",
    "\n",
    "We are going to access the model performance using the training and test set. Previously defined.\n",
    " C-index close to 1, the model has an powerfull discriminatory; but if it is close to 0.5, it has no ability to discriminate between low and high risk subjects."
   ],
   "metadata": {}
  },
  {
   "cell_type": "markdown",
   "source": [
    "### C-index"
   ],
   "metadata": {}
  },
  {
   "cell_type": "code",
   "execution_count": 30,
   "source": [
    "from pysurvival.utils.metrics import concordance_index\n",
    "c_index = concordance_index(csf, X_test, T_test, E_test)\n",
    "print('C-index: {:.2f}'.format(c_index)) #0.83"
   ],
   "outputs": [
    {
     "output_type": "stream",
     "name": "stdout",
     "text": [
      "C-index: 0.94\n"
     ]
    }
   ],
   "metadata": {}
  },
  {
   "cell_type": "markdown",
   "source": [
    "### Brier Score"
   ],
   "metadata": {}
  },
  {
   "cell_type": "code",
   "execution_count": 31,
   "source": [
    "from pysurvival.utils.display import integrated_brier_score\n",
    "ibs = integrated_brier_score(csf, X_test, T_test, E_test, t_max=12,\n",
    "    figure_size=(12,5))\n",
    "print('IBS: {:.2f}'.format(ibs))"
   ],
   "outputs": [
    {
     "output_type": "display_data",
     "data": {
      "text/plain": [
       "<Figure size 864x360 with 1 Axes>"
      ],
      "image/png": "[encoded data removed]"
     },
     "metadata": {
      "needs_background": "light"
     }
    },
    {
     "output_type": "stream",
     "name": "stdout",
     "text": [
      "IBS: 0.04\n"
     ]
    }
   ],
   "metadata": {}
  },
  {
   "cell_type": "markdown",
   "source": [
    "## Building model without idade"
   ],
   "metadata": {}
  },
  {
   "cell_type": "code",
   "execution_count": 32,
   "source": [
    "to_remove = ['idade']\n",
    "features = np.setdiff1d(features, to_remove).tolist()"
   ],
   "outputs": [],
   "metadata": {}
  },
  {
   "cell_type": "code",
   "execution_count": 33,
   "source": [
    "# Creating the X, T and E inputs\n",
    "X_train, X_test = df[features], data_test[features]\n",
    "T_train, T_test = df[time_column], data_test[time_column]\n",
    "E_train, E_test = df[event_column], data_test[event_column]"
   ],
   "outputs": [],
   "metadata": {}
  },
  {
   "cell_type": "code",
   "execution_count": 34,
   "source": [
    "csf = RandomSurvivalForestModel(num_trees=200)\n",
    "csf.fit(X_train, T_train, E_train, max_features='sqrt',\n",
    "        max_depth=5, min_node_size=20)"
   ],
   "outputs": [
    {
     "output_type": "execute_result",
     "data": {
      "text/plain": [
       "RandomSurvivalForestModel"
      ]
     },
     "metadata": {},
     "execution_count": 34
    }
   ],
   "metadata": {}
  },
  {
   "cell_type": "markdown",
   "source": [
    "### Features importance"
   ],
   "metadata": {}
  },
  {
   "cell_type": "code",
   "execution_count": 35,
   "source": [
    "csf.variable_importance_table"
   ],
   "outputs": [
    {
     "output_type": "execute_result",
     "data": {
      "text/plain": [
       "                        feature  importance  pct_importance\n",
       "0                       mesesUP   27.280415        0.278855\n",
       "1                    valorTotal   12.116921        0.123857\n",
       "2            anoUltimoPagamento   11.954303        0.122195\n",
       "3                   quotaMensal   10.489022        0.107217\n",
       "4                    jogosEpoca    6.295722        0.064354\n",
       "5          estadoCivil_solteiro    5.604325        0.057286\n",
       "6      escaloesTotalJogos_ate 1    4.967042        0.050772\n",
       "7   escaloesTotalJogos_56 a 105    4.889961        0.049984\n",
       "8    escaloesTotalJogos_21 a 56    4.859300        0.049671\n",
       "9                        sexo_M    4.437461        0.045359\n",
       "10  escaloesTotalJogos_mais 105    3.178340        0.032488\n",
       "11     estadoCivil_nao definido    1.757189        0.017962"
      ],
      "text/html": [
       "<div>\n",
       "<style scoped>\n",
       "    .dataframe tbody tr th:only-of-type {\n",
       "        vertical-align: middle;\n",
       "    }\n",
       "\n",
       "    .dataframe tbody tr th {\n",
       "        vertical-align: top;\n",
       "    }\n",
       "\n",
       "    .dataframe thead th {\n",
       "        text-align: right;\n",
       "    }\n",
       "</style>\n",
       "<table border=\"1\" class=\"dataframe\">\n",
       "  <thead>\n",
       "    <tr style=\"text-align: right;\">\n",
       "      <th></th>\n",
       "      <th>feature</th>\n",
       "      <th>importance</th>\n",
       "      <th>pct_importance</th>\n",
       "    </tr>\n",
       "  </thead>\n",
       "  <tbody>\n",
       "    <tr>\n",
       "      <th>0</th>\n",
       "      <td>mesesUP</td>\n",
       "      <td>27.280415</td>\n",
       "      <td>0.278855</td>\n",
       "    </tr>\n",
       "    <tr>\n",
       "      <th>1</th>\n",
       "      <td>valorTotal</td>\n",
       "      <td>12.116921</td>\n",
       "      <td>0.123857</td>\n",
       "    </tr>\n",
       "    <tr>\n",
       "      <th>2</th>\n",
       "      <td>anoUltimoPagamento</td>\n",
       "      <td>11.954303</td>\n",
       "      <td>0.122195</td>\n",
       "    </tr>\n",
       "    <tr>\n",
       "      <th>3</th>\n",
       "      <td>quotaMensal</td>\n",
       "      <td>10.489022</td>\n",
       "      <td>0.107217</td>\n",
       "    </tr>\n",
       "    <tr>\n",
       "      <th>4</th>\n",
       "      <td>jogosEpoca</td>\n",
       "      <td>6.295722</td>\n",
       "      <td>0.064354</td>\n",
       "    </tr>\n",
       "    <tr>\n",
       "      <th>5</th>\n",
       "      <td>estadoCivil_solteiro</td>\n",
       "      <td>5.604325</td>\n",
       "      <td>0.057286</td>\n",
       "    </tr>\n",
       "    <tr>\n",
       "      <th>6</th>\n",
       "      <td>escaloesTotalJogos_ate 1</td>\n",
       "      <td>4.967042</td>\n",
       "      <td>0.050772</td>\n",
       "    </tr>\n",
       "    <tr>\n",
       "      <th>7</th>\n",
       "      <td>escaloesTotalJogos_56 a 105</td>\n",
       "      <td>4.889961</td>\n",
       "      <td>0.049984</td>\n",
       "    </tr>\n",
       "    <tr>\n",
       "      <th>8</th>\n",
       "      <td>escaloesTotalJogos_21 a 56</td>\n",
       "      <td>4.859300</td>\n",
       "      <td>0.049671</td>\n",
       "    </tr>\n",
       "    <tr>\n",
       "      <th>9</th>\n",
       "      <td>sexo_M</td>\n",
       "      <td>4.437461</td>\n",
       "      <td>0.045359</td>\n",
       "    </tr>\n",
       "    <tr>\n",
       "      <th>10</th>\n",
       "      <td>escaloesTotalJogos_mais 105</td>\n",
       "      <td>3.178340</td>\n",
       "      <td>0.032488</td>\n",
       "    </tr>\n",
       "    <tr>\n",
       "      <th>11</th>\n",
       "      <td>estadoCivil_nao definido</td>\n",
       "      <td>1.757189</td>\n",
       "      <td>0.017962</td>\n",
       "    </tr>\n",
       "  </tbody>\n",
       "</table>\n",
       "</div>"
      ]
     },
     "metadata": {},
     "execution_count": 35
    }
   ],
   "metadata": {}
  },
  {
   "cell_type": "markdown",
   "source": [
    "### Model performance\n",
    "\n",
    "We are going to access the model performance using the training and test set. Previously defined.\n",
    " C-index close to 1, the model has an powerfull discriminatory; but if it is close to 0.5, it has no ability to discriminate between low and high risk subjects."
   ],
   "metadata": {}
  },
  {
   "cell_type": "markdown",
   "source": [
    "### C-index"
   ],
   "metadata": {}
  },
  {
   "cell_type": "code",
   "execution_count": 36,
   "source": [
    "from pysurvival.utils.metrics import concordance_index\n",
    "c_index = concordance_index(csf, X_test, T_test, E_test)\n",
    "print('C-index: {:.2f}'.format(c_index)) #0.83"
   ],
   "outputs": [
    {
     "output_type": "stream",
     "name": "stdout",
     "text": [
      "C-index: 0.95\n"
     ]
    }
   ],
   "metadata": {}
  },
  {
   "cell_type": "markdown",
   "source": [
    "### Brier Score"
   ],
   "metadata": {}
  },
  {
   "cell_type": "code",
   "execution_count": 37,
   "source": [
    "from pysurvival.utils.display import integrated_brier_score\n",
    "ibs = integrated_brier_score(csf, X_test, T_test, E_test, t_max=12,\n",
    "    figure_size=(12,5))\n",
    "print('IBS: {:.2f}'.format(ibs))"
   ],
   "outputs": [
    {
     "output_type": "display_data",
     "data": {
      "text/plain": [
       "<Figure size 864x360 with 1 Axes>"
      ],
      "image/png": "[encoded data removed]"
     },
     "metadata": {
      "needs_background": "light"
     }
    },
    {
     "output_type": "stream",
     "name": "stdout",
     "text": [
      "IBS: 0.04\n"
     ]
    }
   ],
   "metadata": {}
  },
  {
   "cell_type": "markdown",
   "source": [
    "# Predictions\n",
    "Lets compare the timeseries of actual and predicted customers who leave for each time t."
   ],
   "metadata": {
    "incorrectly_encoded_metadata": "toc-hr-collapsed=true toc-nb-collapsed=true"
   }
  },
  {
   "cell_type": "code",
   "execution_count": 38,
   "source": [
    "from pysurvival.utils.display import compare_to_actual\n",
    "results = compare_to_actual(csf, X_test, T_test, E_test, is_at_risk = False,  \n",
    "figure_size=(12, 5), metrics = ['rmse', 'mean', 'median'])"
   ],
   "outputs": [
    {
     "output_type": "display_data",
     "data": {
      "text/plain": [
       "<Figure size 864x360 with 1 Axes>"
      ],
      "image/png": "[encoded data removed]"
     },
     "metadata": {
      "needs_background": "light"
     }
    }
   ],
   "metadata": {}
  },
  {
   "cell_type": "markdown",
   "source": [
    "The model only makes an average absolute error of ~33 customers."
   ],
   "metadata": {}
  },
  {
   "cell_type": "markdown",
   "source": [
    "## Individual predictions\n",
    "Compute the probability of remaining a customer for all times t"
   ],
   "metadata": {}
  },
  {
   "cell_type": "code",
   "execution_count": 39,
   "source": [
    "from pysurvival.utils.display import create_risk_groups\n",
    "\n",
    "risk_groups = create_risk_groups(model=csf, X=X_test,\n",
    "    use_log = False, num_bins=30, figure_size=(20, 4))"
   ],
   "outputs": [
    {
     "output_type": "display_data",
     "data": {
      "text/plain": [
       "<Figure size 1440x288 with 1 Axes>"
      ],
      "image/png": "[encoded data removed]"
     },
     "metadata": {
      "needs_background": "light"
     }
    }
   ],
   "metadata": {}
  },
  {
   "cell_type": "markdown",
   "source": [
    "# Curvas de sobrevivência"
   ],
   "metadata": {}
  },
  {
   "cell_type": "code",
   "execution_count": 40,
   "source": [
    "def curvaSobrevivencia(dados,coluna):\n",
    "    ax = plt.subplot(111)\n",
    "    plt.rcParams['figure.figsize'] = [12, 5]\n",
    "    for item in dados[coluna].unique():\n",
    "        ix = dados[coluna] == item\n",
    "        kmf.fit(T.loc[ix], C.loc[ix], label=str(item))\n",
    "        ax = kmf.plot(ax=ax)"
   ],
   "outputs": [],
   "metadata": {}
  },
  {
   "cell_type": "markdown",
   "source": [
    "## Kaplan-Meier main curve"
   ],
   "metadata": {}
  },
  {
   "cell_type": "code",
   "execution_count": 41,
   "source": [
    "from lifelines import KaplanMeierFitter\n",
    "from lifelines.statistics import multivariate_logrank_test\n",
    "from lifelines.statistics import pairwise_logrank_test\n",
    "\n",
    "kmf = KaplanMeierFitter()\n",
    "T = dfCurvas['anosSocio']\n",
    "C = dfCurvas['abandonou']\n",
    "kmf.fit(T,C,label=\"Abandono dos sócios\");"
   ],
   "outputs": [],
   "metadata": {}
  },
  {
   "cell_type": "code",
   "execution_count": 42,
   "source": [
    "tabela=pd.concat([kmf.event_table.reset_index(), \n",
    "           kmf.conditional_time_to_event_.reset_index(),\n",
    "           kmf.survival_function_.reset_index()],axis=1)"
   ],
   "outputs": [],
   "metadata": {}
  },
  {
   "cell_type": "code",
   "execution_count": 43,
   "source": [
    "tabela.columns = ['event_at', 'removed', 'observed', 'censored', 'entrance', 'at_risk','timeline',\n",
    "                  'median duration remaining to event','timeline', 'Abandono dos sócios']"
   ],
   "outputs": [],
   "metadata": {}
  },
  {
   "cell_type": "code",
   "execution_count": 44,
   "source": [
    "tabela.head(12)"
   ],
   "outputs": [
    {
     "output_type": "execute_result",
     "data": {
      "text/plain": [
       "    event_at  removed  observed  censored  entrance  at_risk  timeline  \\\n",
       "0          0     1595         0      1595     25316    25316       0.0   \n",
       "1          1     1809         0      1809         0    23721       1.0   \n",
       "2          2     1132       261       871         0    21912       2.0   \n",
       "3          3     1019       318       701         0    20780       3.0   \n",
       "4          4      630       260       370         0    19761       4.0   \n",
       "5          5      827       264       563         0    19131       5.0   \n",
       "6          6     2111       534      1577         0    18304       6.0   \n",
       "7          7     1988       719      1269         0    16193       7.0   \n",
       "8          8     1942       652      1290         0    14205       8.0   \n",
       "9          9     1241       459       782         0    12263       9.0   \n",
       "10        10     1946       397      1549         0    11022      10.0   \n",
       "11        11      978       310       668         0     9076      11.0   \n",
       "\n",
       "    median duration remaining to event  timeline  Abandono dos sócios  \n",
       "0                                 48.0       0.0             1.000000  \n",
       "1                                 47.0       1.0             1.000000  \n",
       "2                                 47.0       2.0             0.988089  \n",
       "3                                 48.0       3.0             0.972968  \n",
       "4                                 47.0       4.0             0.960166  \n",
       "5                                 47.0       5.0             0.946916  \n",
       "6                                 48.0       6.0             0.919291  \n",
       "7                                 49.0       7.0             0.878473  \n",
       "8                                 48.0       8.0             0.838151  \n",
       "9                                 55.0       9.0             0.806780  \n",
       "10                                58.0      10.0             0.777720  \n",
       "11                                57.0      11.0             0.751157  "
      ],
      "text/html": [
       "<div>\n",
       "<style scoped>\n",
       "    .dataframe tbody tr th:only-of-type {\n",
       "        vertical-align: middle;\n",
       "    }\n",
       "\n",
       "    .dataframe tbody tr th {\n",
       "        vertical-align: top;\n",
       "    }\n",
       "\n",
       "    .dataframe thead th {\n",
       "        text-align: right;\n",
       "    }\n",
       "</style>\n",
       "<table border=\"1\" class=\"dataframe\">\n",
       "  <thead>\n",
       "    <tr style=\"text-align: right;\">\n",
       "      <th></th>\n",
       "      <th>event_at</th>\n",
       "      <th>removed</th>\n",
       "      <th>observed</th>\n",
       "      <th>censored</th>\n",
       "      <th>entrance</th>\n",
       "      <th>at_risk</th>\n",
       "      <th>timeline</th>\n",
       "      <th>median duration remaining to event</th>\n",
       "      <th>timeline</th>\n",
       "      <th>Abandono dos sócios</th>\n",
       "    </tr>\n",
       "  </thead>\n",
       "  <tbody>\n",
       "    <tr>\n",
       "      <th>0</th>\n",
       "      <td>0</td>\n",
       "      <td>1595</td>\n",
       "      <td>0</td>\n",
       "      <td>1595</td>\n",
       "      <td>25316</td>\n",
       "      <td>25316</td>\n",
       "      <td>0.0</td>\n",
       "      <td>48.0</td>\n",
       "      <td>0.0</td>\n",
       "      <td>1.000000</td>\n",
       "    </tr>\n",
       "    <tr>\n",
       "      <th>1</th>\n",
       "      <td>1</td>\n",
       "      <td>1809</td>\n",
       "      <td>0</td>\n",
       "      <td>1809</td>\n",
       "      <td>0</td>\n",
       "      <td>23721</td>\n",
       "      <td>1.0</td>\n",
       "      <td>47.0</td>\n",
       "      <td>1.0</td>\n",
       "      <td>1.000000</td>\n",
       "    </tr>\n",
       "    <tr>\n",
       "      <th>2</th>\n",
       "      <td>2</td>\n",
       "      <td>1132</td>\n",
       "      <td>261</td>\n",
       "      <td>871</td>\n",
       "      <td>0</td>\n",
       "      <td>21912</td>\n",
       "      <td>2.0</td>\n",
       "      <td>47.0</td>\n",
       "      <td>2.0</td>\n",
       "      <td>0.988089</td>\n",
       "    </tr>\n",
       "    <tr>\n",
       "      <th>3</th>\n",
       "      <td>3</td>\n",
       "      <td>1019</td>\n",
       "      <td>318</td>\n",
       "      <td>701</td>\n",
       "      <td>0</td>\n",
       "      <td>20780</td>\n",
       "      <td>3.0</td>\n",
       "      <td>48.0</td>\n",
       "      <td>3.0</td>\n",
       "      <td>0.972968</td>\n",
       "    </tr>\n",
       "    <tr>\n",
       "      <th>4</th>\n",
       "      <td>4</td>\n",
       "      <td>630</td>\n",
       "      <td>260</td>\n",
       "      <td>370</td>\n",
       "      <td>0</td>\n",
       "      <td>19761</td>\n",
       "      <td>4.0</td>\n",
       "      <td>47.0</td>\n",
       "      <td>4.0</td>\n",
       "      <td>0.960166</td>\n",
       "    </tr>\n",
       "    <tr>\n",
       "      <th>5</th>\n",
       "      <td>5</td>\n",
       "      <td>827</td>\n",
       "      <td>264</td>\n",
       "      <td>563</td>\n",
       "      <td>0</td>\n",
       "      <td>19131</td>\n",
       "      <td>5.0</td>\n",
       "      <td>47.0</td>\n",
       "      <td>5.0</td>\n",
       "      <td>0.946916</td>\n",
       "    </tr>\n",
       "    <tr>\n",
       "      <th>6</th>\n",
       "      <td>6</td>\n",
       "      <td>2111</td>\n",
       "      <td>534</td>\n",
       "      <td>1577</td>\n",
       "      <td>0</td>\n",
       "      <td>18304</td>\n",
       "      <td>6.0</td>\n",
       "      <td>48.0</td>\n",
       "      <td>6.0</td>\n",
       "      <td>0.919291</td>\n",
       "    </tr>\n",
       "    <tr>\n",
       "      <th>7</th>\n",
       "      <td>7</td>\n",
       "      <td>1988</td>\n",
       "      <td>719</td>\n",
       "      <td>1269</td>\n",
       "      <td>0</td>\n",
       "      <td>16193</td>\n",
       "      <td>7.0</td>\n",
       "      <td>49.0</td>\n",
       "      <td>7.0</td>\n",
       "      <td>0.878473</td>\n",
       "    </tr>\n",
       "    <tr>\n",
       "      <th>8</th>\n",
       "      <td>8</td>\n",
       "      <td>1942</td>\n",
       "      <td>652</td>\n",
       "      <td>1290</td>\n",
       "      <td>0</td>\n",
       "      <td>14205</td>\n",
       "      <td>8.0</td>\n",
       "      <td>48.0</td>\n",
       "      <td>8.0</td>\n",
       "      <td>0.838151</td>\n",
       "    </tr>\n",
       "    <tr>\n",
       "      <th>9</th>\n",
       "      <td>9</td>\n",
       "      <td>1241</td>\n",
       "      <td>459</td>\n",
       "      <td>782</td>\n",
       "      <td>0</td>\n",
       "      <td>12263</td>\n",
       "      <td>9.0</td>\n",
       "      <td>55.0</td>\n",
       "      <td>9.0</td>\n",
       "      <td>0.806780</td>\n",
       "    </tr>\n",
       "    <tr>\n",
       "      <th>10</th>\n",
       "      <td>10</td>\n",
       "      <td>1946</td>\n",
       "      <td>397</td>\n",
       "      <td>1549</td>\n",
       "      <td>0</td>\n",
       "      <td>11022</td>\n",
       "      <td>10.0</td>\n",
       "      <td>58.0</td>\n",
       "      <td>10.0</td>\n",
       "      <td>0.777720</td>\n",
       "    </tr>\n",
       "    <tr>\n",
       "      <th>11</th>\n",
       "      <td>11</td>\n",
       "      <td>978</td>\n",
       "      <td>310</td>\n",
       "      <td>668</td>\n",
       "      <td>0</td>\n",
       "      <td>9076</td>\n",
       "      <td>11.0</td>\n",
       "      <td>57.0</td>\n",
       "      <td>11.0</td>\n",
       "      <td>0.751157</td>\n",
       "    </tr>\n",
       "  </tbody>\n",
       "</table>\n",
       "</div>"
      ]
     },
     "metadata": {},
     "execution_count": 44
    }
   ],
   "metadata": {}
  },
  {
   "cell_type": "code",
   "execution_count": 45,
   "source": [
    "plt.rcParams['figure.figsize'] = [12, 5]\n",
    "\n",
    "kmf.plot();"
   ],
   "outputs": [
    {
     "output_type": "display_data",
     "data": {
      "text/plain": [
       "<Figure size 864x360 with 1 Axes>"
      ],
      "image/png": "[encoded data removed]"
     },
     "metadata": {
      "needs_background": "light"
     }
    }
   ],
   "metadata": {}
  },
  {
   "cell_type": "markdown",
   "source": [
    "## Por género"
   ],
   "metadata": {}
  },
  {
   "cell_type": "code",
   "execution_count": 46,
   "source": [
    "print(dfCurvas.sexo.value_counts())\n",
    "curvaSobrevivencia(dfCurvas,'sexo')"
   ],
   "outputs": [
    {
     "output_type": "stream",
     "name": "stdout",
     "text": [
      "M    17246\n",
      "F     8070\n",
      "Name: sexo, dtype: int64\n"
     ]
    },
    {
     "output_type": "display_data",
     "data": {
      "text/plain": [
       "<Figure size 864x360 with 1 Axes>"
      ],
      "image/png": "[encoded data removed]"
     },
     "metadata": {
      "needs_background": "light"
     }
    }
   ],
   "metadata": {}
  },
  {
   "cell_type": "code",
   "execution_count": 47,
   "source": [
    "results=multivariate_logrank_test(event_durations=T,groups=dfCurvas.sexo,event_observed=C)\n",
    "results.print_summary()"
   ],
   "outputs": [
    {
     "output_type": "display_data",
     "data": {
      "text/plain": [
       "<IPython.core.display.HTML object>"
      ],
      "text/html": [
       "<div>\n",
       "<style scoped>\n",
       "    .dataframe tbody tr th:only-of-type {\n",
       "        vertical-align: middle;\n",
       "    }\n",
       "\n",
       "    .dataframe tbody tr th {\n",
       "        vertical-align: top;\n",
       "    }\n",
       "\n",
       "    .dataframe thead th {\n",
       "        text-align: right;\n",
       "    }\n",
       "</style>\n",
       "<table border=\"1\" class=\"dataframe\">\n",
       "  <tbody>\n",
       "    <tr>\n",
       "      <th>t_0</th>\n",
       "      <td>-1</td>\n",
       "    </tr>\n",
       "    <tr>\n",
       "      <th>null_distribution</th>\n",
       "      <td>chi squared</td>\n",
       "    </tr>\n",
       "    <tr>\n",
       "      <th>degrees_of_freedom</th>\n",
       "      <td>1</td>\n",
       "    </tr>\n",
       "    <tr>\n",
       "      <th>test_name</th>\n",
       "      <td>multivariate_logrank_test</td>\n",
       "    </tr>\n",
       "  </tbody>\n",
       "</table>\n",
       "</div><table border=\"1\" class=\"dataframe\">\n",
       "  <thead>\n",
       "    <tr style=\"text-align: right;\">\n",
       "      <th></th>\n",
       "      <th>test_statistic</th>\n",
       "      <th>p</th>\n",
       "    </tr>\n",
       "  </thead>\n",
       "  <tbody>\n",
       "    <tr>\n",
       "      <th>0</th>\n",
       "      <td>194.63</td>\n",
       "      <td>&lt;0.005</td>\n",
       "    </tr>\n",
       "  </tbody>\n",
       "</table>"
      ]
     },
     "metadata": {}
    }
   ],
   "metadata": {}
  },
  {
   "cell_type": "code",
   "execution_count": 48,
   "source": [
    "results=pairwise_logrank_test(event_durations=T,groups=dfCurvas.sexo,event_observed=C)\n",
    "results.print_summary()"
   ],
   "outputs": [
    {
     "output_type": "display_data",
     "data": {
      "text/plain": [
       "<IPython.core.display.HTML object>"
      ],
      "text/html": [
       "<div>\n",
       "<style scoped>\n",
       "    .dataframe tbody tr th:only-of-type {\n",
       "        vertical-align: middle;\n",
       "    }\n",
       "\n",
       "    .dataframe tbody tr th {\n",
       "        vertical-align: top;\n",
       "    }\n",
       "\n",
       "    .dataframe thead th {\n",
       "        text-align: right;\n",
       "    }\n",
       "</style>\n",
       "<table border=\"1\" class=\"dataframe\">\n",
       "  <tbody>\n",
       "    <tr>\n",
       "      <th>t_0</th>\n",
       "      <td>-1</td>\n",
       "    </tr>\n",
       "    <tr>\n",
       "      <th>null_distribution</th>\n",
       "      <td>chi squared</td>\n",
       "    </tr>\n",
       "    <tr>\n",
       "      <th>degrees_of_freedom</th>\n",
       "      <td>1</td>\n",
       "    </tr>\n",
       "    <tr>\n",
       "      <th>test_name</th>\n",
       "      <td>logrank_test</td>\n",
       "    </tr>\n",
       "  </tbody>\n",
       "</table>\n",
       "</div><table border=\"1\" class=\"dataframe\">\n",
       "  <thead>\n",
       "    <tr style=\"text-align: right;\">\n",
       "      <th></th>\n",
       "      <th></th>\n",
       "      <th>test_statistic</th>\n",
       "      <th>p</th>\n",
       "    </tr>\n",
       "  </thead>\n",
       "  <tbody>\n",
       "    <tr>\n",
       "      <th>F</th>\n",
       "      <th>M</th>\n",
       "      <td>194.63</td>\n",
       "      <td>&lt;0.005</td>\n",
       "    </tr>\n",
       "  </tbody>\n",
       "</table>"
      ]
     },
     "metadata": {}
    }
   ],
   "metadata": {}
  },
  {
   "cell_type": "markdown",
   "source": [
    "## MesesUP"
   ],
   "metadata": {}
  },
  {
   "cell_type": "code",
   "execution_count": 49,
   "source": [
    "dfCurvas.mesesUP.describe()"
   ],
   "outputs": [
    {
     "output_type": "execute_result",
     "data": {
      "text/plain": [
       "count    25316.000000\n",
       "mean        18.814110\n",
       "std         32.498248\n",
       "min          0.000000\n",
       "25%          2.000000\n",
       "50%          4.000000\n",
       "75%         17.000000\n",
       "max        156.000000\n",
       "Name: mesesUP, dtype: float64"
      ]
     },
     "metadata": {},
     "execution_count": 49
    }
   ],
   "metadata": {}
  },
  {
   "cell_type": "code",
   "execution_count": 50,
   "source": [
    "var='mesesUP'\n",
    "varEscalao='escMesesUP'\n",
    "dfCurvas[varEscalao]=''\n",
    "for index, cliente in dfCurvas.iterrows():\n",
    "    #se a variável tiver o valor 1 colocar na nova variável a descrição da atividade\n",
    "    if cliente[var] <= 2: \n",
    "        dfCurvas.at[index,varEscalao]=var+' less than 2'\n",
    "    elif (cliente[var] > 2) & (cliente[var] <= 4):\n",
    "        dfCurvas.at[index,varEscalao]=var+' greather than 2 and less 4'\n",
    "    elif (cliente[var] > 4) & (cliente[var] <= 17):\n",
    "        dfCurvas.at[index,varEscalao]=var + ' greather than 4 and less 17'\n",
    "    elif (cliente[var] > 17):\n",
    "        dfCurvas.at[index,varEscalao]=var + ' greather than 17'"
   ],
   "outputs": [],
   "metadata": {}
  },
  {
   "cell_type": "code",
   "execution_count": 51,
   "source": [
    "dfCurvas.escMesesUP.value_counts()"
   ],
   "outputs": [
    {
     "output_type": "execute_result",
     "data": {
      "text/plain": [
       "mesesUP less than 2                    8814\n",
       "mesesUP greather than 17               6303\n",
       "mesesUP greather than 4 and less 17    5246\n",
       "mesesUP greather than 2 and less 4     4953\n",
       "Name: escMesesUP, dtype: int64"
      ]
     },
     "metadata": {},
     "execution_count": 51
    }
   ],
   "metadata": {}
  },
  {
   "cell_type": "code",
   "execution_count": 52,
   "source": [
    "curvaSobrevivencia(dfCurvas,varEscalao)"
   ],
   "outputs": [
    {
     "output_type": "display_data",
     "data": {
      "text/plain": [
       "<Figure size 864x360 with 1 Axes>"
      ],
      "image/png": "[encoded data removed]"
     },
     "metadata": {
      "needs_background": "light"
     }
    }
   ],
   "metadata": {}
  },
  {
   "cell_type": "code",
   "execution_count": 53,
   "source": [
    "results=multivariate_logrank_test(event_durations=T,groups=dfCurvas[varEscalao],event_observed=C)\n",
    "results.print_summary()"
   ],
   "outputs": [
    {
     "output_type": "display_data",
     "data": {
      "text/plain": [
       "<IPython.core.display.HTML object>"
      ],
      "text/html": [
       "<div>\n",
       "<style scoped>\n",
       "    .dataframe tbody tr th:only-of-type {\n",
       "        vertical-align: middle;\n",
       "    }\n",
       "\n",
       "    .dataframe tbody tr th {\n",
       "        vertical-align: top;\n",
       "    }\n",
       "\n",
       "    .dataframe thead th {\n",
       "        text-align: right;\n",
       "    }\n",
       "</style>\n",
       "<table border=\"1\" class=\"dataframe\">\n",
       "  <tbody>\n",
       "    <tr>\n",
       "      <th>t_0</th>\n",
       "      <td>-1</td>\n",
       "    </tr>\n",
       "    <tr>\n",
       "      <th>null_distribution</th>\n",
       "      <td>chi squared</td>\n",
       "    </tr>\n",
       "    <tr>\n",
       "      <th>degrees_of_freedom</th>\n",
       "      <td>3</td>\n",
       "    </tr>\n",
       "    <tr>\n",
       "      <th>test_name</th>\n",
       "      <td>multivariate_logrank_test</td>\n",
       "    </tr>\n",
       "  </tbody>\n",
       "</table>\n",
       "</div><table border=\"1\" class=\"dataframe\">\n",
       "  <thead>\n",
       "    <tr style=\"text-align: right;\">\n",
       "      <th></th>\n",
       "      <th>test_statistic</th>\n",
       "      <th>p</th>\n",
       "    </tr>\n",
       "  </thead>\n",
       "  <tbody>\n",
       "    <tr>\n",
       "      <th>0</th>\n",
       "      <td>19998.90</td>\n",
       "      <td>&lt;0.005</td>\n",
       "    </tr>\n",
       "  </tbody>\n",
       "</table>"
      ]
     },
     "metadata": {}
    }
   ],
   "metadata": {}
  },
  {
   "cell_type": "code",
   "execution_count": 54,
   "source": [
    "results=pairwise_logrank_test(event_durations=T,groups=dfCurvas[varEscalao],event_observed=C)\n",
    "results.print_summary()"
   ],
   "outputs": [
    {
     "output_type": "display_data",
     "data": {
      "text/plain": [
       "<IPython.core.display.HTML object>"
      ],
      "text/html": [
       "<div>\n",
       "<style scoped>\n",
       "    .dataframe tbody tr th:only-of-type {\n",
       "        vertical-align: middle;\n",
       "    }\n",
       "\n",
       "    .dataframe tbody tr th {\n",
       "        vertical-align: top;\n",
       "    }\n",
       "\n",
       "    .dataframe thead th {\n",
       "        text-align: right;\n",
       "    }\n",
       "</style>\n",
       "<table border=\"1\" class=\"dataframe\">\n",
       "  <tbody>\n",
       "    <tr>\n",
       "      <th>t_0</th>\n",
       "      <td>-1</td>\n",
       "    </tr>\n",
       "    <tr>\n",
       "      <th>null_distribution</th>\n",
       "      <td>chi squared</td>\n",
       "    </tr>\n",
       "    <tr>\n",
       "      <th>degrees_of_freedom</th>\n",
       "      <td>1</td>\n",
       "    </tr>\n",
       "    <tr>\n",
       "      <th>test_name</th>\n",
       "      <td>logrank_test</td>\n",
       "    </tr>\n",
       "  </tbody>\n",
       "</table>\n",
       "</div><table border=\"1\" class=\"dataframe\">\n",
       "  <thead>\n",
       "    <tr style=\"text-align: right;\">\n",
       "      <th></th>\n",
       "      <th></th>\n",
       "      <th>test_statistic</th>\n",
       "      <th>p</th>\n",
       "    </tr>\n",
       "  </thead>\n",
       "  <tbody>\n",
       "    <tr>\n",
       "      <th rowspan=\"3\" valign=\"top\">mesesUP greather than 17</th>\n",
       "      <th>mesesUP greather than 2 and less 4</th>\n",
       "      <td>6442.37</td>\n",
       "      <td>&lt;0.005</td>\n",
       "    </tr>\n",
       "    <tr>\n",
       "      <th>mesesUP greather than 4 and less 17</th>\n",
       "      <td>4353.19</td>\n",
       "      <td>&lt;0.005</td>\n",
       "    </tr>\n",
       "    <tr>\n",
       "      <th>mesesUP less than 2</th>\n",
       "      <td>10330.89</td>\n",
       "      <td>&lt;0.005</td>\n",
       "    </tr>\n",
       "    <tr>\n",
       "      <th rowspan=\"2\" valign=\"top\">mesesUP greather than 2 and less 4</th>\n",
       "      <th>mesesUP greather than 4 and less 17</th>\n",
       "      <td>0.00</td>\n",
       "      <td>1.00</td>\n",
       "    </tr>\n",
       "    <tr>\n",
       "      <th>mesesUP less than 2</th>\n",
       "      <td>0.00</td>\n",
       "      <td>1.00</td>\n",
       "    </tr>\n",
       "    <tr>\n",
       "      <th>mesesUP greather than 4 and less 17</th>\n",
       "      <th>mesesUP less than 2</th>\n",
       "      <td>0.00</td>\n",
       "      <td>1.00</td>\n",
       "    </tr>\n",
       "  </tbody>\n",
       "</table>"
      ]
     },
     "metadata": {}
    }
   ],
   "metadata": {}
  },
  {
   "cell_type": "markdown",
   "source": [
    "## ValorTotal"
   ],
   "metadata": {}
  },
  {
   "cell_type": "code",
   "execution_count": 55,
   "source": [
    "dfCurvas.valorTotal.describe()"
   ],
   "outputs": [
    {
     "output_type": "execute_result",
     "data": {
      "text/plain": [
       "count    25316.000000\n",
       "mean       316.037984\n",
       "std        493.971528\n",
       "min          0.000000\n",
       "25%          5.000000\n",
       "50%         53.000000\n",
       "75%        448.250000\n",
       "max       2602.000000\n",
       "Name: valorTotal, dtype: float64"
      ]
     },
     "metadata": {},
     "execution_count": 55
    }
   ],
   "metadata": {}
  },
  {
   "cell_type": "code",
   "execution_count": 56,
   "source": [
    "var='valorTotal'\n",
    "varEscalao='escValorTotal'\n",
    "dfCurvas[varEscalao]=''\n",
    "for index, cliente in dfCurvas.iterrows():\n",
    "    #se a variável tiver o valor 1 colocar na nova variável a descrição da atividade\n",
    "    if cliente[var] <= 5: \n",
    "        dfCurvas.at[index,varEscalao]=var+' less than 5'\n",
    "    elif (cliente[var] > 5) & (cliente[var] <= 53):\n",
    "        dfCurvas.at[index,varEscalao]=var+' greather than 5 and less 53'\n",
    "    elif (cliente[var] > 53) & (cliente[var] <= 448):\n",
    "        dfCurvas.at[index,varEscalao]=var + ' greather than 53 and less 448'\n",
    "    elif (cliente[var] > 448):\n",
    "        dfCurvas.at[index,varEscalao]=var + ' greather than 448'"
   ],
   "outputs": [],
   "metadata": {}
  },
  {
   "cell_type": "code",
   "execution_count": 57,
   "source": [
    "dfCurvas[varEscalao].value_counts()"
   ],
   "outputs": [
    {
     "output_type": "execute_result",
     "data": {
      "text/plain": [
       "valorTotal less than 5                      7060\n",
       "valorTotal greather than 448                6329\n",
       "valorTotal greather than 53 and less 448    6280\n",
       "valorTotal greather than 5 and less 53      5647\n",
       "Name: escValorTotal, dtype: int64"
      ]
     },
     "metadata": {},
     "execution_count": 57
    }
   ],
   "metadata": {}
  },
  {
   "cell_type": "code",
   "execution_count": 58,
   "source": [
    "curvaSobrevivencia(dfCurvas,varEscalao)"
   ],
   "outputs": [
    {
     "output_type": "display_data",
     "data": {
      "text/plain": [
       "<Figure size 864x360 with 1 Axes>"
      ],
      "image/png": "[encoded data removed]"
     },
     "metadata": {
      "needs_background": "light"
     }
    }
   ],
   "metadata": {}
  },
  {
   "cell_type": "code",
   "execution_count": 59,
   "source": [
    "results=multivariate_logrank_test(event_durations=T,groups=dfCurvas[varEscalao],event_observed=C)\n",
    "results.print_summary()"
   ],
   "outputs": [
    {
     "output_type": "display_data",
     "data": {
      "text/plain": [
       "<IPython.core.display.HTML object>"
      ],
      "text/html": [
       "<div>\n",
       "<style scoped>\n",
       "    .dataframe tbody tr th:only-of-type {\n",
       "        vertical-align: middle;\n",
       "    }\n",
       "\n",
       "    .dataframe tbody tr th {\n",
       "        vertical-align: top;\n",
       "    }\n",
       "\n",
       "    .dataframe thead th {\n",
       "        text-align: right;\n",
       "    }\n",
       "</style>\n",
       "<table border=\"1\" class=\"dataframe\">\n",
       "  <tbody>\n",
       "    <tr>\n",
       "      <th>t_0</th>\n",
       "      <td>-1</td>\n",
       "    </tr>\n",
       "    <tr>\n",
       "      <th>null_distribution</th>\n",
       "      <td>chi squared</td>\n",
       "    </tr>\n",
       "    <tr>\n",
       "      <th>degrees_of_freedom</th>\n",
       "      <td>3</td>\n",
       "    </tr>\n",
       "    <tr>\n",
       "      <th>test_name</th>\n",
       "      <td>multivariate_logrank_test</td>\n",
       "    </tr>\n",
       "  </tbody>\n",
       "</table>\n",
       "</div><table border=\"1\" class=\"dataframe\">\n",
       "  <thead>\n",
       "    <tr style=\"text-align: right;\">\n",
       "      <th></th>\n",
       "      <th>test_statistic</th>\n",
       "      <th>p</th>\n",
       "    </tr>\n",
       "  </thead>\n",
       "  <tbody>\n",
       "    <tr>\n",
       "      <th>0</th>\n",
       "      <td>9517.83</td>\n",
       "      <td>&lt;0.005</td>\n",
       "    </tr>\n",
       "  </tbody>\n",
       "</table>"
      ]
     },
     "metadata": {}
    }
   ],
   "metadata": {}
  },
  {
   "cell_type": "code",
   "execution_count": 60,
   "source": [
    "results=pairwise_logrank_test(event_durations=T,groups=dfCurvas[varEscalao],event_observed=C)\n",
    "results.print_summary()"
   ],
   "outputs": [
    {
     "output_type": "display_data",
     "data": {
      "text/plain": [
       "<IPython.core.display.HTML object>"
      ],
      "text/html": [
       "<div>\n",
       "<style scoped>\n",
       "    .dataframe tbody tr th:only-of-type {\n",
       "        vertical-align: middle;\n",
       "    }\n",
       "\n",
       "    .dataframe tbody tr th {\n",
       "        vertical-align: top;\n",
       "    }\n",
       "\n",
       "    .dataframe thead th {\n",
       "        text-align: right;\n",
       "    }\n",
       "</style>\n",
       "<table border=\"1\" class=\"dataframe\">\n",
       "  <tbody>\n",
       "    <tr>\n",
       "      <th>t_0</th>\n",
       "      <td>-1</td>\n",
       "    </tr>\n",
       "    <tr>\n",
       "      <th>null_distribution</th>\n",
       "      <td>chi squared</td>\n",
       "    </tr>\n",
       "    <tr>\n",
       "      <th>degrees_of_freedom</th>\n",
       "      <td>1</td>\n",
       "    </tr>\n",
       "    <tr>\n",
       "      <th>test_name</th>\n",
       "      <td>logrank_test</td>\n",
       "    </tr>\n",
       "  </tbody>\n",
       "</table>\n",
       "</div><table border=\"1\" class=\"dataframe\">\n",
       "  <thead>\n",
       "    <tr style=\"text-align: right;\">\n",
       "      <th></th>\n",
       "      <th></th>\n",
       "      <th>test_statistic</th>\n",
       "      <th>p</th>\n",
       "    </tr>\n",
       "  </thead>\n",
       "  <tbody>\n",
       "    <tr>\n",
       "      <th rowspan=\"3\" valign=\"top\">valorTotal greather than 448</th>\n",
       "      <th>valorTotal greather than 5 and less 53</th>\n",
       "      <td>8318.46</td>\n",
       "      <td>&lt;0.005</td>\n",
       "    </tr>\n",
       "    <tr>\n",
       "      <th>valorTotal greather than 53 and less 448</th>\n",
       "      <td>1527.15</td>\n",
       "      <td>&lt;0.005</td>\n",
       "    </tr>\n",
       "    <tr>\n",
       "      <th>valorTotal less than 5</th>\n",
       "      <td>3177.43</td>\n",
       "      <td>&lt;0.005</td>\n",
       "    </tr>\n",
       "    <tr>\n",
       "      <th rowspan=\"2\" valign=\"top\">valorTotal greather than 5 and less 53</th>\n",
       "      <th>valorTotal greather than 53 and less 448</th>\n",
       "      <td>2997.58</td>\n",
       "      <td>&lt;0.005</td>\n",
       "    </tr>\n",
       "    <tr>\n",
       "      <th>valorTotal less than 5</th>\n",
       "      <td>2005.35</td>\n",
       "      <td>&lt;0.005</td>\n",
       "    </tr>\n",
       "    <tr>\n",
       "      <th>valorTotal greather than 53 and less 448</th>\n",
       "      <th>valorTotal less than 5</th>\n",
       "      <td>274.05</td>\n",
       "      <td>&lt;0.005</td>\n",
       "    </tr>\n",
       "  </tbody>\n",
       "</table>"
      ]
     },
     "metadata": {}
    }
   ],
   "metadata": {}
  },
  {
   "cell_type": "markdown",
   "source": [
    "## quotaMensal"
   ],
   "metadata": {}
  },
  {
   "cell_type": "code",
   "execution_count": 61,
   "source": [
    "varEscalao='quotaMensal'\n",
    "dfCurvas[varEscalao].describe()"
   ],
   "outputs": [
    {
     "output_type": "execute_result",
     "data": {
      "text/plain": [
       "count    25316.000000\n",
       "mean         4.356099\n",
       "std          3.550837\n",
       "min          0.000000\n",
       "25%          1.000000\n",
       "50%          2.500000\n",
       "75%          6.000000\n",
       "max         10.000000\n",
       "Name: quotaMensal, dtype: float64"
      ]
     },
     "metadata": {},
     "execution_count": 61
    }
   ],
   "metadata": {}
  },
  {
   "cell_type": "code",
   "execution_count": 62,
   "source": [
    "dfCurvas[varEscalao].value_counts()"
   ],
   "outputs": [
    {
     "output_type": "execute_result",
     "data": {
      "text/plain": [
       "1.0     8016\n",
       "2.5     7168\n",
       "10.0    6126\n",
       "6.0     3123\n",
       "5.0      869\n",
       "0.0       14\n",
       "Name: quotaMensal, dtype: int64"
      ]
     },
     "metadata": {},
     "execution_count": 62
    }
   ],
   "metadata": {}
  },
  {
   "cell_type": "code",
   "execution_count": 63,
   "source": [
    "curvaSobrevivencia(dfCurvas,varEscalao)"
   ],
   "outputs": [
    {
     "output_type": "display_data",
     "data": {
      "text/plain": [
       "<Figure size 864x360 with 1 Axes>"
      ],
      "image/png": "[encoded data removed]"
     },
     "metadata": {
      "needs_background": "light"
     }
    }
   ],
   "metadata": {}
  },
  {
   "cell_type": "code",
   "execution_count": 64,
   "source": [
    "results=multivariate_logrank_test(event_durations=T,groups=dfCurvas[varEscalao],event_observed=C)\n",
    "results.print_summary()"
   ],
   "outputs": [
    {
     "output_type": "display_data",
     "data": {
      "text/plain": [
       "<IPython.core.display.HTML object>"
      ],
      "text/html": [
       "<div>\n",
       "<style scoped>\n",
       "    .dataframe tbody tr th:only-of-type {\n",
       "        vertical-align: middle;\n",
       "    }\n",
       "\n",
       "    .dataframe tbody tr th {\n",
       "        vertical-align: top;\n",
       "    }\n",
       "\n",
       "    .dataframe thead th {\n",
       "        text-align: right;\n",
       "    }\n",
       "</style>\n",
       "<table border=\"1\" class=\"dataframe\">\n",
       "  <tbody>\n",
       "    <tr>\n",
       "      <th>t_0</th>\n",
       "      <td>-1</td>\n",
       "    </tr>\n",
       "    <tr>\n",
       "      <th>null_distribution</th>\n",
       "      <td>chi squared</td>\n",
       "    </tr>\n",
       "    <tr>\n",
       "      <th>degrees_of_freedom</th>\n",
       "      <td>5</td>\n",
       "    </tr>\n",
       "    <tr>\n",
       "      <th>test_name</th>\n",
       "      <td>multivariate_logrank_test</td>\n",
       "    </tr>\n",
       "  </tbody>\n",
       "</table>\n",
       "</div><table border=\"1\" class=\"dataframe\">\n",
       "  <thead>\n",
       "    <tr style=\"text-align: right;\">\n",
       "      <th></th>\n",
       "      <th>test_statistic</th>\n",
       "      <th>p</th>\n",
       "    </tr>\n",
       "  </thead>\n",
       "  <tbody>\n",
       "    <tr>\n",
       "      <th>0</th>\n",
       "      <td>3373.68</td>\n",
       "      <td>&lt;0.005</td>\n",
       "    </tr>\n",
       "  </tbody>\n",
       "</table>"
      ]
     },
     "metadata": {}
    }
   ],
   "metadata": {}
  },
  {
   "cell_type": "code",
   "execution_count": 65,
   "source": [
    "results=pairwise_logrank_test(event_durations=T,groups=dfCurvas[varEscalao],event_observed=C)\n",
    "results.print_summary()"
   ],
   "outputs": [
    {
     "output_type": "display_data",
     "data": {
      "text/plain": [
       "<IPython.core.display.HTML object>"
      ],
      "text/html": [
       "<div>\n",
       "<style scoped>\n",
       "    .dataframe tbody tr th:only-of-type {\n",
       "        vertical-align: middle;\n",
       "    }\n",
       "\n",
       "    .dataframe tbody tr th {\n",
       "        vertical-align: top;\n",
       "    }\n",
       "\n",
       "    .dataframe thead th {\n",
       "        text-align: right;\n",
       "    }\n",
       "</style>\n",
       "<table border=\"1\" class=\"dataframe\">\n",
       "  <tbody>\n",
       "    <tr>\n",
       "      <th>t_0</th>\n",
       "      <td>-1</td>\n",
       "    </tr>\n",
       "    <tr>\n",
       "      <th>null_distribution</th>\n",
       "      <td>chi squared</td>\n",
       "    </tr>\n",
       "    <tr>\n",
       "      <th>degrees_of_freedom</th>\n",
       "      <td>1</td>\n",
       "    </tr>\n",
       "    <tr>\n",
       "      <th>test_name</th>\n",
       "      <td>logrank_test</td>\n",
       "    </tr>\n",
       "  </tbody>\n",
       "</table>\n",
       "</div><table border=\"1\" class=\"dataframe\">\n",
       "  <thead>\n",
       "    <tr style=\"text-align: right;\">\n",
       "      <th></th>\n",
       "      <th></th>\n",
       "      <th>test_statistic</th>\n",
       "      <th>p</th>\n",
       "    </tr>\n",
       "  </thead>\n",
       "  <tbody>\n",
       "    <tr>\n",
       "      <th rowspan=\"5\" valign=\"top\">0.0</th>\n",
       "      <th>1.0</th>\n",
       "      <td>0.84</td>\n",
       "      <td>0.36</td>\n",
       "    </tr>\n",
       "    <tr>\n",
       "      <th>2.5</th>\n",
       "      <td>0.73</td>\n",
       "      <td>0.39</td>\n",
       "    </tr>\n",
       "    <tr>\n",
       "      <th>5.0</th>\n",
       "      <td>76.73</td>\n",
       "      <td>&lt;0.005</td>\n",
       "    </tr>\n",
       "    <tr>\n",
       "      <th>6.0</th>\n",
       "      <td>19.48</td>\n",
       "      <td>&lt;0.005</td>\n",
       "    </tr>\n",
       "    <tr>\n",
       "      <th>10.0</th>\n",
       "      <td>53.94</td>\n",
       "      <td>&lt;0.005</td>\n",
       "    </tr>\n",
       "    <tr>\n",
       "      <th rowspan=\"4\" valign=\"top\">1.0</th>\n",
       "      <th>2.5</th>\n",
       "      <td>1031.08</td>\n",
       "      <td>&lt;0.005</td>\n",
       "    </tr>\n",
       "    <tr>\n",
       "      <th>5.0</th>\n",
       "      <td>653.86</td>\n",
       "      <td>&lt;0.005</td>\n",
       "    </tr>\n",
       "    <tr>\n",
       "      <th>6.0</th>\n",
       "      <td>846.92</td>\n",
       "      <td>&lt;0.005</td>\n",
       "    </tr>\n",
       "    <tr>\n",
       "      <th>10.0</th>\n",
       "      <td>2167.78</td>\n",
       "      <td>&lt;0.005</td>\n",
       "    </tr>\n",
       "    <tr>\n",
       "      <th rowspan=\"3\" valign=\"top\">2.5</th>\n",
       "      <th>5.0</th>\n",
       "      <td>340.21</td>\n",
       "      <td>&lt;0.005</td>\n",
       "    </tr>\n",
       "    <tr>\n",
       "      <th>6.0</th>\n",
       "      <td>178.33</td>\n",
       "      <td>&lt;0.005</td>\n",
       "    </tr>\n",
       "    <tr>\n",
       "      <th>10.0</th>\n",
       "      <td>957.33</td>\n",
       "      <td>&lt;0.005</td>\n",
       "    </tr>\n",
       "    <tr>\n",
       "      <th rowspan=\"2\" valign=\"top\">5.0</th>\n",
       "      <th>6.0</th>\n",
       "      <td>109.35</td>\n",
       "      <td>&lt;0.005</td>\n",
       "    </tr>\n",
       "    <tr>\n",
       "      <th>10.0</th>\n",
       "      <td>16.29</td>\n",
       "      <td>&lt;0.005</td>\n",
       "    </tr>\n",
       "    <tr>\n",
       "      <th>6.0</th>\n",
       "      <th>10.0</th>\n",
       "      <td>159.39</td>\n",
       "      <td>&lt;0.005</td>\n",
       "    </tr>\n",
       "  </tbody>\n",
       "</table>"
      ]
     },
     "metadata": {}
    }
   ],
   "metadata": {}
  },
  {
   "cell_type": "markdown",
   "source": [
    "## jogosEpoca"
   ],
   "metadata": {}
  },
  {
   "cell_type": "code",
   "execution_count": 66,
   "source": [
    "var='jogosEpoca'\n",
    "varEscalao='escJogosEpoca'\n",
    "dfCurvas[var].describe()"
   ],
   "outputs": [
    {
     "output_type": "execute_result",
     "data": {
      "text/plain": [
       "count    25316.000000\n",
       "mean         2.171631\n",
       "std          4.076356\n",
       "min          0.000000\n",
       "25%          0.000000\n",
       "50%          0.000000\n",
       "75%          2.000000\n",
       "max         16.000000\n",
       "Name: jogosEpoca, dtype: float64"
      ]
     },
     "metadata": {},
     "execution_count": 66
    }
   ],
   "metadata": {}
  },
  {
   "cell_type": "code",
   "execution_count": 67,
   "source": [
    "dfCurvas[varEscalao]=''\n",
    "for index, cliente in dfCurvas.iterrows():\n",
    "    #se a variável tiver o valor 1 colocar na nova variável a descrição da atividade\n",
    "    if cliente[var] <= 2: \n",
    "        dfCurvas.at[index,varEscalao]=var+' less than 2'\n",
    "    elif (cliente[var] > 2):\n",
    "        dfCurvas.at[index,varEscalao]=var + ' greather than 2'"
   ],
   "outputs": [],
   "metadata": {}
  },
  {
   "cell_type": "code",
   "execution_count": 68,
   "source": [
    "dfCurvas[varEscalao].value_counts()"
   ],
   "outputs": [
    {
     "output_type": "execute_result",
     "data": {
      "text/plain": [
       "jogosEpoca less than 2        19015\n",
       "jogosEpoca greather than 2     6301\n",
       "Name: escJogosEpoca, dtype: int64"
      ]
     },
     "metadata": {},
     "execution_count": 68
    }
   ],
   "metadata": {}
  },
  {
   "cell_type": "code",
   "execution_count": 69,
   "source": [
    "curvaSobrevivencia(dfCurvas,varEscalao)"
   ],
   "outputs": [
    {
     "output_type": "display_data",
     "data": {
      "text/plain": [
       "<Figure size 864x360 with 1 Axes>"
      ],
      "image/png": "[encoded data removed]"
     },
     "metadata": {
      "needs_background": "light"
     }
    }
   ],
   "metadata": {}
  },
  {
   "cell_type": "code",
   "execution_count": 70,
   "source": [
    "results=multivariate_logrank_test(event_durations=T,groups=dfCurvas[varEscalao],event_observed=C)\n",
    "results.print_summary()"
   ],
   "outputs": [
    {
     "output_type": "display_data",
     "data": {
      "text/plain": [
       "<IPython.core.display.HTML object>"
      ],
      "text/html": [
       "<div>\n",
       "<style scoped>\n",
       "    .dataframe tbody tr th:only-of-type {\n",
       "        vertical-align: middle;\n",
       "    }\n",
       "\n",
       "    .dataframe tbody tr th {\n",
       "        vertical-align: top;\n",
       "    }\n",
       "\n",
       "    .dataframe thead th {\n",
       "        text-align: right;\n",
       "    }\n",
       "</style>\n",
       "<table border=\"1\" class=\"dataframe\">\n",
       "  <tbody>\n",
       "    <tr>\n",
       "      <th>t_0</th>\n",
       "      <td>-1</td>\n",
       "    </tr>\n",
       "    <tr>\n",
       "      <th>null_distribution</th>\n",
       "      <td>chi squared</td>\n",
       "    </tr>\n",
       "    <tr>\n",
       "      <th>degrees_of_freedom</th>\n",
       "      <td>1</td>\n",
       "    </tr>\n",
       "    <tr>\n",
       "      <th>test_name</th>\n",
       "      <td>multivariate_logrank_test</td>\n",
       "    </tr>\n",
       "  </tbody>\n",
       "</table>\n",
       "</div><table border=\"1\" class=\"dataframe\">\n",
       "  <thead>\n",
       "    <tr style=\"text-align: right;\">\n",
       "      <th></th>\n",
       "      <th>test_statistic</th>\n",
       "      <th>p</th>\n",
       "    </tr>\n",
       "  </thead>\n",
       "  <tbody>\n",
       "    <tr>\n",
       "      <th>0</th>\n",
       "      <td>3270.33</td>\n",
       "      <td>&lt;0.005</td>\n",
       "    </tr>\n",
       "  </tbody>\n",
       "</table>"
      ]
     },
     "metadata": {}
    }
   ],
   "metadata": {}
  },
  {
   "cell_type": "code",
   "execution_count": 71,
   "source": [
    "results=pairwise_logrank_test(event_durations=T,groups=dfCurvas[varEscalao],event_observed=C)\n",
    "results.print_summary()"
   ],
   "outputs": [
    {
     "output_type": "display_data",
     "data": {
      "text/plain": [
       "<IPython.core.display.HTML object>"
      ],
      "text/html": [
       "<div>\n",
       "<style scoped>\n",
       "    .dataframe tbody tr th:only-of-type {\n",
       "        vertical-align: middle;\n",
       "    }\n",
       "\n",
       "    .dataframe tbody tr th {\n",
       "        vertical-align: top;\n",
       "    }\n",
       "\n",
       "    .dataframe thead th {\n",
       "        text-align: right;\n",
       "    }\n",
       "</style>\n",
       "<table border=\"1\" class=\"dataframe\">\n",
       "  <tbody>\n",
       "    <tr>\n",
       "      <th>t_0</th>\n",
       "      <td>-1</td>\n",
       "    </tr>\n",
       "    <tr>\n",
       "      <th>null_distribution</th>\n",
       "      <td>chi squared</td>\n",
       "    </tr>\n",
       "    <tr>\n",
       "      <th>degrees_of_freedom</th>\n",
       "      <td>1</td>\n",
       "    </tr>\n",
       "    <tr>\n",
       "      <th>test_name</th>\n",
       "      <td>logrank_test</td>\n",
       "    </tr>\n",
       "  </tbody>\n",
       "</table>\n",
       "</div><table border=\"1\" class=\"dataframe\">\n",
       "  <thead>\n",
       "    <tr style=\"text-align: right;\">\n",
       "      <th></th>\n",
       "      <th></th>\n",
       "      <th>test_statistic</th>\n",
       "      <th>p</th>\n",
       "    </tr>\n",
       "  </thead>\n",
       "  <tbody>\n",
       "    <tr>\n",
       "      <th>jogosEpoca greather than 2</th>\n",
       "      <th>jogosEpoca less than 2</th>\n",
       "      <td>3270.33</td>\n",
       "      <td>&lt;0.005</td>\n",
       "    </tr>\n",
       "  </tbody>\n",
       "</table>"
      ]
     },
     "metadata": {}
    }
   ],
   "metadata": {}
  },
  {
   "cell_type": "markdown",
   "source": [
    "## escalaoTotalJogos"
   ],
   "metadata": {}
  },
  {
   "cell_type": "code",
   "execution_count": 72,
   "source": [
    "var='escaloesTotalJogos'\n",
    "dfCurvas[var].describe()"
   ],
   "outputs": [
    {
     "output_type": "execute_result",
     "data": {
      "text/plain": [
       "count     25316\n",
       "unique        5\n",
       "top       ate 1\n",
       "freq      15155\n",
       "Name: escaloesTotalJogos, dtype: object"
      ]
     },
     "metadata": {},
     "execution_count": 72
    }
   ],
   "metadata": {}
  },
  {
   "cell_type": "code",
   "execution_count": 73,
   "source": [
    "dfCurvas[var].value_counts()"
   ],
   "outputs": [
    {
     "output_type": "execute_result",
     "data": {
      "text/plain": [
       "ate 1       15155\n",
       "1 a 21       2627\n",
       "mais 105     2527\n",
       "56 a 105     2519\n",
       "21 a 56      2488\n",
       "Name: escaloesTotalJogos, dtype: int64"
      ]
     },
     "metadata": {},
     "execution_count": 73
    }
   ],
   "metadata": {}
  },
  {
   "cell_type": "code",
   "execution_count": 74,
   "source": [
    "curvaSobrevivencia(dfCurvas,var)"
   ],
   "outputs": [
    {
     "output_type": "display_data",
     "data": {
      "text/plain": [
       "<Figure size 864x360 with 1 Axes>"
      ],
      "image/png": "[encoded data removed]"
     },
     "metadata": {
      "needs_background": "light"
     }
    }
   ],
   "metadata": {}
  },
  {
   "cell_type": "code",
   "execution_count": 75,
   "source": [
    "results=multivariate_logrank_test(event_durations=T,groups=dfCurvas[var],event_observed=C)\n",
    "results.print_summary()"
   ],
   "outputs": [
    {
     "output_type": "display_data",
     "data": {
      "text/plain": [
       "<IPython.core.display.HTML object>"
      ],
      "text/html": [
       "<div>\n",
       "<style scoped>\n",
       "    .dataframe tbody tr th:only-of-type {\n",
       "        vertical-align: middle;\n",
       "    }\n",
       "\n",
       "    .dataframe tbody tr th {\n",
       "        vertical-align: top;\n",
       "    }\n",
       "\n",
       "    .dataframe thead th {\n",
       "        text-align: right;\n",
       "    }\n",
       "</style>\n",
       "<table border=\"1\" class=\"dataframe\">\n",
       "  <tbody>\n",
       "    <tr>\n",
       "      <th>t_0</th>\n",
       "      <td>-1</td>\n",
       "    </tr>\n",
       "    <tr>\n",
       "      <th>null_distribution</th>\n",
       "      <td>chi squared</td>\n",
       "    </tr>\n",
       "    <tr>\n",
       "      <th>degrees_of_freedom</th>\n",
       "      <td>4</td>\n",
       "    </tr>\n",
       "    <tr>\n",
       "      <th>test_name</th>\n",
       "      <td>multivariate_logrank_test</td>\n",
       "    </tr>\n",
       "  </tbody>\n",
       "</table>\n",
       "</div><table border=\"1\" class=\"dataframe\">\n",
       "  <thead>\n",
       "    <tr style=\"text-align: right;\">\n",
       "      <th></th>\n",
       "      <th>test_statistic</th>\n",
       "      <th>p</th>\n",
       "    </tr>\n",
       "  </thead>\n",
       "  <tbody>\n",
       "    <tr>\n",
       "      <th>0</th>\n",
       "      <td>3147.50</td>\n",
       "      <td>&lt;0.005</td>\n",
       "    </tr>\n",
       "  </tbody>\n",
       "</table>"
      ]
     },
     "metadata": {}
    }
   ],
   "metadata": {}
  },
  {
   "cell_type": "code",
   "execution_count": 76,
   "source": [
    "results=pairwise_logrank_test(event_durations=T,groups=dfCurvas[var],event_observed=C)\n",
    "results.print_summary()"
   ],
   "outputs": [
    {
     "output_type": "display_data",
     "data": {
      "text/plain": [
       "<IPython.core.display.HTML object>"
      ],
      "text/html": [
       "<div>\n",
       "<style scoped>\n",
       "    .dataframe tbody tr th:only-of-type {\n",
       "        vertical-align: middle;\n",
       "    }\n",
       "\n",
       "    .dataframe tbody tr th {\n",
       "        vertical-align: top;\n",
       "    }\n",
       "\n",
       "    .dataframe thead th {\n",
       "        text-align: right;\n",
       "    }\n",
       "</style>\n",
       "<table border=\"1\" class=\"dataframe\">\n",
       "  <tbody>\n",
       "    <tr>\n",
       "      <th>t_0</th>\n",
       "      <td>-1</td>\n",
       "    </tr>\n",
       "    <tr>\n",
       "      <th>null_distribution</th>\n",
       "      <td>chi squared</td>\n",
       "    </tr>\n",
       "    <tr>\n",
       "      <th>degrees_of_freedom</th>\n",
       "      <td>1</td>\n",
       "    </tr>\n",
       "    <tr>\n",
       "      <th>test_name</th>\n",
       "      <td>logrank_test</td>\n",
       "    </tr>\n",
       "  </tbody>\n",
       "</table>\n",
       "</div><table border=\"1\" class=\"dataframe\">\n",
       "  <thead>\n",
       "    <tr style=\"text-align: right;\">\n",
       "      <th></th>\n",
       "      <th></th>\n",
       "      <th>test_statistic</th>\n",
       "      <th>p</th>\n",
       "    </tr>\n",
       "  </thead>\n",
       "  <tbody>\n",
       "    <tr>\n",
       "      <th rowspan=\"4\" valign=\"top\">1 a 21</th>\n",
       "      <th>21 a 56</th>\n",
       "      <td>159.95</td>\n",
       "      <td>&lt;0.005</td>\n",
       "    </tr>\n",
       "    <tr>\n",
       "      <th>56 a 105</th>\n",
       "      <td>816.39</td>\n",
       "      <td>&lt;0.005</td>\n",
       "    </tr>\n",
       "    <tr>\n",
       "      <th>ate 1</th>\n",
       "      <td>11.45</td>\n",
       "      <td>&lt;0.005</td>\n",
       "    </tr>\n",
       "    <tr>\n",
       "      <th>mais 105</th>\n",
       "      <td>1574.87</td>\n",
       "      <td>&lt;0.005</td>\n",
       "    </tr>\n",
       "    <tr>\n",
       "      <th rowspan=\"3\" valign=\"top\">21 a 56</th>\n",
       "      <th>56 a 105</th>\n",
       "      <td>279.88</td>\n",
       "      <td>&lt;0.005</td>\n",
       "    </tr>\n",
       "    <tr>\n",
       "      <th>ate 1</th>\n",
       "      <td>361.25</td>\n",
       "      <td>&lt;0.005</td>\n",
       "    </tr>\n",
       "    <tr>\n",
       "      <th>mais 105</th>\n",
       "      <td>851.98</td>\n",
       "      <td>&lt;0.005</td>\n",
       "    </tr>\n",
       "    <tr>\n",
       "      <th rowspan=\"2\" valign=\"top\">56 a 105</th>\n",
       "      <th>ate 1</th>\n",
       "      <td>1204.15</td>\n",
       "      <td>&lt;0.005</td>\n",
       "    </tr>\n",
       "    <tr>\n",
       "      <th>mais 105</th>\n",
       "      <td>217.91</td>\n",
       "      <td>&lt;0.005</td>\n",
       "    </tr>\n",
       "    <tr>\n",
       "      <th>ate 1</th>\n",
       "      <th>mais 105</th>\n",
       "      <td>1894.32</td>\n",
       "      <td>&lt;0.005</td>\n",
       "    </tr>\n",
       "  </tbody>\n",
       "</table>"
      ]
     },
     "metadata": {}
    }
   ],
   "metadata": {}
  },
  {
   "cell_type": "markdown",
   "source": [
    "## estadoCivil"
   ],
   "metadata": {}
  },
  {
   "cell_type": "code",
   "execution_count": 77,
   "source": [
    "var='estadoCivil'\n",
    "dfCurvas[var].describe()"
   ],
   "outputs": [
    {
     "output_type": "execute_result",
     "data": {
      "text/plain": [
       "count        25316\n",
       "unique           4\n",
       "top       solteiro\n",
       "freq         12065\n",
       "Name: estadoCivil, dtype: object"
      ]
     },
     "metadata": {},
     "execution_count": 77
    }
   ],
   "metadata": {}
  },
  {
   "cell_type": "code",
   "execution_count": 78,
   "source": [
    "dfCurvas[var].value_counts()"
   ],
   "outputs": [
    {
     "output_type": "execute_result",
     "data": {
      "text/plain": [
       "solteiro        12065\n",
       "nao definido     7667\n",
       "casado           5085\n",
       "outro             499\n",
       "Name: estadoCivil, dtype: int64"
      ]
     },
     "metadata": {},
     "execution_count": 78
    }
   ],
   "metadata": {}
  },
  {
   "cell_type": "code",
   "execution_count": 79,
   "source": [
    "curvaSobrevivencia(dfCurvas,var)"
   ],
   "outputs": [
    {
     "output_type": "display_data",
     "data": {
      "text/plain": [
       "<Figure size 864x360 with 1 Axes>"
      ],
      "image/png": "[encoded data removed]"
     },
     "metadata": {
      "needs_background": "light"
     }
    }
   ],
   "metadata": {}
  },
  {
   "cell_type": "code",
   "execution_count": 80,
   "source": [
    "results=multivariate_logrank_test(event_durations=T,groups=dfCurvas[var],event_observed=C)\n",
    "results.print_summary"
   ],
   "outputs": [
    {
     "output_type": "execute_result",
     "data": {
      "text/plain": [
       "<bound method StatisticalResult.print_summary of <lifelines.StatisticalResult: multivariate_logrank_test>>"
      ]
     },
     "metadata": {},
     "execution_count": 80
    }
   ],
   "metadata": {}
  },
  {
   "cell_type": "code",
   "execution_count": 81,
   "source": [
    "results=pairwise_logrank_test(event_durations=T,groups=dfCurvas[var],event_observed=C)\n",
    "results.print_summary()"
   ],
   "outputs": [
    {
     "output_type": "display_data",
     "data": {
      "text/plain": [
       "<IPython.core.display.HTML object>"
      ],
      "text/html": [
       "<div>\n",
       "<style scoped>\n",
       "    .dataframe tbody tr th:only-of-type {\n",
       "        vertical-align: middle;\n",
       "    }\n",
       "\n",
       "    .dataframe tbody tr th {\n",
       "        vertical-align: top;\n",
       "    }\n",
       "\n",
       "    .dataframe thead th {\n",
       "        text-align: right;\n",
       "    }\n",
       "</style>\n",
       "<table border=\"1\" class=\"dataframe\">\n",
       "  <tbody>\n",
       "    <tr>\n",
       "      <th>t_0</th>\n",
       "      <td>-1</td>\n",
       "    </tr>\n",
       "    <tr>\n",
       "      <th>null_distribution</th>\n",
       "      <td>chi squared</td>\n",
       "    </tr>\n",
       "    <tr>\n",
       "      <th>degrees_of_freedom</th>\n",
       "      <td>1</td>\n",
       "    </tr>\n",
       "    <tr>\n",
       "      <th>test_name</th>\n",
       "      <td>logrank_test</td>\n",
       "    </tr>\n",
       "  </tbody>\n",
       "</table>\n",
       "</div><table border=\"1\" class=\"dataframe\">\n",
       "  <thead>\n",
       "    <tr style=\"text-align: right;\">\n",
       "      <th></th>\n",
       "      <th></th>\n",
       "      <th>test_statistic</th>\n",
       "      <th>p</th>\n",
       "    </tr>\n",
       "  </thead>\n",
       "  <tbody>\n",
       "    <tr>\n",
       "      <th rowspan=\"3\" valign=\"top\">casado</th>\n",
       "      <th>nao definido</th>\n",
       "      <td>1387.59</td>\n",
       "      <td>&lt;0.005</td>\n",
       "    </tr>\n",
       "    <tr>\n",
       "      <th>outro</th>\n",
       "      <td>16.82</td>\n",
       "      <td>&lt;0.005</td>\n",
       "    </tr>\n",
       "    <tr>\n",
       "      <th>solteiro</th>\n",
       "      <td>763.13</td>\n",
       "      <td>&lt;0.005</td>\n",
       "    </tr>\n",
       "    <tr>\n",
       "      <th rowspan=\"2\" valign=\"top\">nao definido</th>\n",
       "      <th>outro</th>\n",
       "      <td>84.70</td>\n",
       "      <td>&lt;0.005</td>\n",
       "    </tr>\n",
       "    <tr>\n",
       "      <th>solteiro</th>\n",
       "      <td>86.34</td>\n",
       "      <td>&lt;0.005</td>\n",
       "    </tr>\n",
       "    <tr>\n",
       "      <th>outro</th>\n",
       "      <th>solteiro</th>\n",
       "      <td>35.30</td>\n",
       "      <td>&lt;0.005</td>\n",
       "    </tr>\n",
       "  </tbody>\n",
       "</table>"
      ]
     },
     "metadata": {}
    }
   ],
   "metadata": {}
  }
 ],
 "metadata": {
  "kernelspec": {
   "display_name": "Python 3",
   "language": "python",
   "name": "python3"
  },
  "language_info": {
   "codemirror_mode": {
    "name": "ipython",
    "version": 3
   },
   "file_extension": ".py",
   "mimetype": "text/x-python",
   "name": "python",
   "nbconvert_exporter": "python",
   "pygments_lexer": "ipython3",
   "version": "3.8.5"
  },
  "toc-autonumbering": true,
  "toc-showtags": false
 },
 "nbformat": 4,
 "nbformat_minor": 4
}